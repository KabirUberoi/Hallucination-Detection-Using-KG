{
 "cells": [
  {
   "cell_type": "code",
   "execution_count": 1,
   "metadata": {},
   "outputs": [
    {
     "name": "stderr",
     "output_type": "stream",
     "text": [
      "/opt/miniconda3/envs/myenv/lib/python3.9/site-packages/requests/__init__.py:86: RequestsDependencyWarning: Unable to find acceptable character detection dependency (chardet or charset_normalizer).\n",
      "  warnings.warn(\n",
      "/opt/miniconda3/envs/myenv/lib/python3.9/site-packages/huggingface_hub/file_download.py:1132: FutureWarning: `resume_download` is deprecated and will be removed in version 1.0.0. Downloads always resume when possible. If you want to force a new download, use `force_download=True`.\n",
      "  warnings.warn(\n",
      "07/02/2024 16:20:50 - INFO - \t missing_keys: []\n",
      "07/02/2024 16:20:50 - INFO - \t unexpected_keys: []\n",
      "07/02/2024 16:20:50 - INFO - \t mismatched_keys: []\n",
      "07/02/2024 16:20:50 - INFO - \t error_msgs: []\n",
      "07/02/2024 16:20:50 - INFO - \t Model Parameters: 590.0M, Transformer: 434.6M, Coref head: 155.4M\n"
     ]
    }
   ],
   "source": [
    "import spacy\n",
    "from spacy.tokens import Doc, Span\n",
    "nlp = spacy.load('en_core_web_sm')\n",
    "nlp.add_pipe('dbpedia_spotlight', config={'confidence': 0.5})\n",
    "preprocessing = spacy.load('en_core_web_sm')\n",
    "from fastcoref import LingMessCoref\n",
    "coref_model = LingMessCoref()\n",
    "from SPARQLWrapper import SPARQLWrapper, JSON\n",
    "from datasets import load_dataset\n",
    "dataset = load_dataset(\"potsawee/wiki_bio_gpt3_hallucination\")\n",
    "import os\n",
    "from tqdm.notebook import tqdm\n",
    "import concurrent.futures\n",
    "import re\n",
    "import requests\n",
    "import pandas as pd"
   ]
  },
  {
   "cell_type": "code",
   "execution_count": 2,
   "metadata": {},
   "outputs": [
    {
     "name": "stderr",
     "output_type": "stream",
     "text": [
      "07/02/2024 16:21:20 - INFO - \t Use pytorch device_name: mps\n",
      "07/02/2024 16:21:20 - INFO - \t Load pretrained SentenceTransformer: all-mpnet-base-v2\n",
      "/opt/miniconda3/envs/myenv/lib/python3.9/site-packages/huggingface_hub/file_download.py:1132: FutureWarning: `resume_download` is deprecated and will be removed in version 1.0.0. Downloads always resume when possible. If you want to force a new download, use `force_download=True`.\n",
      "  warnings.warn(\n"
     ]
    }
   ],
   "source": [
    "from sentence_transformers import SentenceTransformer\n",
    "model = SentenceTransformer(\"all-mpnet-base-v2\")"
   ]
  },
  {
   "cell_type": "code",
   "execution_count": 3,
   "metadata": {},
   "outputs": [],
   "source": [
    "import numpy as np\n",
    "from urllib.parse import urlparse"
   ]
  },
  {
   "cell_type": "markdown",
   "metadata": {},
   "source": [
    "# Coreference Resolution"
   ]
  },
  {
   "cell_type": "code",
   "execution_count": 5,
   "metadata": {},
   "outputs": [],
   "source": [
    "\n",
    "def get_cluster_spans(doc, clusters):\n",
    "    fast_clusters = []\n",
    "    for cluster in clusters:\n",
    "        new_group = []\n",
    "        for start, end in cluster:\n",
    "            span = doc.char_span(start, end)\n",
    "            if span is not None:\n",
    "                new_group.append([span.start, span.end - 1])\n",
    "        fast_clusters.append(new_group)\n",
    "    return fast_clusters\n",
    "\n",
    "def get_clusters(doc, text):\n",
    "    preds = coref_model.predict(texts=[text])\n",
    "    # print(f\"\\nThe clusters of same entities are as follows: {preds[0].get_clusters(as_strings=True)} \\n\")\n",
    "    clusters = preds[0].get_clusters(as_strings=False)\n",
    "    cluster_spans = get_cluster_spans(doc, clusters)\n",
    "    return cluster_spans\n",
    "\n",
    "def get_span_noun_indices(doc, cluster):    \n",
    "    spans = [doc[start:end+1] for start, end in cluster]\n",
    "\n",
    "    spans_pos = []\n",
    "    for span in spans:\n",
    "        pos_tags = [token.pos_ for token in span]\n",
    "        spans_pos.append(pos_tags)\n",
    "\n",
    "    noun_indices = []\n",
    "    for i, pos_list in enumerate(spans_pos):\n",
    "        if 'NOUN' in pos_list or 'PROPN' in pos_list:\n",
    "            noun_indices.append(i)\n",
    "    return noun_indices\n",
    "\n",
    "def get_cluster_head(doc, cluster, noun_indices):\n",
    "    head_idx = noun_indices[0]\n",
    "    head_start, head_end = cluster[head_idx]\n",
    "    head_span = doc[head_start:head_end+1]\n",
    "    return head_span, [head_start, head_end]\n",
    "\n",
    "def is_containing_other_spans(span, all_spans):\n",
    "    for s in all_spans:\n",
    "        if s[0] >= span[0] and s[1] <= span[1] and s != span:\n",
    "            return True  \n",
    "    return False\n",
    "\n",
    "def replacement(coref, resolved, mention_span):\n",
    "    start, end = coref\n",
    "    mention_text = mention_span.text_with_ws + \" \"\n",
    "    resolved[start] = mention_text\n",
    "    for i in range(start + 1, end + 1):\n",
    "        resolved[i] = \"\"\n",
    "    return resolved\n",
    "\n",
    "def replace_corefs(document, clusters):\n",
    "    resolved = [token.text_with_ws for token in document]\n",
    "    all_spans = [span for cluster in clusters for span in cluster]\n",
    "\n",
    "    for cluster in clusters:\n",
    "        noun_indices = get_span_noun_indices(document, cluster)\n",
    "\n",
    "        if noun_indices:\n",
    "            mention_span, mention = get_cluster_head(document, cluster, noun_indices)\n",
    "        else:\n",
    "            start, end = cluster[0]\n",
    "            mention_span = document[start:end+1]\n",
    "            mention = cluster[0]\n",
    "            \n",
    "        for coref in cluster:\n",
    "            resolved = replacement(coref, resolved, mention_span)\n",
    "\n",
    "    \n",
    "    return (\"\".join(resolved))\n",
    "\n",
    "\n",
    "def coreference_resolution(text):\n",
    "    doc = nlp(text)\n",
    "    clusters = get_clusters(doc, text) \n",
    "    answer= replace_corefs(doc, clusters) \n",
    "    return answer"
   ]
  },
  {
   "cell_type": "markdown",
   "metadata": {},
   "source": [
    "# Pre-Processing"
   ]
  },
  {
   "cell_type": "code",
   "execution_count": 6,
   "metadata": {},
   "outputs": [],
   "source": [
    "def is_three_word_name(entity):\n",
    "    return len(entity.text.split()) >= 3 and entity.label_ == \"PERSON\""
   ]
  },
  {
   "cell_type": "code",
   "execution_count": 7,
   "metadata": {},
   "outputs": [],
   "source": [
    "def replace_three_worded_names(text):\n",
    "    doc = preprocessing(text)\n",
    "    new_text = text\n",
    "    \n",
    "    for entity in doc.ents:\n",
    "        if is_three_word_name(entity):\n",
    "            words = entity.text.split()\n",
    "            new_name = f\"{words[0]} {words[-1]}\"\n",
    "            new_text = new_text.replace(entity.text, new_name)\n",
    "    return new_text"
   ]
  },
  {
   "cell_type": "code",
   "execution_count": 8,
   "metadata": {},
   "outputs": [],
   "source": [
    "def preprocess_text(text): \n",
    "    # text = replace_three_worded_names(text) \n",
    "    text = re.sub(r'[^\\w\\s.,()\\'\"\\-]', ' ', text)\n",
    "    text = re.sub(r'\\s+', ' ', text)\n",
    "    text = re.sub(r\"(['\\\"])\\1+\", r\"\\1\", text)\n",
    "    # preprocessed_text = coreference_resolution(text)\n",
    "    return text"
   ]
  },
  {
   "cell_type": "markdown",
   "metadata": {},
   "source": [
    "# Spotlight Based System"
   ]
  },
  {
   "cell_type": "markdown",
   "metadata": {},
   "source": [
    "## Sentence Based Link Making"
   ]
  },
  {
   "cell_type": "code",
   "execution_count": null,
   "metadata": {},
   "outputs": [],
   "source": [
    "def get_sentence_based_links(text):\n",
    "    final_text = coreference_resolution(text)\n",
    "    doc = nlp(final_text)\n",
    "    final_sents = [sents for sents in doc.sents]\n",
    "    # entities = list(doc.ents)\n",
    "    # print(\"Entities found by spaCy:\", entities)\n",
    "    \n",
    "    subjects = []\n",
    "    subject_set = set([])\n",
    "    for sent in doc.sents:\n",
    "        found_subject = False\n",
    "        for token in sent:\n",
    "            # print(f\"{token},{token.dep_}\")\n",
    "            if token.dep_ in ['nsubj', 'nsubjpass'] and token.ent_kb_id_:\n",
    "                subjects.append(token.ent_kb_id_)\n",
    "                subject_set.add(token.ent_kb_id_)\n",
    "                found_subject = True\n",
    "                break\n",
    "\n",
    "        if not found_subject:\n",
    "            subjects.append(None)\n",
    "    (\"Subjects identified:\", subjects)\n",
    "    \n",
    "    sentence_forms = []\n",
    "    for sent in doc.sents:\n",
    "        entities = [(ent.text, ent.start, ent.end) for ent in sent.ents]\n",
    "        sentence_forms.append(entities)\n",
    "    # print(\"Entities in each sentence:\", sentence_forms)\n",
    "    \n",
    "    # print(subjects)\n",
    "    \n",
    "    pairs = []\n",
    "    count = 0\n",
    "    for i in range(len(sentence_forms)):\n",
    "        tmp_storage = []\n",
    "        if subjects[i] is not None and len(sentence_forms[i]) > 1:\n",
    "            for entity, ent_start, ent_end in sentence_forms[i]:\n",
    "                check_sub = False\n",
    "                for token in doc[ent_start:ent_end]:\n",
    "                    if token.dep_ in ['nsubj', 'nsubjpass']:\n",
    "                        check_sub = True\n",
    "                        break\n",
    "                if check_sub == True:\n",
    "                    continue\n",
    "                tmp_storage.append([subjects[i], entity])\n",
    "                count += 1\n",
    "        pairs.append(tmp_storage)\n",
    "    print(f\"The number of pairs is: {count}\\n\")\n",
    "    \n",
    "    return pairs, final_sents, subject_set"
   ]
  },
  {
   "cell_type": "code",
   "execution_count": null,
   "metadata": {},
   "outputs": [],
   "source": [
    "def get_sentence_based_links(text):\n",
    "    final_text = coreference_resolution(text)\n",
    "    doc = nlp(final_text)\n",
    "    final_sents = [sents for sents in doc.sents]\n",
    "    # entities = list(doc.ents)\n",
    "    # print(\"Entities found by spaCy:\", entities)\n",
    "    \n",
    "    subjects = []\n",
    "    subject_set = set([])\n",
    "    for sent in doc.sents:\n",
    "        found_subject = False\n",
    "        for token in sent:\n",
    "            # print(f\"{token},{token.dep_}\")\n",
    "            if token.dep_ in ['nsubj', 'nsubjpass'] and token.ent_kb_id_:\n",
    "                subjects.append(token.ent_kb_id_)\n",
    "                subject_set.add(token.ent_kb_id_)\n",
    "                found_subject = True\n",
    "                break\n",
    "\n",
    "        if not found_subject:\n",
    "            subjects.append(None)\n",
    "    (\"Subjects identified:\", subjects)\n",
    "    \n",
    "    new_doc = preprocessing(final_text)\n",
    "    sentence_forms = []\n",
    "    for sent in new_doc.sents:\n",
    "        entities = [(ent.text, ent.start, ent.end) for ent in sent.ents]\n",
    "        sentence_forms.append(entities)\n",
    "    \n",
    "    # print(\"Entities in each sentence:\", sentence_forms)\n",
    "    \n",
    "    # print(subjects)\n",
    "    \n",
    "    pairs = []\n",
    "    count = 0\n",
    "    for i in range(len(sentence_forms)):\n",
    "        tmp_storage = []\n",
    "        if subjects[i] is not None and len(sentence_forms[i]) > 1:\n",
    "            for entity, ent_start, ent_end in sentence_forms[i]:\n",
    "                check_sub = False\n",
    "                for token in new_doc[ent_start:ent_end]:\n",
    "                    # print(f\"{token} and {token.dep_}\")\n",
    "                    if token.dep_ in ['nsubj', 'nsubjpass']:\n",
    "                        check_sub = True\n",
    "                        break\n",
    "                if check_sub == True:\n",
    "                    continue\n",
    "                tmp_storage.append([subjects[i], entity])\n",
    "                count += 1\n",
    "        pairs.append(tmp_storage)\n",
    "    print(f\"The number of pairs is: {count}\\n\")\n",
    "    \n",
    "    return pairs, final_sents, subject_set"
   ]
  },
  {
   "cell_type": "code",
   "execution_count": null,
   "metadata": {},
   "outputs": [],
   "source": [
    "text = \"\"\"Wilhelm Windelband (May 11, 1848 - October 22, 1915) was a German philosopher of the Baden School. Wilhelm Windelband is now mainly remembered for the terms \"nomothetic\" and \"idiographic\", which Wilhelm Windelband introduced. the terms \"nomothetic\" and \"idiographic\", which he introducedhave currency in psychology and other areas, though not necessarily in line with Wilhelm Windelband original meanings. Wilhelm Windelband was a Neo-Kantian who protested other Neo-Kantians of Wilhelm Windelband time and maintained that \"to understand Kant rightly means to go beyond Kant \". Against Wilhelm Windelband positivist contemporaries, Wilhelm Windelband argued that philosophy should engage in humanistic dialogue with the natural sciences rather than uncritically appropriating the natural sciences methodologies. Wilhelm Windelband interests in psychology and cultural sciences represented an opposition to psychologism and historicism schools by a critical philosophic system. Wilhelm Windelband relied in Wilhelm Windelband effort to reach beyond Kant on such philosophers as Georg Wilhelm Friedrich Hegel, Johann Friedrich Herbart, and Hermann Lotze. Closely associated with Wilhelm Windelband was Heinrich Rickert. Wilhelm Windelband disciples were not only noted philosophers, but sociologists like Max Weber and theologians like Ernst Troeltsch and Albert Schweitzer.\"\"\"\n",
    "pairs, final_sents, subject_set = (get_sentence_based_links(text))\n",
    "print(pairs)"
   ]
  },
  {
   "cell_type": "markdown",
   "metadata": {},
   "source": [
    "## Making Direct Subject Link Embeddings"
   ]
  },
  {
   "cell_type": "code",
   "execution_count": null,
   "metadata": {},
   "outputs": [],
   "source": [
    "def subjects_direct_links(subjects_set):\n",
    "    subject_direct_dict = {}\n",
    "    for subj in subjects_set:\n",
    "        sparql = SPARQLWrapper(\"https://dbpedia.org/sparql\")\n",
    "        sparql.setMethod('POST')  \n",
    "\n",
    "        # Dynamically insert the subject into the query\n",
    "        query_source_to_target = f\"\"\"\n",
    "        PREFIX rdfs: <http://www.w3.org/2000/01/rdf-schema#>\n",
    "        PREFIX dbo: <http://dbpedia.org/ontology/>\n",
    "        PREFIX dbr: <http://dbpedia.org/resource/>\n",
    "\n",
    "        SELECT DISTINCT ?label\n",
    "        WHERE {{\n",
    "        {{\n",
    "            <{subj}> ?property ?entity .\n",
    "            ?entity rdfs:label ?label .\n",
    "        }} UNION {{\n",
    "            ?entity ?property <{subj}> .\n",
    "            ?entity rdfs:label ?label .\n",
    "        }}\n",
    "        FILTER (lang(?label) = \"en\")\n",
    "        }}\n",
    "        \"\"\"\n",
    "        sparql.setQuery(query_source_to_target)\n",
    "        sparql.setReturnFormat(JSON)\n",
    "\n",
    "        try:\n",
    "            result = sparql.query().convert()\n",
    "            tmp = [item['label']['value'] for item in result[\"results\"][\"bindings\"]]\n",
    "            subject_direct_dict[subj] = model.encode(tmp,show_progress_bar=False)\n",
    "        except Exception as e:\n",
    "            print(f\"Query for {subj} didn't work: {e}\")\n",
    "\n",
    "    return subject_direct_dict\n"
   ]
  },
  {
   "cell_type": "markdown",
   "metadata": {},
   "source": [
    "### Testing"
   ]
  },
  {
   "cell_type": "code",
   "execution_count": null,
   "metadata": {},
   "outputs": [],
   "source": [
    "# Example usage\n",
    "result_dict = subjects_direct_links(subject_set)\n",
    "print(result_dict)"
   ]
  },
  {
   "cell_type": "code",
   "execution_count": null,
   "metadata": {},
   "outputs": [],
   "source": [
    "word = \"Psychologist\"\n",
    "entity_embedding = model.encode(word)\n",
    "embeddings = result_dict['http://dbpedia.org/resource/Wilhelm_Windelband']\n",
    "cosine_similarities = np.dot(embeddings, entity_embedding)\n",
    "print(np.argmax(cosine_similarities))\n",
    "cosine_similarities[np.argmax(cosine_similarities)]"
   ]
  },
  {
   "cell_type": "markdown",
   "metadata": {},
   "source": [
    "## Checking the Direct Links"
   ]
  },
  {
   "cell_type": "code",
   "execution_count": null,
   "metadata": {},
   "outputs": [],
   "source": [
    "def check_direct_link(source_target):\n",
    "    source_uri, target_uri = source_target\n",
    "    sparql = SPARQLWrapper(\"https://dbpedia.org/sparql\")\n",
    "    sparql.setMethod('POST')  \n",
    "    \n",
    "    query_source_to_target = f\"\"\"\n",
    "    ASK WHERE {{\n",
    "      <{source_uri}> ?p <{target_uri}> .\n",
    "    }}\n",
    "    \"\"\"\n",
    "    sparql.setQuery(query_source_to_target)\n",
    "    sparql.setReturnFormat(JSON)\n",
    "\n",
    "    try:\n",
    "        result_source_to_target = sparql.query().convert()\n",
    "        has_link_source_to_target = result_source_to_target['boolean']\n",
    "    except Exception as e:\n",
    "        print(f\"Error querying {source_uri} -> {target_uri}: {e}\")\n",
    "        has_link_source_to_target = False\n",
    "\n",
    "    # Query from target to source\n",
    "    query_target_to_source = f\"\"\"\n",
    "    ASK WHERE {{\n",
    "      <{target_uri}> ?p <{source_uri}> .\n",
    "    }}\n",
    "    \"\"\"\n",
    "    sparql.setQuery(query_target_to_source)\n",
    "\n",
    "    try:\n",
    "        result_target_to_source = sparql.query().convert()\n",
    "        has_link_target_to_source = result_target_to_source['boolean']\n",
    "    except Exception as e:\n",
    "        print(f\"Error querying {target_uri} -> {source_uri}: {e}\")\n",
    "        has_link_target_to_source = False\n",
    "\n",
    "    # Combine the results\n",
    "    has_link = has_link_source_to_target or has_link_target_to_source\n",
    "    return source_uri, target_uri, has_link"
   ]
  },
  {
   "cell_type": "code",
   "execution_count": null,
   "metadata": {},
   "outputs": [],
   "source": [
    "print(check_direct_link([\"http://dbpedia.org/resource/John_Russell_Reynolds\",\"http://dbpedia.org/resource/Judge\"])[2])"
   ]
  },
  {
   "cell_type": "markdown",
   "metadata": {},
   "source": [
    "## Scoring"
   ]
  },
  {
   "cell_type": "code",
   "execution_count": null,
   "metadata": {},
   "outputs": [],
   "source": [
    "def scoring_linear_version(text):\n",
    "    pairs,final_sents,subject_set = get_sentence_based_links(text)\n",
    "    subject_dict = subjects_direct_links(subject_set)\n",
    "    \n",
    "    if not pairs:\n",
    "        print(\"No entity pairs found here.\")\n",
    "        return 0,[],final_sents\n",
    "    \n",
    "    fractions = []\n",
    "    pair_and_values = []\n",
    "    \n",
    "    for sent_sets in pairs:\n",
    "        score = 0\n",
    "        for pair in sent_sets:\n",
    "            if check_direct_link(pair)[2]:\n",
    "                score+=1\n",
    "                pair_and_values.append([pair[0],pair[1],1])\n",
    "            else:\n",
    "                local_subject= pair[0]\n",
    "                entity_link = pair[1]\n",
    "                last_part = entity_link.split('/')[-1]\n",
    "                entity = last_part.replace('_', ' ')\n",
    "                print(entity)\n",
    "                entity_embeddings = model.encode(entity,show_progress_bar=False)\n",
    "                embeddings = subject_dict[local_subject]\n",
    "                cosine_similarities = np.dot(embeddings, entity_embeddings)\n",
    "                max_similarity = np.max(cosine_similarities)\n",
    "                print(max_similarity)\n",
    "                if max_similarity>0.65:\n",
    "                    score+=1\n",
    "                    pair_and_values.append([pair[0],pair[1],1])\n",
    "                else:\n",
    "                    pair_and_values.append([pair[0],pair[1],0])\n",
    "        if len(sent_sets)==0:\n",
    "            fractions.append(-1)\n",
    "        else:\n",
    "            fractions.append(score/len(sent_sets))\n",
    "    \n",
    "    return fractions, pair_and_values, final_sents"
   ]
  },
  {
   "cell_type": "code",
   "execution_count": null,
   "metadata": {},
   "outputs": [],
   "source": [
    "def process_sentence_set(args):\n",
    "    index, sent_sets, subject_dict = args\n",
    "    score = 0\n",
    "    local_pair_and_values = []\n",
    "    for pair in sent_sets:\n",
    "        _, _, is_direct = check_direct_link(pair)\n",
    "        if is_direct:\n",
    "            score += 1\n",
    "            local_pair_and_values.append([pair[0], pair[1], 1])\n",
    "        else:\n",
    "            local_subject= pair[0]\n",
    "            entity_link = pair[1]\n",
    "            last_part = entity_link.split('/')[-1]\n",
    "            entity = last_part.replace('_', ' ')\n",
    "            entity_embeddings = model.encode(entity,show_progress_bar=False)\n",
    "            embeddings = subject_dict[local_subject]\n",
    "            \n",
    "            if embeddings.size == 0:\n",
    "                local_pair_and_values.append([pair[0], pair[1], 0])\n",
    "                continue\n",
    "                \n",
    "            \n",
    "            cosine_similarities = np.dot(embeddings, entity_embeddings)\n",
    "            max_similarity = np.max(cosine_similarities)\n",
    "            if max_similarity>0.65:\n",
    "                score+=1\n",
    "                local_pair_and_values.append([pair[0],pair[1],1])\n",
    "            else:\n",
    "                local_pair_and_values.append([pair[0],pair[1],0])\n",
    "    fraction = score / len(sent_sets) if len(sent_sets) > 0 else -1\n",
    "    return index, fraction, local_pair_and_values\n",
    "\n",
    "def scoring_parallel_version(text):\n",
    "    pairs, final_sents, subject_set = get_sentence_based_links(text)\n",
    "    subject_dict = subjects_direct_links(subject_set)\n",
    "\n",
    "    if not pairs:\n",
    "        print(\"No entity pairs found here.\")\n",
    "        return 0, [], final_sents\n",
    "\n",
    "    fractions = [None] * len(pairs)\n",
    "    pair_and_values = [None] * len(pairs)\n",
    "\n",
    "    with concurrent.futures.ThreadPoolExecutor(max_workers=10) as executor:\n",
    "        # Prepare the arguments for each task\n",
    "        task_args = [(index, sent_sets, subject_dict) for index, sent_sets in enumerate(pairs)]\n",
    "        # Process each sentence set in parallel\n",
    "        results = list(executor.map(process_sentence_set, task_args))\n",
    "\n",
    "    # Place results back into the correct order\n",
    "    for index, fraction, local_pair_and_values in results:\n",
    "        fractions[index] = fraction\n",
    "        pair_and_values[index] = local_pair_and_values\n",
    "\n",
    "    # Flatten pair_and_values list\n",
    "    flat_pair_and_values = [item for sublist in pair_and_values for item in sublist]\n",
    "\n",
    "    return fractions, flat_pair_and_values, final_sents\n"
   ]
  },
  {
   "cell_type": "code",
   "execution_count": null,
   "metadata": {},
   "outputs": [],
   "source": [
    "# #test =  [\"John Russell Reynolds (1820–1876) was an English lawyer, judge, and author.\", \"He was born in London, the son of a barrister, and was educated at Eton College and Trinity College, Cambridge.\", \"He was called to the bar in 1845, and became a Queen's Counsel in 1859.\", \"He was appointed a judge of the Court of Common Pleas in 1867, and was knighted in 1871.\", \"Reynolds was a prolific author, writing on a wide range of topics.\", \"He wrote several books on legal topics, including The Law of Libel and Slander (1863), The Law of Copyright (1865), and The Law of Patents for Inventions (1868).\", \"He also wrote on a variety of other topics, including history, biography, and literature.\", \"He was a frequent contributor to the Saturday Review, and wrote several books on Shakespeare, including The Mystery of William Shakespeare (1848) and The Authorship of Shakespeare (1875).\", \"He also wrote a biography of the poet John Keats (1848).\" ]\n",
    "# test = [ \"Gordon David Strachan (born 9 February 1957) is a Scottish football manager and former player.\", \"He is the manager of the Scotland national team.\", \"Strachan played for Dundee, Aberdeen, Manchester United, Leeds United and Coventry City, as well as the Scotland national team.\", \"He has also managed Coventry City, Southampton, Celtic and Middlesbrough.\", \"Strachan began his managerial career at Coventry City in 1996, leading them to the 1997 FA Cup Final, where they lost to Tottenham Hotspur.\", \"He then moved to Southampton in 2001, where he guided them to the 2003 FA Cup Final, which they lost to Arsenal.\", \"In 2005, he was appointed manager of Celtic, where he won three consecutive Scottish Premier League titles and the Scottish League Cup twice.\", \"He left Celtic in 2009 and was appointed manager of Middlesbrough in October 2010.\", \"He left Middlesbrough in October 2013.\", \"In January 2013, Strachan was appointed manager of the Scotland national team.\", \"He has since led Scotland to the UEFA Euro 2016 qualifying playoffs, where they were eliminated by eventual finalists, and to the 2018 FIFA World Cup\" ]\n",
    "# text = \"\"\n",
    "# for i in test:\n",
    "#    text += \" \" + i\n",
    "# print(text)\n",
    "print(scoring_parallel_version(text))\n",
    "\n",
    "# print(end_time - start_time)\n"
   ]
  },
  {
   "cell_type": "markdown",
   "metadata": {},
   "source": [
    "# Experimentation"
   ]
  },
  {
   "cell_type": "code",
   "execution_count": null,
   "metadata": {},
   "outputs": [],
   "source": [
    "accurate = []\n",
    "minor_inaccurate = []\n",
    "major_inaccurate = []"
   ]
  },
  {
   "cell_type": "code",
   "execution_count": null,
   "metadata": {},
   "outputs": [],
   "source": [
    "folder_name = \"Output\"\n",
    "\n",
    "if not os.path.exists(folder_name):\n",
    "        os.makedirs(folder_name)\n",
    "\n",
    "for i in tqdm(range(28,100), desc=\"Processing entries\", unit=\"entry\"):\n",
    "    list_of_sentences = (dataset[\"evaluation\"][i][\"gpt3_sentences\"])\n",
    "    sentences = ''''''\n",
    "    for s in list_of_sentences:\n",
    "        tmp = preprocess_text(s)\n",
    "        if tmp[-1]!='.':\n",
    "            tmp+='.'\n",
    "        sentences = sentences + tmp + \"\\n\" \n",
    "    ground_truth_doc = preprocessing(dataset[\"evaluation\"][i][\"wiki_bio_text\"])\n",
    "    ground_truth = ''''''\n",
    "    for sent in ground_truth_doc.sents:\n",
    "        temp = preprocess_text(sent.text)\n",
    "        if temp[-1]!='.':\n",
    "            temp+='.'\n",
    "        ground_truth = ground_truth + temp + \"\\n\" \n",
    "    annotation = dataset[\"evaluation\"][i][\"annotation\"]\n",
    "    \n",
    "    sentences_scores, sentence_pairs_and_values , sentence_coref_sents= scoring_parallel_version(sentences)\n",
    "    ground_truth_scores, ground_pairs_and_values, ground_coref_sents = scoring_parallel_version(ground_truth)\n",
    "        \n",
    "    filename = os.path.join(folder_name, f\"entry_{i+1}.txt\")\n",
    "    with open(filename, 'w') as file:\n",
    "        file.write(\"#############SENTENCE_PAIRS############\\n\\n\")\n",
    "        for x in range(len(sentence_pairs_and_values)):\n",
    "            file.write(f\"{sentence_pairs_and_values[x][0]} and {sentence_pairs_and_values[x][1]} and the value is : {sentence_pairs_and_values[x][2]}\\n\")\n",
    "        file.write(\"\\n\")\n",
    "        file.write(\"#############GROUND_PAIRS############\\n\\n\")\n",
    "        for x in range(len(ground_pairs_and_values)):\n",
    "            file.write(f\"{ground_pairs_and_values[x][0]} and {ground_pairs_and_values[x][1]} and the value is : {ground_pairs_and_values[x][2]}\\n\")\n",
    "        file.write(\"\\n\\n\")\n",
    "        file.write(\"%%%%%%%%%%%%%%%%%%%%SENTENCES%%%%%%%%%%%%%%%%%\\n\")\n",
    "        file.write(f\"Sentences : \\n\\n{sentences}\\n\\n\")\n",
    "        file.write(f\"Coref Resolved: \\n\\n\")\n",
    "        for y,x in enumerate(sentence_coref_sents):\n",
    "            file.write(f\"{y}. {x}\")\n",
    "        file.write(\"\\n\")\n",
    "        file.write(\"\\n\")\n",
    "        file.write(\"%%%%%%%%%%%%%%%%%%%%GROUND_TRUTH%%%%%%%%%%%%%%%\\n\")\n",
    "        file.write(f\"Ground Truth : \\n\\n{ground_truth} \\n\\n\")\n",
    "        file.write(f\"Coref Resolved: \\n\\n\")\n",
    "        for y,x in enumerate(ground_coref_sents):\n",
    "            file.write(f\"{y}. {x}\")\n",
    "        file.write(\"\\n\")\n",
    "        file.write(\"%%%%%%%%%%%%%%%%%%%%FRACTIONS%%%%%%%%%%%%%%%%%%\\n\")\n",
    "        file.write(f\"Value for sentences is : \\n\")\n",
    "        for x in sentences_scores:\n",
    "            file.write(f\"{x} \")\n",
    "        file.write(\"\\n\")\n",
    "        file.write(f\"Value for ground truth is : \\n\")\n",
    "        for x in ground_truth_scores:\n",
    "            file.write(f\"{x} \")\n",
    "        file.write(\"\\n\\n\")\n",
    "        file.write(\"%%%%%%%%%%%%%%%%%%%%ANNOTATIONS%%%%%%%%%%%%%%%%\\n\")\n",
    "        for x in annotation:\n",
    "            file.write(f\"{x} \")\n",
    "        file.write(\"\\n\\n\")\n",
    "        \n",
    "    suma = 0\n",
    "    leng = 0\n",
    "    for x in ground_truth_scores:\n",
    "        if x!=-1:\n",
    "            suma+=x\n",
    "            leng+=1\n",
    "    \n",
    "    if leng>0:\n",
    "        print(f\"The ground truth scores are: {suma/leng}\\n\")\n",
    "\n",
    "    if (leng)>0 and (suma/leng)>0.25:\n",
    "        if len(sentences_scores)!=len(annotation):\n",
    "            continue\n",
    "        for scores in ground_truth_scores:\n",
    "            if scores==-1:\n",
    "                continue\n",
    "            else:\n",
    "                accurate.append(scores)\n",
    "        for t,score in enumerate(sentences_scores):\n",
    "            if score==-1:\n",
    "                continue\n",
    "            if annotation[t-1]==\"accurate\":\n",
    "                accurate.append(score) \n",
    "            elif annotation[t-1]==\"minor_inaccurate\":\n",
    "                minor_inaccurate.append(score)\n",
    "            elif annotation[t-1]==\"major_inaccurate\":\n",
    "                major_inaccurate.append(score)"
   ]
  },
  {
   "cell_type": "code",
   "execution_count": null,
   "metadata": {},
   "outputs": [],
   "source": [
    "sum(accurate)/len(accurate)"
   ]
  },
  {
   "cell_type": "code",
   "execution_count": null,
   "metadata": {},
   "outputs": [],
   "source": [
    "len(accurate)"
   ]
  },
  {
   "cell_type": "code",
   "execution_count": null,
   "metadata": {},
   "outputs": [],
   "source": [
    "sum(minor_inaccurate)/len(minor_inaccurate)"
   ]
  },
  {
   "cell_type": "code",
   "execution_count": null,
   "metadata": {},
   "outputs": [],
   "source": [
    "len(minor_inaccurate)"
   ]
  },
  {
   "cell_type": "code",
   "execution_count": null,
   "metadata": {},
   "outputs": [],
   "source": [
    "sum(major_inaccurate)/len(major_inaccurate)"
   ]
  },
  {
   "cell_type": "code",
   "execution_count": null,
   "metadata": {},
   "outputs": [],
   "source": [
    "len(major_inaccurate)"
   ]
  },
  {
   "cell_type": "code",
   "execution_count": null,
   "metadata": {},
   "outputs": [],
   "source": [
    "text = \"Traded to the San Diego Chargers, Aldridge played two seasons in San Diego before retiring from professional football in 1973.\""
   ]
  },
  {
   "cell_type": "code",
   "execution_count": null,
   "metadata": {},
   "outputs": [],
   "source": [
    "doc = preprocessing(text)"
   ]
  },
  {
   "cell_type": "code",
   "execution_count": null,
   "metadata": {},
   "outputs": [],
   "source": [
    "for ents in doc.ents:\n",
    "    print(f\"{ents} __ {ents.label_}\")"
   ]
  },
  {
   "cell_type": "code",
   "execution_count": null,
   "metadata": {},
   "outputs": [],
   "source": [
    "import spacy\n",
    "import requests\n",
    "\n",
    "# Load the spaCy model\n",
    "nlp = spacy.load(\"en_core_web_sm\")\n",
    "\n",
    "# Define the sentence\n",
    "sentence = \"Albert Einstein was a theoretical physicist who developed the theory of relativity.\"\n",
    "\n",
    "# Parse the sentence using spaCy\n",
    "doc = nlp(sentence)\n",
    "\n",
    "# Extract subjects from the sentence\n",
    "subjects = [token.text for token in doc if token.dep_ == \"nsubj\"]\n",
    "\n",
    "print(\"Extracted Subjects:\", subjects)\n",
    "\n",
    "def link_to_dbpedia(subject):\n",
    "    spotlight_url = \"https://api.dbpedia-spotlight.org/en/annotate\"\n",
    "    headers = {\"accept\": \"application/json\"}\n",
    "    params = {\"text\": subject, \"confidence\": 0.5}\n",
    "\n",
    "    response = requests.get(spotlight_url, headers=headers, params=params)\n",
    "    if response.status_code == 200:\n",
    "        data = response.json()\n",
    "        if 'Resources' in data:\n",
    "            resources = data['Resources']\n",
    "            return resources[0]['@URI']\n",
    "    return None\n",
    "\n",
    "# Link each extracted subject to a DBpedia entry\n",
    "for subject in subjects:\n",
    "    dbpedia_uri = link_to_dbpedia(subject)\n",
    "    if dbpedia_uri:\n",
    "        print(f\"Subject: {subject} -> DBpedia URI: {dbpedia_uri}\")\n",
    "    else:\n",
    "        print(f\"Subject: {subject} -> No DBpedia URI found\")\n"
   ]
  },
  {
   "cell_type": "markdown",
   "metadata": {},
   "source": [
    "# Wikipedia Based System"
   ]
  },
  {
   "cell_type": "markdown",
   "metadata": {},
   "source": [
    "Wikipediaapi Doesnt work ->"
   ]
  },
  {
   "cell_type": "code",
   "execution_count": null,
   "metadata": {},
   "outputs": [],
   "source": [
    "import wikipediaapi\n",
    "\n",
    "def search_wikipedia(query):\n",
    "    wiki_wiki = wikipediaapi.Wikipedia('en')  # Initialize Wikipedia wrapper for English\n",
    "\n",
    "    # Search for the query\n",
    "    search_result = wiki_wiki.page(query)\n",
    "\n",
    "    if search_result.exists():\n",
    "        print(f\"Title: {search_result.title}\")\n",
    "        print(f\"Summary: {search_result.summary}\")\n",
    "    else:\n",
    "        print(f\"Page for '{query}' does not exist.\")\n",
    "\n",
    "# Example usage\n",
    "search_query = \"Artificial intelligence\"\n",
    "search_wikipedia(search_query)"
   ]
  },
  {
   "cell_type": "markdown",
   "metadata": {},
   "source": [
    "Switched to wikipedia"
   ]
  },
  {
   "cell_type": "code",
   "execution_count": null,
   "metadata": {},
   "outputs": [],
   "source": [
    "pip install wikipedia"
   ]
  },
  {
   "cell_type": "code",
   "execution_count": 9,
   "metadata": {},
   "outputs": [
    {
     "name": "stdout",
     "output_type": "stream",
     "text": [
      "Wilhelm Windelband (; German: [ˈvɪndl̩bant]; 11 May 1848 – 22 October 1915) was a German philosopher of the Baden School.\n",
      "\n",
      "\n",
      "19th-century philosophy\n",
      "A priori and a posteriori\n",
      "Albert Schweitzer\n",
      "Alfred North Whitehead\n",
      "Analytic–synthetic distinction\n",
      "Anti-realism\n",
      "Archive.org\n",
      "Auguste Comte\n",
      "Baden School\n",
      "Bas van Fraassen\n",
      "Bertrand Russell\n",
      "C. D. Broad\n",
      "Carl Gustav Hempel\n",
      "Causality\n",
      "Charles Sanders Peirce\n",
      "Coherentism\n",
      "Commensurability (philosophy of science)\n",
      "Confirmation holism\n",
      "Consilience\n",
      "Construct (philosophy)\n",
      "Constructive empiricism\n",
      "Constructive realism\n",
      "Constructivist epistemology\n",
      "Contextualism\n",
      "Conventionalism\n",
      "Creative synthesis\n",
      "Criticism of science\n",
      "David Hume\n",
      "Deductive-nomological model\n",
      "Demarcation problem\n",
      "Descriptive research\n",
      "Determinism\n",
      "Doctoral advisor\n",
      "Empirical evidence\n",
      "Empiricism\n",
      "Epistemological anarchism\n",
      "Epistemology\n",
      "Ernst Troeltsch\n",
      "Evidence-based practice\n",
      "Evolutionism\n",
      "Explanatory power\n",
      "Fact\n",
      "Faith and rationality\n",
      "Fallibilism\n",
      "Falsifiability\n",
      "Feminist method\n",
      "Foundationalism\n",
      "Francis Bacon\n",
      "Frederick C. Beiser\n",
      "Functional contextualism\n",
      "Galileo Galilei\n",
      "Georg Wilhelm Friedrich Hegel\n",
      "German Empire\n",
      "Grand Duchy of Baden\n",
      "Hans Reichenbach\n",
      "Hard and soft science\n",
      "Heidelberg\n",
      "Heinrich Rickert\n",
      "Heinz Heimsoeth\n",
      "Henri Poincaré\n",
      "Hermann Lotze\n",
      "Historicism\n",
      "History and philosophy of science\n",
      "Hypothetico-deductive model\n",
      "Ian Hacking\n",
      "Idiographic\n",
      "Ignoramus et ignorabimus\n",
      "Immanuel Kant\n",
      "Imre Lakatos\n",
      "Index of philosophy of science articles\n",
      "Inductionism\n",
      "Inductive reasoning\n",
      "Inquiry\n",
      "Instrumentalism\n",
      "Intertheoretic reduction\n",
      "Isaac Newton\n",
      "Johann Friedrich Herbart\n",
      "Karl Pearson\n",
      "Karl Popper\n",
      "Kingdom of Prussia\n",
      "Larry Laudan\n",
      "List of philosophers of science\n",
      "List of schools of philosophy\n",
      "Max Weber\n",
      "Metaphysics\n",
      "Michael Polanyi\n",
      "Model-dependent realism\n",
      "Naturalism (philosophy)\n",
      "Nature (philosophy)\n",
      "Neo-Kantianism\n",
      "Nomothetic\n",
      "Nomothetic and idiographic\n",
      "Normative science\n",
      "Objectivity (philosophy)\n",
      "Observation\n",
      "Otto Neurath\n",
      "Paradigm\n",
      "Paul Feyerabend\n",
      "Philosopher\n",
      "Philosophical analysis\n",
      "Philosophical logic\n",
      "Philosophy of archaeology\n",
      "Philosophy of biology\n",
      "Philosophy of chemistry\n",
      "Philosophy of economics\n",
      "Philosophy of geography\n",
      "Philosophy of history\n",
      "Philosophy of linguistics\n",
      "Philosophy of physics\n",
      "Philosophy of psychology\n",
      "Philosophy of science\n",
      "Philosophy of social science\n",
      "Philosophy of space and time\n",
      "Physicalism\n",
      "Pierre Duhem\n",
      "Positivism\n",
      "Positivist\n",
      "Potsdam\n",
      "Pragmatism\n",
      "Problem of induction\n",
      "Protoscience\n",
      "Province of Brandenburg\n",
      "Pseudoscience\n",
      "Psychologism\n",
      "Psychology\n",
      "Rationalism\n",
      "Received view of theories\n",
      "Reductionism\n",
      "Relationship between religion and science\n",
      "Rhetoric of science\n",
      "Roger Bacon\n",
      "Rudolf Carnap\n",
      "Rudolf Steiner\n",
      "Science studies\n",
      "Scientific Revolution\n",
      "Scientific essentialism\n",
      "Scientific evidence\n",
      "Scientific formalism\n",
      "Scientific law\n",
      "Scientific method\n",
      "Scientific pluralism\n",
      "Scientific realism\n",
      "Scientific skepticism\n",
      "Scientific theory\n",
      "Scientism\n",
      "Semantic view of theories\n",
      "Sociologists\n",
      "Sociology of scientific ignorance\n",
      "Sociology of scientific knowledge\n",
      "Structuralism (philosophy of science)\n",
      "Testability\n",
      "Theologians\n",
      "Theory-ladenness\n",
      "Theory choice\n",
      "Thesis\n",
      "Thomas Kuhn\n",
      "Underdetermination\n",
      "Uniformitarianism\n",
      "Unity of science\n",
      "University of Berlin\n",
      "University of Göttingen\n",
      "University of Jena\n",
      "Vitalism\n",
      "Western philosophy\n",
      "Willard Van Orman Quine\n",
      "['Wilhelm Windelband']\n"
     ]
    }
   ],
   "source": [
    "import wikipedia\n",
    " \n",
    "# getting suggestions\n",
    "result = wikipedia.search(\"Wilhelm Windelband interests\", results = 1)\n",
    "for results in result:\n",
    "    print(wikipedia.summary(result))\n",
    "    page = wikipedia.page(result)\n",
    "    print(\"\\n\")\n",
    "    for link in page.links:\n",
    "            print(link)\n",
    "# printing the result\n",
    "print(result)"
   ]
  },
  {
   "cell_type": "code",
   "execution_count": 10,
   "metadata": {},
   "outputs": [],
   "source": [
    "def extract_compound_subject_span(sent):\n",
    "    compound_subject = []\n",
    "\n",
    "    for i, token in enumerate(sent):\n",
    "        # print(f\"{token} and {token.dep_}\")\n",
    "        if token.dep_ in [\"nsubj\",\"nsubjpass\"]:\n",
    "            compound_subject.append(token.text)\n",
    "            for j in range(i - 1, -1, -1):\n",
    "                if sent[j].dep_ == \"compound\":\n",
    "                    # print(f\"{sent[j]} and {sent[j].dep_}\")\n",
    "                    compound_subject.insert(0, sent[j].text) \n",
    "                else:\n",
    "                    break  \n",
    "            break\n",
    "    if compound_subject == []:\n",
    "        for i, token in enumerate(sent):\n",
    "            # print(f\"{token} and {token.dep_}\")\n",
    "            if token.dep_ in [\"dobj\",\"iobj\",\"pobj\"]:\n",
    "                compound_subject.append(token.text)\n",
    "                for j in range(i - 1, -1, -1):\n",
    "                    if sent[j].dep_ == \"compound\":\n",
    "                        # print(f\"{sent[j]} and {sent[j].dep_}\")\n",
    "                        compound_subject.insert(0, sent[j].text) \n",
    "                    else:\n",
    "                        break  \n",
    "                break\n",
    "\n",
    "    return \" \".join(compound_subject) if compound_subject else None"
   ]
  },
  {
   "cell_type": "code",
   "execution_count": 11,
   "metadata": {},
   "outputs": [
    {
     "name": "stderr",
     "output_type": "stream",
     "text": [
      "07/02/2024 16:22:45 - INFO - \t Tokenize 1 inputs...\n"
     ]
    },
    {
     "data": {
      "application/vnd.jupyter.widget-view+json": {
       "model_id": "9190a3fdbd8d443b87caf82dfcf15575",
       "version_major": 2,
       "version_minor": 0
      },
      "text/plain": [
       "Map:   0%|          | 0/1 [00:00<?, ? examples/s]"
      ]
     },
     "metadata": {},
     "output_type": "display_data"
    },
    {
     "name": "stderr",
     "output_type": "stream",
     "text": [
      "07/02/2024 16:22:45 - INFO - \t ***** Running Inference on 1 texts *****\n"
     ]
    },
    {
     "data": {
      "application/vnd.jupyter.widget-view+json": {
       "model_id": "95bcad0c2601402897566c4a6086bb92",
       "version_major": 2,
       "version_minor": 0
      },
      "text/plain": [
       "Inference:   0%|          | 0/1 [00:00<?, ?it/s]"
      ]
     },
     "metadata": {},
     "output_type": "display_data"
    },
    {
     "name": "stdout",
     "output_type": "stream",
     "text": [
      "Windelband\n",
      "Windelband\n",
      "Kant\n",
      "Georg Wilhelm Friedrich Hegel\n",
      "Johann Friedrich Herbart\n",
      "Hermann Lotze\n"
     ]
    }
   ],
   "source": [
    "text =\"\"\"After the family moved to Kilburn, Tommy Nutter and Tommy Nutter brother David attended Willesden Technical College.\"\"\"\n",
    "text = \"\"\"Windelband relied in his effort to reach beyond Kant on such philosophers as Georg Wilhelm Friedrich Hegel, Johann Friedrich Herbart, and Hermann Lotze.\"\"\"\n",
    "\n",
    "text = coreference_resolution(text)\n",
    "input = preprocessing(text)\n",
    "\n",
    "# for token in input:\n",
    "#     print(f\"{token} and {token.dep_}\")\n",
    "# for sent in input.sents:\n",
    "#     print(extract_compound_subject_span(sent))\n",
    "for entities in input.ents:\n",
    "    print(entities)"
   ]
  },
  {
   "cell_type": "code",
   "execution_count": 54,
   "metadata": {},
   "outputs": [],
   "source": [
    "def get_sentence_based_links_wiki(text):\n",
    "    # print(text)\n",
    "    t1 = coreference_resolution(text)\n",
    "    final_text = preprocess_text(t1)\n",
    "    \n",
    "    # print(final_text)\n",
    "    \n",
    "    doc = nlp(final_text)\n",
    "    final_sents = [sents for sents in doc.sents]\n",
    "    \n",
    "    subjects = []\n",
    "    subject_set = set([])\n",
    "    subjects_with_context = []\n",
    "    for sent in doc.sents:\n",
    "        tmp_subj = extract_compound_subject_span(sent)\n",
    "        subjects.append(tmp_subj)\n",
    "        if tmp_subj!=None:\n",
    "            if tmp_subj not in subject_set:\n",
    "                subject_set.add(tmp_subj)\n",
    "                subjects_with_context.append([tmp_subj,sent.text])\n",
    "    (\"Subjects identified:\", subjects)\n",
    "    \n",
    "    sentence_forms = []\n",
    "    for sent in doc.sents:\n",
    "        # print(sent)\n",
    "        entities = [ent.text for ent in sent.ents]\n",
    "        # print(entities)\n",
    "        sentence_forms.append(entities)\n",
    "    # print(\"Entities in each sentence:\", sentence_forms)\n",
    "    \n",
    "    # print(subjects)\n",
    "    \n",
    "    pairs = []\n",
    "    count = 0\n",
    "    for i in range(len(sentence_forms)):\n",
    "        tmp_storage = []\n",
    "        if subjects[i] is not None and len(sentence_forms[i]) > 1:\n",
    "            for entity in sentence_forms[i]:\n",
    "                if entity not in subjects:\n",
    "                    tmp_storage.append([subjects[i], entity])\n",
    "                    count += 1\n",
    "        pairs.append(tmp_storage)\n",
    "    print(f\"The number of pairs is: {count}\\n\")\n",
    "    \n",
    "    return pairs, final_sents, subject_set, subjects_with_context"
   ]
  },
  {
   "cell_type": "code",
   "execution_count": 55,
   "metadata": {},
   "outputs": [
    {
     "name": "stderr",
     "output_type": "stream",
     "text": [
      "07/02/2024 17:06:04 - INFO - \t Tokenize 1 inputs...\n"
     ]
    },
    {
     "data": {
      "application/vnd.jupyter.widget-view+json": {
       "model_id": "b781d1dfff8d41a6b39128aad954fb8e",
       "version_major": 2,
       "version_minor": 0
      },
      "text/plain": [
       "Map:   0%|          | 0/1 [00:00<?, ? examples/s]"
      ]
     },
     "metadata": {},
     "output_type": "display_data"
    },
    {
     "name": "stderr",
     "output_type": "stream",
     "text": [
      "07/02/2024 17:06:04 - INFO - \t ***** Running Inference on 1 texts *****\n"
     ]
    },
    {
     "data": {
      "application/vnd.jupyter.widget-view+json": {
       "model_id": "3359a1b74cc34da78d9fc0c5f605d2f0",
       "version_major": 2,
       "version_minor": 0
      },
      "text/plain": [
       "Inference:   0%|          | 0/1 [00:00<?, ?it/s]"
      ]
     },
     "metadata": {},
     "output_type": "display_data"
    },
    {
     "name": "stdout",
     "output_type": "stream",
     "text": [
      "The number of pairs is: 95\n",
      "\n",
      "[[['Richard Keith Mahler', 'Richard Keith'], ['Richard Keith Mahler', 'Mahler'], ['Richard Keith Mahler', 'Austin, Texas'], ['Richard Keith Mahler', 'Texas'], ['Richard Keith Mahler', 'Jupiter, Florida'], ['Richard Keith Mahler', 'starting pitcher'], ['Richard Keith Mahler', 'Major League Baseball'], ['Richard Keith Mahler', 'Braves'], ['Richard Keith Mahler', 'Reds'], ['Richard Keith Mahler', 'Montreal Expos']], [['Richard Keith Mahler brother Mickey', 'Richard Keith'], ['Richard Keith Mahler brother Mickey', 'Mahler'], ['Richard Keith Mahler brother Mickey', 'Major League Baseball'], ['Richard Keith Mahler brother Mickey', 'pitcher']], [['two', 'Triple-A'], ['two', 'Braves']], [['Richard Keith Mahler', 'Richard Keith'], ['Richard Keith Mahler', 'Mahler'], ['Richard Keith Mahler', 'Richard Keith'], ['Richard Keith Mahler', 'Mahler'], ['Richard Keith Mahler', 'ERA']], [['Austin', 'Austin, Texas'], ['Austin', 'Richard Keith'], ['Austin', 'Mahler'], ['Austin', 'Trinity University'], ['Austin', 'Antonio'], ['Austin', 'Texas']], [['Richard Keith Mahler', 'Braves'], ['Richard Keith Mahler', 'free agent'], ['Richard Keith Mahler', 'Richard Keith'], ['Richard Keith Mahler', 'Mahler'], ['Richard Keith Mahler', 'Richard Keith'], ['Richard Keith Mahler', 'Mahler']], [['Richard Keith Mahler', 'Richard Keith'], ['Richard Keith Mahler', 'Mahler'], ['Richard Keith Mahler', 'Opening Day'], ['Richard Keith Mahler', 'Braves'], ['Richard Keith Mahler', 'Braves']], [['Richard Keith Mahler', 'Richard Keith'], ['Richard Keith Mahler', 'Mahler'], ['Richard Keith Mahler', 'Opening Day']], [['Richard Keith Mahler', 'Richard Keith'], ['Richard Keith Mahler', 'Mahler'], ['Richard Keith Mahler', 'Richard Keith'], ['Richard Keith Mahler', 'Mahler'], ['Richard Keith Mahler', 'Opening Day'], ['Richard Keith Mahler', 'shutout']], [['season', 'Richard Keith'], ['season', 'Mahler'], ['season', 'Richard Keith'], ['season', 'Mahler'], ['season', 'ERA']], [['Richard Keith Mahler', 'Richard Keith'], ['Richard Keith Mahler', 'Mahler'], ['Richard Keith Mahler', 'Braves'], ['Richard Keith Mahler', 'World Series'], ['Richard Keith Mahler', 'Reds']], [['Richard Keith Mahler', 'Richard Keith'], ['Richard Keith Mahler', 'Mahler'], ['Richard Keith Mahler', 'World Series'], ['Richard Keith Mahler', 'Reds'], ['Richard Keith Mahler', 'spot starter']], [['Richard Keith Mahler', 'Richard Keith'], ['Richard Keith Mahler', 'Mahler'], ['Richard Keith Mahler', 'Montreal Expos'], ['Richard Keith Mahler', 'Braves']], [['Richard Keith Mahler', 'Richard Keith'], ['Richard Keith Mahler', 'Mahler'], ['Richard Keith Mahler', 'pitching coach'], ['Richard Keith Mahler', 'Kansas City Royals'], ['Richard Keith Mahler', 'Florida Marlins'], ['Richard Keith Mahler', 'Richard Keith'], ['Richard Keith Mahler', 'Mahler']], [['Richard Keith Mahler', 'Richard Keith'], ['Richard Keith Mahler', 'Mahler'], ['Richard Keith Mahler', 'Double-A'], ['Richard Keith Mahler', 'Texas League']], [['Richard Keith Mahler', 'Richard Keith'], ['Richard Keith Mahler', 'Mahler'], ['Richard Keith Mahler', 'heart attack'], ['Richard Keith Mahler', 'Jupiter, Florida'], ['Richard Keith Mahler', 'Richard Keith'], ['Richard Keith Mahler', 'Mahler'], ['Richard Keith Mahler', 'Richard Keith'], ['Richard Keith Mahler', 'Mahler'], ['Richard Keith Mahler', 'pitching coach'], ['Richard Keith Mahler', 'New York Mets']], [['Richard Keith Mahler', 'Richard Keith'], ['Richard Keith Mahler', 'Mahler'], ['Richard Keith Mahler', 'Richard Keith'], ['Richard Keith Mahler', 'Mahler'], ['Richard Keith Mahler', 'Ricky'], ['Richard Keith Mahler', 'Timothy'], ['Richard Keith Mahler', 'Tyler'], ['Richard Keith Mahler', 'Shannon']]]\n",
      "[Richard Keith Mahler (August 5, 1953 in Austin, Texas Texas - March 2, 2005 in Jupiter, Florida ) was a starting pitcher in Major League Baseball who played for the Atlanta Braves (1979 -1988, 1991), Cincinnati Reds (1989-1990) and Montreal Expos (1991)., Richard Keith Mahler brother Mickey was also a Major League Baseball pitcher, with the two being teammates in 1979 ., the two had previously been teammates playing for the Triple-A Richmond Braves., In Richard Keith Mahler 13-year career, Richard Keith Mahler posted a 96-111 record with 952 strikeouts and a 3.99 ERA in 1951.1 innings., Born in Austin, Texas , Richard Keith Mahler graduated from John Jay High School and then attended Trinity University, both in San Antonio, Texas ., After being signed by Atlanta Braves as an amateur free agent in 1975, Richard Keith Mahler made Richard Keith Mahler debut in the 1979 season., Richard Keith Mahler started on Opening Day for Atlanta Braves in 1982, when Atlanta Braves won the National League West title., Richard Keith Mahler made four straight Opening Day starts beginning in 1985 ., In 1987, Richard Keith Mahler tied an NL record with Richard Keith Mahler third Opening Day shutout., Richard Keith Mahler best season came in 1985 , when Richard Keith Mahler went 17-15 with a 3.48 ERA., Richard Keith Mahler pitched twice in the postseason, with Atlanta Braves in 1982, and with the 1990 World Series champion Cincinnati Reds ., Richard Keith Mahler was a key member of the 1990 World Series champion Cincinnati Reds pitching staff as a spot starter and reliever, going 7-6 and contributing four saves., Richard Keith Mahler also appeared in ten games with the Montreal Expos in 1991 before returning to Atlanta Braves in mid-season., After retiring, Richard Keith Mahler served as a minor league pitching coach for the Kansas City Royals and the Florida Marlins, and Richard Keith Mahler was a roving instructor for the St. Louis Cardinals ., Richard Keith Mahler also managed the St. Louis Cardinals Double-A affiliate in the Texas League from 1996 to 1997., Richard Keith Mahler died at age 51 of a heart attack at home in Jupiter, Florida , where Richard Keith Mahler was preparing for Richard Keith Mahler second season as a minor league pitching coach for the New York Mets., Richard Keith Mahler was survived by Richard Keith Mahler wife, Sheryl, and five children Ricky, Robby, Timothy, Tyler and Shannon.]\n",
      "{'Richard Keith Mahler', 'two', 'Austin', 'season', 'Richard Keith Mahler brother Mickey'}\n"
     ]
    }
   ],
   "source": [
    "text =\"\"\"Richard Keith Mahler (August 5, 1953 in Austin, Texas - March 2, 2005 in Jupiter, Florida) was a starting pitcher in Major League Baseball who played for the Atlanta Braves (1979-1988, 1991), Cincinnati Reds (1989-1990) and Montreal Expos (1991).\n",
    "His brother Mickey was also a Major League pitcher, with the two being teammates in 1979.\n",
    "The two had previously been teammates playing for the Triple-A Richmond Braves.\n",
    "In his 13-year career, Mahler posted a 96-111 record with 952 strikeouts and a 3.99 ERA in 1951.1 innings.\n",
    "Born in Austin, Texas, Mahler graduated from John Jay High School and then attended Trinity University, both in San Antonio, Texas.\n",
    "After being signed by the Braves as an amateur free agent in 1975, he made his debut in the 1979 season.\n",
    "Mahler started on Opening Day for the Braves in 1982, when Atlanta won the National League West title.\n",
    "He made four straight Opening Day starts beginning in 1985.\n",
    "In 1987, he tied an NL record with his third Opening Day shutout.\n",
    "His best season came in 1985, when he went 17-15 with a 3.48 ERA.\n",
    "He pitched twice in the postseason, with the Braves in 1982, and with the 1990 World Series champion Cincinnati Reds.\n",
    "Mahler was a key member of that Reds' pitching staff as a spot starter and reliever, going 7-6 and contributing four saves.\n",
    "He also appeared in ten games with the Montreal Expos in 1991 before returning to Atlanta in mid-season.\n",
    "After retiring, Mahler served as a minor league pitching coach for the Kansas City Royals and the Florida Marlins, and he was a roving instructor for the St. Louis Cardinals.\n",
    "He also managed St. Louis' Double-A affiliate in the Texas League from 1996 to 1997.\n",
    "Mahler died at age 51 of a heart attack at home in Jupiter, Florida, where he was preparing for his second season as a minor league pitching coach for the New York Mets.\n",
    "He was survived by his wife, Sheryl, and five children Ricky, Robby, Timothy, Tyler and Shannon.\"\"\"\n",
    "\n",
    "pairs, final_sents, subject_set, subjects_with_context = (get_sentence_based_links_wiki(text))\n",
    "print(pairs)\n",
    "print(final_sents)\n",
    "print(subject_set)"
   ]
  },
  {
   "cell_type": "code",
   "execution_count": 80,
   "metadata": {},
   "outputs": [],
   "source": [
    "def subjects_direct_links_wiki(subject_with_context):\n",
    "    \n",
    "    subject_direct_dict = {}\n",
    "    subject_direct_word_dict = {}\n",
    "    \n",
    "    result_set = set([])\n",
    "    result_dict = {}\n",
    "    \n",
    "    for pair in subject_with_context:\n",
    "        subject = pair[0]\n",
    "        context = pair[1]\n",
    "        \n",
    "        try:\n",
    "            subj = subject + \": \" + context\n",
    "            if len(subj) > 250:\n",
    "                subj = subj[:250]  # Truncate to 250 characters if it exceeds 300\n",
    "                # print(f\"Truncated query: {subj}\")\n",
    "            \n",
    "            result = wikipedia.search(subj, results = 1)\n",
    "            # print(result)\n",
    "            for results in result:\n",
    "                if results in result_set:\n",
    "                    subject_direct_dict[subject] = result_dict[results]\n",
    "                else:\n",
    "                    page = wikipedia.page(results)\n",
    "                    tmp = [links for links in page.links]\n",
    "                    subject_direct_word_dict[subject] = tmp\n",
    "                    subject_direct_dict[subject] = model.encode(tmp,show_progress_bar=False)\n",
    "                    result_set.add(results)\n",
    "                    result_dict[results] = subject_direct_dict[subject]\n",
    "                    \n",
    "            if not result:\n",
    "                subject_direct_word_dict[subject] = []\n",
    "                subject_direct_dict[subject] = np.array([],dtype=\"float32\")\n",
    "        except Exception as e:\n",
    "            print(f\"Query for {subj} didn't work: {e}\")\n",
    "            subject_direct_dict[subject] = np.array([],dtype=\"float32\")\n",
    "\n",
    "    return subject_direct_dict, subject_direct_word_dict\n"
   ]
  },
  {
   "cell_type": "code",
   "execution_count": 57,
   "metadata": {},
   "outputs": [
    {
     "ename": "PageError",
     "evalue": "Page id \"rick miller\" does not match any pages. Try another id!",
     "output_type": "error",
     "traceback": [
      "\u001b[0;31m---------------------------------------------------------------------------\u001b[0m",
      "\u001b[0;31mPageError\u001b[0m                                 Traceback (most recent call last)",
      "Cell \u001b[0;32mIn[57], line 1\u001b[0m\n\u001b[0;32m----> 1\u001b[0m page \u001b[38;5;241m=\u001b[39m \u001b[43mwikipedia\u001b[49m\u001b[38;5;241;43m.\u001b[39;49m\u001b[43mpage\u001b[49m\u001b[43m(\u001b[49m\u001b[38;5;124;43m\"\u001b[39;49m\u001b[38;5;124;43mRick Mahler\u001b[39;49m\u001b[38;5;124;43m\"\u001b[39;49m\u001b[43m)\u001b[49m\n",
      "File \u001b[0;32m/opt/miniconda3/envs/myenv/lib/python3.9/site-packages/wikipedia/wikipedia.py:276\u001b[0m, in \u001b[0;36mpage\u001b[0;34m(title, pageid, auto_suggest, redirect, preload)\u001b[0m\n\u001b[1;32m    273\u001b[0m     \u001b[38;5;28;01mexcept\u001b[39;00m \u001b[38;5;167;01mIndexError\u001b[39;00m:\n\u001b[1;32m    274\u001b[0m       \u001b[38;5;66;03m# if there is no suggestion or search results, the page doesn't exist\u001b[39;00m\n\u001b[1;32m    275\u001b[0m       \u001b[38;5;28;01mraise\u001b[39;00m PageError(title)\n\u001b[0;32m--> 276\u001b[0m   \u001b[38;5;28;01mreturn\u001b[39;00m \u001b[43mWikipediaPage\u001b[49m\u001b[43m(\u001b[49m\u001b[43mtitle\u001b[49m\u001b[43m,\u001b[49m\u001b[43m \u001b[49m\u001b[43mredirect\u001b[49m\u001b[38;5;241;43m=\u001b[39;49m\u001b[43mredirect\u001b[49m\u001b[43m,\u001b[49m\u001b[43m \u001b[49m\u001b[43mpreload\u001b[49m\u001b[38;5;241;43m=\u001b[39;49m\u001b[43mpreload\u001b[49m\u001b[43m)\u001b[49m\n\u001b[1;32m    277\u001b[0m \u001b[38;5;28;01melif\u001b[39;00m pageid \u001b[38;5;129;01mis\u001b[39;00m \u001b[38;5;129;01mnot\u001b[39;00m \u001b[38;5;28;01mNone\u001b[39;00m:\n\u001b[1;32m    278\u001b[0m   \u001b[38;5;28;01mreturn\u001b[39;00m WikipediaPage(pageid\u001b[38;5;241m=\u001b[39mpageid, preload\u001b[38;5;241m=\u001b[39mpreload)\n",
      "File \u001b[0;32m/opt/miniconda3/envs/myenv/lib/python3.9/site-packages/wikipedia/wikipedia.py:299\u001b[0m, in \u001b[0;36mWikipediaPage.__init__\u001b[0;34m(self, title, pageid, redirect, preload, original_title)\u001b[0m\n\u001b[1;32m    296\u001b[0m \u001b[38;5;28;01melse\u001b[39;00m:\n\u001b[1;32m    297\u001b[0m   \u001b[38;5;28;01mraise\u001b[39;00m \u001b[38;5;167;01mValueError\u001b[39;00m(\u001b[38;5;124m\"\u001b[39m\u001b[38;5;124mEither a title or a pageid must be specified\u001b[39m\u001b[38;5;124m\"\u001b[39m)\n\u001b[0;32m--> 299\u001b[0m \u001b[38;5;28;43mself\u001b[39;49m\u001b[38;5;241;43m.\u001b[39;49m\u001b[43m__load\u001b[49m\u001b[43m(\u001b[49m\u001b[43mredirect\u001b[49m\u001b[38;5;241;43m=\u001b[39;49m\u001b[43mredirect\u001b[49m\u001b[43m,\u001b[49m\u001b[43m \u001b[49m\u001b[43mpreload\u001b[49m\u001b[38;5;241;43m=\u001b[39;49m\u001b[43mpreload\u001b[49m\u001b[43m)\u001b[49m\n\u001b[1;32m    301\u001b[0m \u001b[38;5;28;01mif\u001b[39;00m preload:\n\u001b[1;32m    302\u001b[0m   \u001b[38;5;28;01mfor\u001b[39;00m prop \u001b[38;5;129;01min\u001b[39;00m (\u001b[38;5;124m'\u001b[39m\u001b[38;5;124mcontent\u001b[39m\u001b[38;5;124m'\u001b[39m, \u001b[38;5;124m'\u001b[39m\u001b[38;5;124msummary\u001b[39m\u001b[38;5;124m'\u001b[39m, \u001b[38;5;124m'\u001b[39m\u001b[38;5;124mimages\u001b[39m\u001b[38;5;124m'\u001b[39m, \u001b[38;5;124m'\u001b[39m\u001b[38;5;124mreferences\u001b[39m\u001b[38;5;124m'\u001b[39m, \u001b[38;5;124m'\u001b[39m\u001b[38;5;124mlinks\u001b[39m\u001b[38;5;124m'\u001b[39m, \u001b[38;5;124m'\u001b[39m\u001b[38;5;124msections\u001b[39m\u001b[38;5;124m'\u001b[39m):\n",
      "File \u001b[0;32m/opt/miniconda3/envs/myenv/lib/python3.9/site-packages/wikipedia/wikipedia.py:345\u001b[0m, in \u001b[0;36mWikipediaPage.__load\u001b[0;34m(self, redirect, preload)\u001b[0m\n\u001b[1;32m    343\u001b[0m \u001b[38;5;28;01mif\u001b[39;00m \u001b[38;5;124m'\u001b[39m\u001b[38;5;124mmissing\u001b[39m\u001b[38;5;124m'\u001b[39m \u001b[38;5;129;01min\u001b[39;00m page:\n\u001b[1;32m    344\u001b[0m   \u001b[38;5;28;01mif\u001b[39;00m \u001b[38;5;28mhasattr\u001b[39m(\u001b[38;5;28mself\u001b[39m, \u001b[38;5;124m'\u001b[39m\u001b[38;5;124mtitle\u001b[39m\u001b[38;5;124m'\u001b[39m):\n\u001b[0;32m--> 345\u001b[0m     \u001b[38;5;28;01mraise\u001b[39;00m PageError(\u001b[38;5;28mself\u001b[39m\u001b[38;5;241m.\u001b[39mtitle)\n\u001b[1;32m    346\u001b[0m   \u001b[38;5;28;01melse\u001b[39;00m:\n\u001b[1;32m    347\u001b[0m     \u001b[38;5;28;01mraise\u001b[39;00m PageError(pageid\u001b[38;5;241m=\u001b[39m\u001b[38;5;28mself\u001b[39m\u001b[38;5;241m.\u001b[39mpageid)\n",
      "\u001b[0;31mPageError\u001b[0m: Page id \"rick miller\" does not match any pages. Try another id!"
     ]
    }
   ],
   "source": [
    "page = wikipedia.page(\"Rick Mahler\")"
   ]
  },
  {
   "cell_type": "code",
   "execution_count": 90,
   "metadata": {},
   "outputs": [],
   "source": [
    "import wikipedia\n",
    "import numpy as np\n",
    "from concurrent.futures import ThreadPoolExecutor, as_completed\n",
    "\n",
    "def subjects_direct_links_wiki_fast(subject_with_context):\n",
    "    subject_direct_dict = {}\n",
    "    subject_direct_word_dict = {}\n",
    "    result_set = set([])\n",
    "    result_dict = {}\n",
    "    \n",
    "    def process_subject(pair):\n",
    "        subject = pair[0]\n",
    "        context = pair[1]\n",
    "        try:\n",
    "            subj = subject + \": \" + context\n",
    "            if len(subj) > 250:\n",
    "                subj = subj[:250] \n",
    "                # print(f\"Truncated query: {subj}\")\n",
    "            \n",
    "            result = wikipedia.search(subj, results=1)\n",
    "            for results in result:\n",
    "                if results in result_set:\n",
    "                    return subject, result_dict[results], []\n",
    "                else:\n",
    "                    page = wikipedia.page(results)\n",
    "                    links = [link for link in page.links]\n",
    "                    return subject, None, links\n",
    "            return subject, None, []\n",
    "        except Exception as e:\n",
    "            print(f\"Query for {subj} didn't work: {e}\")\n",
    "            return subject, None, []\n",
    "\n",
    "    with ThreadPoolExecutor() as executor:\n",
    "        futures = [executor.submit(process_subject, pair) for pair in subject_with_context]\n",
    "        for future in as_completed(futures):\n",
    "            subject, encoded_data, links = future.result()\n",
    "            if encoded_data is not None:\n",
    "                subject_direct_dict[subject] = encoded_data\n",
    "            else:\n",
    "                if links:\n",
    "                    encoded_links = model.encode(links, show_progress_bar=False)\n",
    "                    subject_direct_word_dict[subject] = links\n",
    "                    subject_direct_dict[subject] = encoded_links\n",
    "                    result_set.add(subject)\n",
    "                    result_dict[subject] = encoded_links\n",
    "                else:\n",
    "                    subject_direct_word_dict[subject] = []\n",
    "                    subject_direct_dict[subject] = np.array([], dtype=\"float32\")\n",
    "\n",
    "    return subject_direct_dict, subject_direct_word_dict\n"
   ]
  },
  {
   "cell_type": "code",
   "execution_count": 91,
   "metadata": {},
   "outputs": [
    {
     "data": {
      "text/plain": [
       "[['Richard Keith Mahler',\n",
       "  'Richard Keith Mahler (August 5, 1953 in Austin, Texas Texas - March 2, 2005 in Jupiter, Florida ) was a starting pitcher in Major League Baseball who played for the Atlanta Braves (1979 -1988, 1991), Cincinnati Reds (1989-1990) and Montreal Expos (1991).'],\n",
       " ['Richard Keith Mahler brother Mickey',\n",
       "  'Richard Keith Mahler brother Mickey was also a Major League Baseball pitcher, with the two being teammates in 1979 .'],\n",
       " ['two',\n",
       "  'the two had previously been teammates playing for the Triple-A Richmond Braves.'],\n",
       " ['Austin',\n",
       "  'Born in Austin, Texas , Richard Keith Mahler graduated from John Jay High School and then attended Trinity University, both in San Antonio, Texas .'],\n",
       " ['season',\n",
       "  'Richard Keith Mahler best season came in 1985 , when Richard Keith Mahler went 17-15 with a 3.48 ERA.'],\n",
       " ['Virat Kohli', 'Indian Cricketer']]"
      ]
     },
     "execution_count": 91,
     "metadata": {},
     "output_type": "execute_result"
    }
   ],
   "source": [
    "subjects_with_context"
   ]
  },
  {
   "cell_type": "code",
   "execution_count": 60,
   "metadata": {},
   "outputs": [],
   "source": [
    "subjects_with_context.append(['Virat Kohli','Indian Cricketer'])"
   ]
  },
  {
   "cell_type": "code",
   "execution_count": 92,
   "metadata": {},
   "outputs": [
    {
     "name": "stdout",
     "output_type": "stream",
     "text": [
      "Query for Richard Keith Mahler brother Mickey: Richard Keith Mahler brother Mickey was also a Major League Baseball pitcher, with the two being teammates in 1979 . didn't work: Page id \"rick miller\" does not match any pages. Try another id!\n",
      "Query for Austin: Born in Austin, Texas , Richard Keith Mahler graduated from John Jay High School and then attended Trinity University, both in San Antonio, Texas . didn't work: Page id \"rick miller\" does not match any pages. Try another id!\n",
      "Query for season: Richard Keith Mahler best season came in 1985 , when Richard Keith Mahler went 17-15 with a 3.48 ERA. didn't work: Page id \"rick miller\" does not match any pages. Try another id!\n"
     ]
    },
    {
     "data": {
      "text/plain": [
       "({'Richard Keith Mahler': array([], dtype=float32),\n",
       "  'Richard Keith Mahler brother Mickey': array([], dtype=float32),\n",
       "  'two': array([[-0.02265206,  0.0010879 ,  0.01370007, ..., -0.032479  ,\n",
       "           0.01720726,  0.00445213],\n",
       "         [-0.0365615 ,  0.02709321,  0.02345949, ..., -0.01994519,\n",
       "           0.03132329,  0.00293135],\n",
       "         [-0.01592126,  0.05201155,  0.02858504, ..., -0.01279398,\n",
       "           0.02660117,  0.00396994],\n",
       "         ...,\n",
       "         [-0.03668725, -0.00275293,  0.01194312, ...,  0.04677752,\n",
       "          -0.01120493,  0.01350194],\n",
       "         [ 0.01197165,  0.00140239,  0.02752407, ...,  0.0183214 ,\n",
       "           0.01224163, -0.03842102],\n",
       "         [ 0.00618787, -0.00136719, -0.03693965, ...,  0.00438008,\n",
       "          -0.00909533,  0.00257993]], dtype=float32),\n",
       "  'Austin': array([], dtype=float32),\n",
       "  'season': array([], dtype=float32),\n",
       "  'Virat Kohli': array([[-0.03902974, -0.06275151, -0.01127133, ...,  0.00084654,\n",
       "           0.01985146,  0.02155641],\n",
       "         [-0.04373354, -0.05799465, -0.00368122, ..., -0.00078541,\n",
       "           0.01103885,  0.01862861],\n",
       "         [-0.03322043, -0.02028006,  0.01349401, ...,  0.02990761,\n",
       "           0.00912451,  0.01396054],\n",
       "         ...,\n",
       "         [-0.00613717,  0.01893144,  0.00105132, ...,  0.0493106 ,\n",
       "           0.01782053, -0.00718726],\n",
       "         [ 0.03920937,  0.03370506, -0.00279895, ...,  0.04726687,\n",
       "          -0.07020499,  0.00093569],\n",
       "         [-0.00245601, -0.02317117, -0.03176381, ..., -0.01290523,\n",
       "          -0.035393  ,  0.00284538]], dtype=float32)},\n",
       " {'Richard Keith Mahler': [],\n",
       "  'two': ['1869 Princeton vs. Rutgers football game',\n",
       "   '1995 USISL Premier League season',\n",
       "   '1996 USISL Premier League season',\n",
       "   '1997 PDSL season',\n",
       "   '1998 PDSL season',\n",
       "   '1999 PDL season',\n",
       "   '2000 PDL season',\n",
       "   '2001 PDL season',\n",
       "   '2002 PDL season',\n",
       "   '2003 PDL season',\n",
       "   '2004 PDL season',\n",
       "   '2005 PDL season',\n",
       "   '2006 PDL season',\n",
       "   '2007 PDL season',\n",
       "   '2008 PDL season',\n",
       "   '2009 PDL season',\n",
       "   '2010 PDL season',\n",
       "   '2011 PDL season',\n",
       "   '2012 PDL season',\n",
       "   '2013 PDL season',\n",
       "   '2014 PDL season',\n",
       "   '2015 PDL season',\n",
       "   '2016 PDL season',\n",
       "   '2017 PDL season',\n",
       "   '2018 PDL season',\n",
       "   '2019 USL League Two season',\n",
       "   '2020 USL League Two season',\n",
       "   '2021 USL League Two season',\n",
       "   '2022 USL League Two season',\n",
       "   '2023 USL League Two season',\n",
       "   '2024 USL League Two season',\n",
       "   'A-League (1995–2004)',\n",
       "   'AC Connecticut',\n",
       "   'AC Houston Sur',\n",
       "   'AFC Ann Arbor',\n",
       "   'AHFC Royals',\n",
       "   'AMSG FC',\n",
       "   'Aaron Wheeler (soccer)',\n",
       "   'Academica SC',\n",
       "   'Afc Ann Arbor',\n",
       "   'Albany Rush',\n",
       "   'Alberta Major Soccer League',\n",
       "   'Alberta Soccer Association',\n",
       "   'Albion SC Colorado',\n",
       "   'Albuquerque, New Mexico',\n",
       "   'Almaden FC',\n",
       "   'Almaden Valley, San Jose',\n",
       "   'American Amateur Football Association Cup',\n",
       "   'American Cup',\n",
       "   'American Football Association (1884–1924)',\n",
       "   'American Indoor Soccer League',\n",
       "   'American League of Professional Football',\n",
       "   'American Premier Soccer League',\n",
       "   'American Professional Soccer League',\n",
       "   'American Soccer League (1921–1933)',\n",
       "   'American Soccer League (1933–1983)',\n",
       "   'American Soccer League (1988–89)',\n",
       "   'American Youth Soccer Organization',\n",
       "   'American soccer clubs in international competitions',\n",
       "   'Amr Neamatalla',\n",
       "   'Ann Arbor, Michigan',\n",
       "   'Anthony Grant (footballer, born 1989)',\n",
       "   'Aquinas College (Michigan)',\n",
       "   'Argentina',\n",
       "   'Arizona Arsenal SC',\n",
       "   'Arshak Abyanli',\n",
       "   'Arvada, Colorado',\n",
       "   'Asheville, North Carolina',\n",
       "   'Asheville City SC',\n",
       "   'Association football',\n",
       "   'Athens, Georgia',\n",
       "   'Athens United',\n",
       "   'Atlanta, Georgia',\n",
       "   'Atwood Stadium',\n",
       "   'Augusta FireBall',\n",
       "   'Aurora, Colorado',\n",
       "   'Aurora, Illinois',\n",
       "   'Austin Aztex',\n",
       "   'Austin Lightning',\n",
       "   'Austin Lone Stars',\n",
       "   'Ballard FC',\n",
       "   'Baltimore, Maryland',\n",
       "   'Bavarian United SC',\n",
       "   'Beau Brown',\n",
       "   'Belhaven Blazers',\n",
       "   'Bell Bank Park',\n",
       "   'Bellarmine Preparatory School',\n",
       "   'Bellevue, Washington',\n",
       "   'Bellevue College',\n",
       "   'Bethlehem, Pennsylvania',\n",
       "   'Birmingham, Alabama',\n",
       "   'Birmingham Legion 2',\n",
       "   'Bishop Dwenger High School',\n",
       "   'Black Rock FC',\n",
       "   'Blue Goose SC',\n",
       "   'Boniventure Manati',\n",
       "   'Bosnia and Herzegovina',\n",
       "   'Boston Bolts (USL)',\n",
       "   'Boston City FC',\n",
       "   'Boulder Rapids Reserve',\n",
       "   \"Bowling Green Falcons men's soccer\",\n",
       "   'Brandon Swartzendruber',\n",
       "   'Brazil',\n",
       "   'Brazos Valley Cavalry F.C.',\n",
       "   'Brazos Valley Cavalry FC',\n",
       "   'Brent Richards',\n",
       "   'Brevard SC',\n",
       "   'Brian Ching',\n",
       "   'Brian Johnson (soccer)',\n",
       "   'Brian White (soccer)',\n",
       "   'British Columbia Provincial Soccer Championship',\n",
       "   'British Columbia Soccer Association',\n",
       "   'Brooke House FC',\n",
       "   'Bryan, Texas',\n",
       "   'Buffalo, New York',\n",
       "   'Burlington, Vermont',\n",
       "   'COVID-19 pandemic',\n",
       "   'COVID-19 pandemic in the United States',\n",
       "   'Calgary Foothills FC',\n",
       "   'Calgary Storm',\n",
       "   'California Vulcans',\n",
       "   'Calum Mallace',\n",
       "   'Calverton School',\n",
       "   'Campbell Fighting Camels and Lady Camels',\n",
       "   'Canada',\n",
       "   'Canada Soccer Hall of Fame',\n",
       "   'Canada Soccer Player of the Year',\n",
       "   \"Canada men's national soccer team\",\n",
       "   \"Canada men's national soccer team records and statistics\",\n",
       "   \"Canada men's national soccer team results\",\n",
       "   \"Canada men's national under-17 soccer team\",\n",
       "   \"Canada men's national under-20 soccer team\",\n",
       "   \"Canada men's national under-23 soccer team\",\n",
       "   'Canada national beach soccer team',\n",
       "   'Canada national futsal team',\n",
       "   'Canada soccer national championships',\n",
       "   \"Canada women's national soccer team\",\n",
       "   \"Canada women's national soccer team results\",\n",
       "   \"Canada women's national under-17 soccer team\",\n",
       "   \"Canada women's national under-20 soccer team\",\n",
       "   'Canadian Championship',\n",
       "   'Canadian Collegiate Athletic Association Soccer National Championships',\n",
       "   'Canadian Major Indoor Soccer League',\n",
       "   'Canadian National Soccer League',\n",
       "   'Canadian Premier League',\n",
       "   'Canadian Premier League Finals',\n",
       "   'Canadian Professional Soccer League (1983)',\n",
       "   'Canadian Soccer Association',\n",
       "   'Canadian Soccer League',\n",
       "   'Canadian Soccer League (1987–1992)',\n",
       "   'Canadian Soccer League championship final',\n",
       "   'Canadian soccer clubs in international competitions',\n",
       "   'Canadian soccer league system',\n",
       "   'Cape Cod Crusaders',\n",
       "   'Capital FC',\n",
       "   'Capo FC',\n",
       "   'Cardinale Stadium',\n",
       "   'Carey Stadium',\n",
       "   'Carl Craig (football manager)',\n",
       "   'Carolina Dynamo',\n",
       "   'Cary, North Carolina',\n",
       "   'Cedar Stars Rush',\n",
       "   'Central Coast Roadrunners',\n",
       "   'Central Florida Kraze',\n",
       "   'Central Texas Lobos FC',\n",
       "   'Challenge Trophy',\n",
       "   'Charlotesville Blues',\n",
       "   'Charlotte, North Carolina',\n",
       "   'Charlotte Eagles',\n",
       "   'Charlotte Independence 2',\n",
       "   'Charlotte Independence II',\n",
       "   'Charlottesville, Virginia',\n",
       "   'Charlottesville Blues FC',\n",
       "   'Chevaughn Walsh',\n",
       "   'Chicago, Illinois',\n",
       "   'Chicago City SC',\n",
       "   'Chicago Dutch Lions',\n",
       "   'Chicago Dutch Lions FC',\n",
       "   'Chicago Fire Premier',\n",
       "   'Chicago Fire Reserves',\n",
       "   'Chicago Sockers',\n",
       "   'Chris Whalley',\n",
       "   'Christos FC',\n",
       "   'Cincinnati, Ohio',\n",
       "   'City Park Stadium',\n",
       "   'Clawson, Michigan',\n",
       "   'Cleveland, Ohio',\n",
       "   'Cleveland Force FC',\n",
       "   'Cleveland Force SC',\n",
       "   'Clinton, Mississippi',\n",
       "   'Clinton High School (Clinton, Mississippi)',\n",
       "   'Coachella, California',\n",
       "   'Coachella FC',\n",
       "   'Cochella FC',\n",
       "   'Cocoa Expos',\n",
       "   'College soccer in the United States',\n",
       "   'Colombia',\n",
       "   'Colorado International Soccer Academy',\n",
       "   'Columbia, South Carolina',\n",
       "   'Community college',\n",
       "   'Continental Indoor Soccer League',\n",
       "   'Corcoran Field',\n",
       "   'Corpus Christi, Texas',\n",
       "   'Corpus Christi FC',\n",
       "   'Cosmopolitan Soccer League',\n",
       "   'Creekside High School (Florida)',\n",
       "   'Croatian-North American Soccer Tournament',\n",
       "   'Czech Republic',\n",
       "   'Dallas, Georgia',\n",
       "   'Davenport Panthers',\n",
       "   'Davidson Wildcats',\n",
       "   'Davis, California',\n",
       "   'Davis Legacy SC',\n",
       "   'Dayton Dutch Lions',\n",
       "   'Dayton Outpatient Center Stadium',\n",
       "   'Deri Corfe',\n",
       "   'Des Moines, Iowa',\n",
       "   'Des Moines Menace',\n",
       "   'Desert Mirage High School',\n",
       "   'Detroit Dynamite',\n",
       "   'Detroit Mercy Titans',\n",
       "   'Dillon Stadium',\n",
       "   'Dominion Football Association',\n",
       "   'Dothan, Alabama',\n",
       "   'Dothan United',\n",
       "   'Dothan United Dragons',\n",
       "   'Dothan United SC',\n",
       "   'Drew University',\n",
       "   \"Duke Blue Devils men's soccer\",\n",
       "   'Dunbar, West Virginia',\n",
       "   'Durham, North Carolina',\n",
       "   'Durham County Stadium',\n",
       "   'Dzenan Catic',\n",
       "   'East Atlanta Dutch Lions',\n",
       "   'East Atlanta Dutch Lions FC',\n",
       "   'East Atlanta FC',\n",
       "   'Eastern Canada Professional Soccer League',\n",
       "   'Eastern Indoor Soccer League',\n",
       "   'Eastern Premier Soccer League',\n",
       "   'Ecuador',\n",
       "   'Edible Field',\n",
       "   'Edson Buddle',\n",
       "   'El Paso Patriots',\n",
       "   'England',\n",
       "   'Englewood High School (Colorado)',\n",
       "   'Eric Pogue',\n",
       "   'Erik Oman',\n",
       "   'Eugene, Oregon',\n",
       "   'Evergreen Premier League',\n",
       "   'Exeter Township Senior High School',\n",
       "   'FC Buffalo',\n",
       "   'FC Motown',\n",
       "   'FC Motown STA',\n",
       "   'FC Tucson',\n",
       "   'FC Wichita',\n",
       "   'Fabio Eidelwein',\n",
       "   'Fabio Eidenwein',\n",
       "   'Fairleigh Dickinson University',\n",
       "   'Federico Molinari (footballer)',\n",
       "   'Fernando Salazar',\n",
       "   'Finland',\n",
       "   'Flatirons Rush',\n",
       "   'Flatirons Rush SC',\n",
       "   'Flint, Michigan',\n",
       "   'Flint City Bucks',\n",
       "   'Florida',\n",
       "   'Florida Elite SA',\n",
       "   'Florida Elite Soccer Academy',\n",
       "   'Florida Tropics SC',\n",
       "   'Forest City London',\n",
       "   'Fort Wayne, Indiana',\n",
       "   'Fort Wayne FC',\n",
       "   'Fox Soccer Channel',\n",
       "   'Franklin, Tennessee',\n",
       "   'Frederico Moojen',\n",
       "   'Fresno FC U-23',\n",
       "   'Fresno Fuego',\n",
       "   'Fresno Pacific Sunbirds',\n",
       "   'Futsal Canadian Championship',\n",
       "   'Gabe Jones (soccer)',\n",
       "   'Gaelic Park',\n",
       "   'Gainesville, Florida',\n",
       "   'Geography of association football',\n",
       "   'Grand Rapids, Michigan',\n",
       "   'Gulf Coast Premier League',\n",
       "   'Gustavo Oliveira',\n",
       "   'Hamid Mehreioskouei',\n",
       "   'Hampton, New Hampshire',\n",
       "   'Hampton Roads Piranhas (PDL)',\n",
       "   'Hank Steinbrecher Cup',\n",
       "   'Hartford, Connecticut',\n",
       "   'Hattiesburg, Mississippi',\n",
       "   'Hattiesburg FC',\n",
       "   'Hays Consolidated Independent School District',\n",
       "   'Hempstead, New York',\n",
       "   'Herriman, Utah',\n",
       "   'Hill Country Lobos',\n",
       "   'History of Major League Soccer',\n",
       "   'History of soccer in Seattle',\n",
       "   'History of soccer in the United States',\n",
       "   'Hofstra University Soccer Stadium',\n",
       "   'Holly Springs, North Carolina',\n",
       "   'Hollywood United Hitmen',\n",
       "   'Honduras',\n",
       "   'Houston',\n",
       "   'Houston, Texas',\n",
       "   'Houston Baptist Huskies',\n",
       "   'Houston FC',\n",
       "   'Hudson Valley Hammers',\n",
       "   'Huntington Beach, California',\n",
       "   'Ian Bishop (footballer)',\n",
       "   'Inter-Provincial Cup (soccer)',\n",
       "   'Inter Gainesville KF',\n",
       "   'Ironbound SC',\n",
       "   'Italy',\n",
       "   'JSerra Catholic High School',\n",
       "   'Jackson Chargers',\n",
       "   'Jake Gleeson',\n",
       "   'Jake Keegan',\n",
       "   'Jamaica',\n",
       "   'James Riley (soccer)',\n",
       "   'Japan',\n",
       "   'Jason Dunn (soccer)',\n",
       "   'Jefferson College (Missouri)',\n",
       "   'Jimmy Conrad',\n",
       "   'Joliet, Illinois',\n",
       "   'Joliet Memorial Stadium',\n",
       "   'Josh Gardner (soccer)',\n",
       "   'Jubilee Trophy',\n",
       "   'Julio Daniel Frías',\n",
       "   'Junior Garcia',\n",
       "   'Justi Baumgardt',\n",
       "   'Jürgen Klinsmann',\n",
       "   'K-W United FC',\n",
       "   'KBTX-TV',\n",
       "   'Kalamazoo, Michigan',\n",
       "   'Kalamazoo FC',\n",
       "   \"Kelham O'Hanlon\",\n",
       "   'Kenny Uzoigwe',\n",
       "   'Kenya',\n",
       "   'Kezar Stadium',\n",
       "   'Kings Hammer FC',\n",
       "   'Kings Hammer SC',\n",
       "   'Kino Sports Complex',\n",
       "   'Kitsap Pumas',\n",
       "   'Kris Tyrpak',\n",
       "   'Kyle, Texas',\n",
       "   'K–W United FC',\n",
       "   'LA Krewe FC',\n",
       "   'La Mirada, California',\n",
       "   'La Mirada High School',\n",
       "   'Lafayette, Colorado',\n",
       "   'Lafayette, Louisiana',\n",
       "   'Lakeland, Florida',\n",
       "   'Lane United FC',\n",
       "   'Lansing, Michigan',\n",
       "   'Lansing Catholic High School',\n",
       "   'Lansing City Football',\n",
       "   'Laredo Heat',\n",
       "   'Lawrence Olum',\n",
       "   'Lawrie Dudfield',\n",
       "   'League1 Alberta',\n",
       "   'League1 British Columbia',\n",
       "   'League1 Canada',\n",
       "   'League1 Ontario',\n",
       "   'League1 Ontario (women)',\n",
       "   'Leesburg, Virginia',\n",
       "   'Lehigh Valley United',\n",
       "   'Lenoir–Rhyne Bears',\n",
       "   'Lester Felicia',\n",
       "   'Ligue1 Québec',\n",
       "   'Ligue de soccer élite du Québec',\n",
       "   'Lincoln Memorial Railsplitters',\n",
       "   'Lionsbridge FC',\n",
       "   'List of American and Canadian soccer champions',\n",
       "   \"List of Canada men's international soccer players\",\n",
       "   \"List of Canada women's international soccer players\",\n",
       "   'List of Canadian Championship finals',\n",
       "   \"List of Canadian men's soccer champions\",\n",
       "   'List of Canadian soccer clubs in American leagues',\n",
       "   'List of USL League Two teams',\n",
       "   \"List of United States men's international soccer players\",\n",
       "   \"List of United States women's international soccer players\",\n",
       "   'List of most expensive American soccer transfers',\n",
       "   'List of soccer clubs in Canada',\n",
       "   'List of soccer clubs in Canada by competitive honours won',\n",
       "   'List of soccer clubs in the United States',\n",
       "   'List of soccer stadiums in Canada',\n",
       "   'List of soccer stadiums in the United States',\n",
       "   'Little Rock, Arkansas',\n",
       "   'Little Rock Rangers',\n",
       "   'Livingston, New Jersey',\n",
       "   'Livingston High School (New Jersey)',\n",
       "   'Logan Farrington',\n",
       "   'Lone Star Soccer Alliance',\n",
       "   'Long Island Rough Riders',\n",
       "   'Los Angeles Heroes',\n",
       "   'Louisiana Krewe FC',\n",
       "   'Ludlow, Massachusetts',\n",
       "   'Lusitano Stadium',\n",
       "   'MLS Cup',\n",
       "   'MLS Cup Playoffs',\n",
       "   'MLS Next',\n",
       "   'MLS Next Pro',\n",
       "   'MLS SuperDraft',\n",
       "   'Macomb Township, Michigan',\n",
       "   'Mainland Cup',\n",
       "   'Maitland, Florida',\n",
       "   'Major Arena Soccer League',\n",
       "   'Major Arena Soccer League 2',\n",
       "   'Major Arena Soccer League 3',\n",
       "   'Major Indoor Soccer League (1978–1992)',\n",
       "   'Major Indoor Soccer League (2001–2008)',\n",
       "   'Major Indoor Soccer League (2008–2014)',\n",
       "   'Major League Futsal',\n",
       "   'Major League Indoor Soccer (2022-present)',\n",
       "   'Major League Soccer',\n",
       "   'Manchester Center, Vermont',\n",
       "   'Manchester Meadows Soccer Complex',\n",
       "   'Manhattan SC',\n",
       "   'Manitoba Major Soccer League',\n",
       "   'Manitoba Soccer Association',\n",
       "   'Marin County, California',\n",
       "   'Marin FC Legends',\n",
       "   'Marshalltown Community College',\n",
       "   'Mayo Field (Centenary College)',\n",
       "   'Melbourne, Florida',\n",
       "   'Melbourne Central Catholic High School',\n",
       "   'Memorial Stadium (Asheville)',\n",
       "   'Memorial Stadium (Seattle)',\n",
       "   'Mercer County Community College',\n",
       "   'Mesa, Arizona',\n",
       "   'Metuchen, New Jersey',\n",
       "   'Mexico',\n",
       "   'Miami',\n",
       "   'Miami AC',\n",
       "   'Michiana Lions',\n",
       "   'Michiana Lions FC',\n",
       "   'Michigan Bucks',\n",
       "   'Mid-Michigan Bucks',\n",
       "   'Midlakes United',\n",
       "   'Midvale, Utah',\n",
       "   'Midwest Premier League',\n",
       "   'Midwest United FC',\n",
       "   'Mike Avery',\n",
       "   'Milton Blanco',\n",
       "   'Milwaukee',\n",
       "   'Minneapolis, Minnesota',\n",
       "   'Minneapolis City SC',\n",
       "   'Mississippi Brilla',\n",
       "   'Mississippi Brilla FC',\n",
       "   'Mitch Hildebrandt',\n",
       "   'Monterey Bay FC',\n",
       "   'Moravian College',\n",
       "   'Morris Elite SC',\n",
       "   'Morristown, New Jersey',\n",
       "   'Most Valuable Player',\n",
       "   'Mount Ida College',\n",
       "   'Mount Saint Mary College',\n",
       "   'NISA Nation',\n",
       "   'NONA FC',\n",
       "   'NWSL Challenge Cup',\n",
       "   'NWSL Playoffs',\n",
       "   'NWSL Shield',\n",
       "   'Nashville Metros',\n",
       "   'National Amateur Cup',\n",
       "   'National Association Football League',\n",
       "   'National Association of Intercollegiate Athletics',\n",
       "   'National Federation of State High School Associations',\n",
       "   'National Independent Soccer Association',\n",
       "   'National Indoor Soccer League (2021)',\n",
       "   'National Premier Soccer League',\n",
       "   'National Professional Soccer League (1967)',\n",
       "   'National Professional Soccer League (1984–2001)',\n",
       "   'National Soccer Hall of Fame',\n",
       "   \"National Women's Soccer League\",\n",
       "   'Netherlands',\n",
       "   'New Jersey Copa FC',\n",
       "   'New Mexico United U23',\n",
       "   'New Orleans Jesters',\n",
       "   'New Orleans Shell Shockers',\n",
       "   'New Rochelle, New York',\n",
       "   'New York City, New York',\n",
       "   'New York Red Bulls U-23',\n",
       "   'Newark, New Jersey',\n",
       "   'Newburgh, New York',\n",
       "   'Newfoundland and Labrador Challenge Cup',\n",
       "   'Newfoundland and Labrador Soccer Association',\n",
       "   'Newport News, Virginia',\n",
       "   'Newton, Massachusetts',\n",
       "   'Nicolás Molina',\n",
       "   'Nona FC',\n",
       "   'North American Soccer Football League',\n",
       "   'North American Soccer League (1968–1984)',\n",
       "   'North American Soccer League (2011–2017)',\n",
       "   'North Carolina FC U23',\n",
       "   'North Carolina Fusion U23',\n",
       "   'North Paulding High School',\n",
       "   'Northern Ireland',\n",
       "   'Northern Super League',\n",
       "   'Northern Virginia FC',\n",
       "   'Northwest Territories Soccer Association',\n",
       "   'Nunavut Soccer Association',\n",
       "   'Oakland, California',\n",
       "   'Oakland County FC',\n",
       "   'Ocean City, New Jersey',\n",
       "   \"Ocean City Nor'Easters\",\n",
       "   \"Ocean City Nor'easters\",\n",
       "   'Ohio Valley Premier League',\n",
       "   'Oklahoma Baptist Bison',\n",
       "   'Oly Town FC',\n",
       "   'Olympia, Washington',\n",
       "   'Ontario Cup',\n",
       "   'Ontario Soccer Association',\n",
       "   'Ontario Soccer League',\n",
       "   'Open Canada Cup',\n",
       "   'Orange County Blue Star',\n",
       "   \"Oregon State Beavers men's soccer\",\n",
       "   'Orlando, Florida',\n",
       "   'Pablo Campos',\n",
       "   'Pacific Coast Soccer League',\n",
       "   'Pacific Coast Soccer League (1908–1973)',\n",
       "   'Pasi Kinturi',\n",
       "   'Pathfinder FC',\n",
       "   'Patuxent, Maryland',\n",
       "   'Patuxent Football Athletics',\n",
       "   'Paul Nicholson (footballer)',\n",
       "   'Peoria, Illinois',\n",
       "   'Peoria City (soccer)',\n",
       "   'Philadelphia, Pennsylvania',\n",
       "   'Philadelphia Lone Star FC',\n",
       "   'Pleasant Valley, New York',\n",
       "   'Portland, Oregon',\n",
       "   'Portland Timbers U23s',\n",
       "   'Portugal',\n",
       "   'Premier Arena Soccer League',\n",
       "   'Premier League of America',\n",
       "   'Prince Edward Island Soccer Association',\n",
       "   'Professional Futsal League',\n",
       "   'Project 51O',\n",
       "   'Quebec Soccer Federation',\n",
       "   'RKC SC',\n",
       "   'RKC Third Coast',\n",
       "   'Racine, Wisconsin',\n",
       "   'Ramiro Corrales',\n",
       "   'Randalls and Wards Islands',\n",
       "   'Ravenwood High School',\n",
       "   'Reading, Pennsylvania',\n",
       "   'Reading Rage',\n",
       "   'Reading United AC',\n",
       "   'Real Central New Jersey',\n",
       "   'Redlands, California',\n",
       "   'Redlands FC',\n",
       "   'Redlands High School',\n",
       "   'Republic of Ireland',\n",
       "   'Revere, Massachusetts',\n",
       "   'Richmond Kickers',\n",
       "   'Rip Hewes Stadium',\n",
       "   'River City FC',\n",
       "   'River Light FC',\n",
       "   'Rochester, Minnesota',\n",
       "   'Rochester Community and Technical College',\n",
       "   'Rochester FC',\n",
       "   'Rock Hill, South Carolina',\n",
       "   'Rodrigo Costa (footballer, born 1976)',\n",
       "   'Ruben Mingo',\n",
       "   'Rudy Ybarra',\n",
       "   'Ryosuke Kinoshita (soccer)',\n",
       "   'SC United Bantams',\n",
       "   'Salem, Oregon',\n",
       "   'Salem City FC',\n",
       "   'Salinas, California',\n",
       "   'Salinas Sports Complex',\n",
       "   'Salt City SC',\n",
       "   'Samory Powder',\n",
       "   'San Fernando Valley Heroes',\n",
       "   'San Francisco, California',\n",
       "   'San Francisco All-Blacks United',\n",
       "   'San Francisco Bay Seals',\n",
       "   'San Francisco City FC',\n",
       "   'San Francisco City SC',\n",
       "   'San Francisco Glens',\n",
       "   'San Francisco Glens SC',\n",
       "   'San Francisco Soccer Football League',\n",
       "   'San Gabriel Valley Highlanders',\n",
       "   'San Juan Capistrano, California',\n",
       "   'San Luis Obispo, California',\n",
       "   'San Rafael High School',\n",
       "   'Sarasota, Florida',\n",
       "   'Sarasota High School',\n",
       "   'Sarasota Paradise',\n",
       "   'Saskatchewan Soccer Association',\n",
       "   'Schenectady, New York',\n",
       "   'Scotland',\n",
       "   'Seacoast United Phantoms',\n",
       "   'Seattle',\n",
       "   'SheBelieves Cup',\n",
       "   'Shea Stadium (Peoria, Illinois)',\n",
       "   'Shreveport, Louisiana',\n",
       "   'Sierra Leone',\n",
       "   'Sioux City Breeze',\n",
       "   'Sioux Falls Spitfire',\n",
       "   'Skyline College',\n",
       "   'Soccer-specific stadium',\n",
       "   'Soccer America',\n",
       "   'Soccer Bowl',\n",
       "   'Soccer Bowl (2011–2017)',\n",
       "   'Soccer New Brunswick',\n",
       "   'Soccer Nova Scotia',\n",
       "   'Soccer at the Canada Games',\n",
       "   'Soccer in Canada',\n",
       "   'Soccer in Houston',\n",
       "   'Soccer in Los Angeles',\n",
       "   'Soccer in St. Louis',\n",
       "   'Soccer in the New York metropolitan area',\n",
       "   'Soccer in the United States',\n",
       "   'Soisson-Rapacz-Clason Field',\n",
       "   'South Bend, Indiana',\n",
       "   'South Bend Lions FC',\n",
       "   'South Carolina United',\n",
       "   'Southern California Eagles',\n",
       "   'Southern California Seahorses',\n",
       "   'Southern Soccer Academy',\n",
       "   'Southern Soccer Academy Kings',\n",
       "   'Spain',\n",
       "   'Spokane Shadow',\n",
       "   'Sports broadcasting contracts in the United States',\n",
       "   'Sportsplex at Matthews',\n",
       "   'Springfield Asc',\n",
       "   \"St. Anne's-Belfield School\",\n",
       "   'St. Charles, Missouri',\n",
       "   'St. Charles FC',\n",
       "   'St. Croix Legends',\n",
       "   'St. Croix SC',\n",
       "   \"St. Edward's Hilltoppers\",\n",
       "   'St. John Paul II High School (Corpus Christi, Texas)',\n",
       "   'St. Johns, Florida',\n",
       "   'St. Joseph High School (Metuchen, New Jersey)',\n",
       "   'St. Petersburg, Florida',\n",
       "   'St. Petersburg FC',\n",
       "   'St. Petersburg High School',\n",
       "   'Starfire Stadium',\n",
       "   'Staten Island',\n",
       "   'Staten Island Sporting Athletic Club',\n",
       "   'Stephanie Labbé',\n",
       "   'Stewart Givens',\n",
       "   'Stillwater, Minnesota',\n",
       "   'Stillwater Area High School',\n",
       "   'Sueno FC',\n",
       "   'Sueño FC',\n",
       "   'Sullivan Silva',\n",
       "   'Summerfield, Florida',\n",
       "   'Super Y League',\n",
       "   'Tacoma',\n",
       "   'Tacoma Stars',\n",
       "   'Tampa',\n",
       "   'Tampa, Florida',\n",
       "   'Tampa Bay United',\n",
       "   'Tampa Bay United SC',\n",
       "   'Teaneck, New Jersey',\n",
       "   'Tennessee SC',\n",
       "   'The New York Times',\n",
       "   'The Seattle Times',\n",
       "   'The Village School (Houston)',\n",
       "   'The Villages SC',\n",
       "   'Thunder Bay, Ontario',\n",
       "   'Thunder Bay Chill',\n",
       "   'Tobacco Road FC',\n",
       "   'Toledo, Ohio',\n",
       "   'Toledo Villa FC',\n",
       "   'Tomas Boltnar',\n",
       "   'Tournament of Nations',\n",
       "   'TowneBank Stadium',\n",
       "   'Trinidad and Tobago',\n",
       "   'Tucson, Arizona',\n",
       "   'Tukwila, Washington',\n",
       "   'Turkmenistan',\n",
       "   'Turlock, California',\n",
       "   'Tweet (social media)',\n",
       "   'Twitter',\n",
       "   'Ty Shipalane',\n",
       "   'U.S. Open Cup',\n",
       "   'UNC Wilmington Seahawks',\n",
       "   \"USASA National Women's Amateur\",\n",
       "   \"USASA National Women's Open\",\n",
       "   'USISL',\n",
       "   'USISL Select League',\n",
       "   'USL2',\n",
       "   'USL Academy League',\n",
       "   'USL Championship',\n",
       "   'USL Championship Final',\n",
       "   'USL Championship final',\n",
       "   'USL Cup',\n",
       "   'USL First Division',\n",
       "   'USL League One',\n",
       "   'USL League Two',\n",
       "   'USL Second Division',\n",
       "   'USL Super League',\n",
       "   'USL W-League (1995–2015)',\n",
       "   'USL W League',\n",
       "   'USL Youth',\n",
       "   'USSF Division 2 Professional League',\n",
       "   'US Club Soccer',\n",
       "   'US Youth Soccer National Championships',\n",
       "   \"U Sports men's soccer\",\n",
       "   \"U Sports men's soccer championship\",\n",
       "   \"U Sports women's soccer\",\n",
       "   \"U Sports women's soccer championship\",\n",
       "   'Union Bulldogs and Lady Bulldogs',\n",
       "   'Union College',\n",
       "   'Union FC Macomb',\n",
       "   'United PDX',\n",
       "   'United Premier Soccer League',\n",
       "   'United Soccer Association',\n",
       "   'United Soccer League',\n",
       "   'United Soccer League (1984–85)',\n",
       "   'United Soccer League of Pennsylvania',\n",
       "   'United Soccer Leagues',\n",
       "   'United States',\n",
       "   'United States Adult Soccer Association',\n",
       "   'United States Open Cup for Arena Soccer',\n",
       "   'United States Soccer Federation',\n",
       "   'United States Soccer Federation State Soccer Association',\n",
       "   'United States Youth Soccer Association',\n",
       "   \"United States boys' national under-15 soccer team\",\n",
       "   \"United States men's Paralympic soccer team\",\n",
       "   \"United States men's national beach soccer team\",\n",
       "   \"United States men's national soccer team\",\n",
       "   \"United States men's national soccer team results\",\n",
       "   \"United States men's national under-17 soccer team\",\n",
       "   \"United States men's national under-18 soccer team\",\n",
       "   \"United States men's national under-20 soccer team\",\n",
       "   \"United States men's national under-23 soccer team\",\n",
       "   'United States national arena soccer team',\n",
       "   'United States national futsal team',\n",
       "   'United States soccer league system',\n",
       "   \"United States women's national deaf soccer team\",\n",
       "   \"United States women's national futsal team\",\n",
       "   \"United States women's national soccer team\",\n",
       "   \"United States women's national under-17 soccer team\",\n",
       "   \"United States women's national under-18 soccer team\",\n",
       "   \"United States women's national under-19 soccer team\",\n",
       "   \"United States women's national under-20 soccer team\",\n",
       "   \"United States women's national under-23 soccer team\",\n",
       "   \"United Women's Soccer\",\n",
       "   'University of Toledo',\n",
       "   'Urban area',\n",
       "   'Utah Avalanche',\n",
       "   'Utah County, Utah',\n",
       "   'Utah United',\n",
       "   'Valley High School (West Des Moines, Iowa)',\n",
       "   'Vancouver Metro Soccer League',\n",
       "   'Vancouver Whitecaps FC U-23',\n",
       "   'Venezuela',\n",
       "   'Ventura, California',\n",
       "   'Ventura College',\n",
       "   'Ventura County Fusion',\n",
       "   'Vermont Green FC',\n",
       "   'Victoria Challenge Cup',\n",
       "   'Victoria Highlanders',\n",
       "   'Virginia Beach, Virginia',\n",
       "   'Virginia Beach Piranhas',\n",
       "   'Virginia Beach Sportsplex',\n",
       "   'Virginia Beach United',\n",
       "   'Virginia Beach United FC',\n",
       "   'Virginia Marauders FC',\n",
       "   'Virtue Field',\n",
       "   'Voyageurs Cup',\n",
       "   'Voyageurs Cup (women)',\n",
       "   'WakeMed Soccer Park',\n",
       "   'Wake FC',\n",
       "   'Wales',\n",
       "   'War Memorial Stadium (Arkansas)',\n",
       "   'Washington (state)',\n",
       "   \"Washington Huskies men's soccer\",\n",
       "   'Wenatchee Valley College',\n",
       "   'West Carrollton, Ohio',\n",
       "   'West Chester, Pennsylvania',\n",
       "   'West Chester United SC',\n",
       "   'West Seattle Junction FC',\n",
       "   'West Texas A&M Buffaloes',\n",
       "   'West Virginia United',\n",
       "   'West Windsor, New Jersey',\n",
       "   'Westchester Flames',\n",
       "   'Western Canada Soccer League',\n",
       "   'Western Football Association',\n",
       "   'Western Indoor Soccer League',\n",
       "   'Western Mass Pioneers',\n",
       "   'Western Soccer Alliance',\n",
       "   'Weston, Florida',\n",
       "   'Weston FC',\n",
       "   'Williamsville South High School',\n",
       "   'Winchester, Virginia',\n",
       "   'Winston-Salem, North Carolina',\n",
       "   'Wisconsin',\n",
       "   \"Women's Inter-Provincial Championship\",\n",
       "   \"Women's Premier Soccer League\",\n",
       "   \"Women's Premier Soccer League Elite\",\n",
       "   \"Women's Professional Soccer\",\n",
       "   \"Women's United Soccer Association\",\n",
       "   \"Women's soccer in Canada\",\n",
       "   \"Women's soccer in the United States\",\n",
       "   'World Indoor Soccer League',\n",
       "   \"Wright State Raiders men's soccer\",\n",
       "   'Xtreme Soccer League',\n",
       "   'Yakima Reds',\n",
       "   'YouTube',\n",
       "   'Yukon Soccer Association'],\n",
       "  'Virat Kohli': ['1975 Cricket World Cup',\n",
       "   '1979 Cricket World Cup',\n",
       "   '1983 Cricket World Cup',\n",
       "   '1987 Cricket World Cup',\n",
       "   '1992 Cricket World Cup',\n",
       "   '1996 Cricket World Cup',\n",
       "   '1999 ICC Cricket World Cup',\n",
       "   '2003 ICC Cricket World Cup',\n",
       "   '2007 ICC Cricket World Cup',\n",
       "   '2007 ICC World Twenty20',\n",
       "   '2008 Indian Premier League',\n",
       "   '2008 Under-19 Cricket World Cup',\n",
       "   '2009 ICC World Twenty20',\n",
       "   '2009 Indian Premier League',\n",
       "   '2010 Asia Cup',\n",
       "   '2010 ICC World Twenty20',\n",
       "   '2010 Indian Premier League',\n",
       "   '2011 Cricket World Cup',\n",
       "   '2011 ICC Cricket World Cup',\n",
       "   '2011 Indian Premier League',\n",
       "   '2012 ICC Awards',\n",
       "   '2012 ICC World Twenty20',\n",
       "   '2012 Indian Premier League',\n",
       "   '2013 ICC Champions Trophy',\n",
       "   '2013 Indian Premier League',\n",
       "   '2014 ICC World Twenty20',\n",
       "   '2014 Indian Premier League',\n",
       "   '2015 Cricket World Cup',\n",
       "   '2015 ICC Cricket World Cup',\n",
       "   '2015 Indian Premier League',\n",
       "   '2016 Asia Cup',\n",
       "   '2016 ICC World Twenty20',\n",
       "   '2016 Indian Premier League',\n",
       "   '2017 Champions Trophy',\n",
       "   '2017 ICC Awards',\n",
       "   '2017 ICC Champions Trophy',\n",
       "   '2017 Indian Premier League',\n",
       "   '2018 ICC Awards',\n",
       "   '2018 Indian Premier League',\n",
       "   '2019 Cricket World Cup',\n",
       "   '2019 ICC Cricket World Cup',\n",
       "   '2019 Indian Premier League',\n",
       "   '2019–2021 ICC World Test Championship',\n",
       "   '2020 Indian Premier League',\n",
       "   \"2021 ICC Men's T20 World Cup\",\n",
       "   '2021 ICC World Twenty20',\n",
       "   '2021 Indian Premier League',\n",
       "   '2021–2023 ICC World Test Championship',\n",
       "   \"2022 ICC Men's T20 World Cup\",\n",
       "   '2022 Indian Premier League',\n",
       "   '2023 Asia Cup',\n",
       "   '2023 Cricket World Cup',\n",
       "   '2023 ICC Awards',\n",
       "   '2023 ICC Cricket World Cup',\n",
       "   '2023 Indian Premier League',\n",
       "   \"2024 ICC Men's T20 World Cup\",\n",
       "   '2024 ICC World Twenty20',\n",
       "   '2024 Indian Premier League',\n",
       "   '2024 T20 World Cup',\n",
       "   'AB de Villiers',\n",
       "   'ACC Asia Cup',\n",
       "   'ASIN (identifier)',\n",
       "   'Aadil Bedi',\n",
       "   'Aakash Chopra',\n",
       "   'Abhinav Bindra',\n",
       "   'Abhishek Bachchan',\n",
       "   'Adam Gilchrist',\n",
       "   'Adam Griffith',\n",
       "   'Adil Rashid',\n",
       "   'Adivasi',\n",
       "   'Ajay Jadeja',\n",
       "   'Ajay Thakur',\n",
       "   'Ajinkya Rahane',\n",
       "   'Ajit Pal Singh',\n",
       "   'Ajit Wadekar',\n",
       "   'Akash Deep',\n",
       "   'Alastair Cook',\n",
       "   'Aleem Dar',\n",
       "   'Alzarri Joseph',\n",
       "   'Ambati Rayudu',\n",
       "   'American Appraisal',\n",
       "   'Amit Mishra',\n",
       "   'Andre Russell',\n",
       "   'Andrew Flintoff',\n",
       "   'Andy Flower',\n",
       "   'Anil Kumble',\n",
       "   'Anitha Pauldurai',\n",
       "   'Anjali Bhagwat',\n",
       "   'Anju Bobby George',\n",
       "   'Anjum Chopra',\n",
       "   'Anshu Jamsenpa',\n",
       "   'Anuj Rawat',\n",
       "   'Anupama Gokhale',\n",
       "   'Anurag Thakur',\n",
       "   'Anushka Sharma',\n",
       "   'Arati Saha',\n",
       "   'Arjuna Award',\n",
       "   'Arshdeep Singh (cricketer)',\n",
       "   'Arun Jaitley Stadium',\n",
       "   'Arunima Sinha',\n",
       "   'Ashish Nehra',\n",
       "   'Ashok Dinda',\n",
       "   'Ashoke Dinda',\n",
       "   'Aspy Adajania',\n",
       "   'Audi Q7',\n",
       "   'Australia national cricket team',\n",
       "   'Avani Lekhara',\n",
       "   'Avesh Khan',\n",
       "   'Avtar Singh Cheema',\n",
       "   'Awaaz Foundation',\n",
       "   'Axar Patel',\n",
       "   'B. S. Chandrasekhar',\n",
       "   'Babar Azam',\n",
       "   'Bachendri Pal',\n",
       "   'Bahadur Singh Chauhan',\n",
       "   'Bahadur Singh Sagoo',\n",
       "   'Bajrang Lal Takhar',\n",
       "   'Bajrang Punia',\n",
       "   'Balbir Singh Kullar',\n",
       "   'Balbir Singh Sr.',\n",
       "   'Bangladesh',\n",
       "   'Barack Obama',\n",
       "   'Barmy Army',\n",
       "   'Barney Ronay',\n",
       "   'Batting (cricket)',\n",
       "   'Batting average (cricket)',\n",
       "   'Batting order (cricket)',\n",
       "   'Ben Stokes',\n",
       "   'Bhagyashree Thipsay',\n",
       "   'Bhaichung Bhutia',\n",
       "   'Bhuvneshwar Kumar',\n",
       "   'Bhuvneshwari Kumari',\n",
       "   'Bishan Singh Bedi',\n",
       "   'Blades of Glory Cricket Museum',\n",
       "   'Bloomsbury Publishing',\n",
       "   'Bombayla Devi Laishram',\n",
       "   'Bowling average',\n",
       "   'Brahmanand Sankhwalkar',\n",
       "   'Brian Lara',\n",
       "   'Bula Choudhury',\n",
       "   'Business Standard',\n",
       "   'Business Standard India',\n",
       "   'C. K. Nayudu',\n",
       "   'CEAT International Cricketer of the Year',\n",
       "   'CNN',\n",
       "   'CNN-News18 Indian of the Year',\n",
       "   'COVID-19 pandemic',\n",
       "   'Cameron Green',\n",
       "   'Captain (cricket)',\n",
       "   'Career of Virat Kohli',\n",
       "   'Century (cricket)',\n",
       "   'Cervical vertebrae',\n",
       "   'Chand Ram',\n",
       "   'Chandgi Ram',\n",
       "   'Chandra Prakash Vohra',\n",
       "   'Chandraprabha Aitwal',\n",
       "   'Chandu Borde',\n",
       "   'Charanjit Singh (hockey player)',\n",
       "   'Charles Borromeo',\n",
       "   'Cheteshwar Pujara',\n",
       "   'Chirag Shetty',\n",
       "   'Chris Gayle',\n",
       "   'Chuni Goswami',\n",
       "   'Clear (shampoo)',\n",
       "   'Cover (cricket)',\n",
       "   'Cover drive (cricket)',\n",
       "   'Cricket',\n",
       "   'Cricket Australia',\n",
       "   'Cricket bat',\n",
       "   'Cricket in India',\n",
       "   'D. B. Deodhar',\n",
       "   'D. K. Khullar',\n",
       "   'DNA India',\n",
       "   'Dale Steyn',\n",
       "   'Datta Gaekwad',\n",
       "   'David Warner (cricketer)',\n",
       "   'Dean Jones (cricketer)',\n",
       "   'Deccan Chargers',\n",
       "   'Deepa Malik',\n",
       "   'Deepak Chahar',\n",
       "   'Deepak Hooda',\n",
       "   'Deepak Niwas Hooda',\n",
       "   'Deepika Kumari',\n",
       "   'Delhi',\n",
       "   'Delhi & District Cricket Association',\n",
       "   'Delhi Capitals',\n",
       "   'Delhi cricket team',\n",
       "   'Delivery (cricket)',\n",
       "   'Devendra Jhajharia',\n",
       "   'Dhanraj Pillay',\n",
       "   'Diana Edulji',\n",
       "   'Dilip Tirkey',\n",
       "   'Dilip Vengsarkar',\n",
       "   'Dinesh Karthik',\n",
       "   'Dingko Singh',\n",
       "   'Dipa Karmakar',\n",
       "   'Dipika Pallikal',\n",
       "   'Duff & Phelps',\n",
       "   'Duncan Fletcher',\n",
       "   'E. A. S. Prasanna',\n",
       "   'EBay',\n",
       "   'ESPN',\n",
       "   'ESPNcricinfo',\n",
       "   'Eden Gardens',\n",
       "   'Eliza Nelson',\n",
       "   'England',\n",
       "   'England cricket team',\n",
       "   'FC Goa',\n",
       "   'Faf du Plessis',\n",
       "   'Faisal Ali Dar',\n",
       "   'Fakhar Zaman (cricketer)',\n",
       "   'Farokh Engineer',\n",
       "   'Fast bowling',\n",
       "   'Feroz Shah Kotla Ground',\n",
       "   'Feroz Shah Kotla Stadium',\n",
       "   'Fielding (cricket)',\n",
       "   'First-class cricket',\n",
       "   'Five-wicket haul',\n",
       "   'Florence',\n",
       "   'Forbes',\n",
       "   \"Forbes' list of the world's highest-paid athletes\",\n",
       "   'Forbes India',\n",
       "   'GQ',\n",
       "   'GQ India',\n",
       "   'Gagan Narang',\n",
       "   'Gandhi Jayanti',\n",
       "   'Gary Kirsten',\n",
       "   'Gaurav Khanna (badminton)',\n",
       "   'Gautam Gambhir',\n",
       "   'Geet Sethi',\n",
       "   'Geeta Zutshi',\n",
       "   'Geoff Allardice',\n",
       "   'Ghaus Mohammad',\n",
       "   'Ghulam Ahmed (cricketer)',\n",
       "   'Girisha Nagarajegowda',\n",
       "   'Glenn Maxwell',\n",
       "   'Glenn McGrath',\n",
       "   'Gopal Purushottam Phadke',\n",
       "   'Gostha Pal',\n",
       "   'Graham Bensinger',\n",
       "   'Grand Hyatt Mumbai',\n",
       "   'Greg Chappell',\n",
       "   'Gujarat Titans',\n",
       "   'Gulabrai Ramchand',\n",
       "   'Gully cricket',\n",
       "   'Gulshan Rai',\n",
       "   'Gundappa Viswanath',\n",
       "   'Gurbachan Singh Randhawa',\n",
       "   'Gurcharan Singh (cricketer)',\n",
       "   'Gurdial Singh (mountaineer)',\n",
       "   'Gurgaon',\n",
       "   'Gurinder Singh (volleyball)',\n",
       "   'Gurmayum Anita Devi',\n",
       "   'Guru Hanuman',\n",
       "   'H. Boniface Prabhu',\n",
       "   'H. P. S. Ahluwalia',\n",
       "   'Hakam Singh',\n",
       "   'Harbhajan Singh',\n",
       "   'Harbhajan Singh (mountaineer)',\n",
       "   'Harbinder Singh',\n",
       "   'Hardik Pandya',\n",
       "   'Harika Dronavalli',\n",
       "   'Harish Chandra Singh Rawat',\n",
       "   'Harmanpreet Kaur',\n",
       "   'Harsh Vardhan Bahuguna',\n",
       "   'Harshal Patel',\n",
       "   'Hasan Ali (cricketer)',\n",
       "   'Hashim Amla',\n",
       "   'Hemu Adhikari',\n",
       "   'Himanshu Sharma (cricketer)',\n",
       "   'Hindi cinema',\n",
       "   'Hindustan Times',\n",
       "   'Homi Motivala',\n",
       "   'ICC Awards',\n",
       "   'ICC Awards of the Decade',\n",
       "   'ICC Champions Trophy',\n",
       "   'ICC Cricket World Cup',\n",
       "   \"ICC Men's ODI Cricketer of the Year\",\n",
       "   \"ICC Men's Player Rankings\",\n",
       "   \"ICC Men's T20I Team of the Year\",\n",
       "   \"ICC Men's Test Cricketer of the Year\",\n",
       "   'ICC ODI Player of the Year',\n",
       "   'ICC ODI Player of the Year Award',\n",
       "   'ICC ODI Team of the Year',\n",
       "   'ICC T20 World Cup',\n",
       "   'ICC Test Player of the Year',\n",
       "   'ICC Test Team of the Year',\n",
       "   'ICC Under-19 Cricket World Cup',\n",
       "   'ICC World Test Championship',\n",
       "   'ICC World Test Championship Mace',\n",
       "   'IMDb',\n",
       "   'IMDb (identifier)',\n",
       "   'ISBN (identifier)',\n",
       "   'ISSN (identifier)',\n",
       "   'Ian Chappell',\n",
       "   'Iftikhar Ali Khan Pataudi',\n",
       "   'Ignace Tirkey',\n",
       "   'India',\n",
       "   'India Davis Cup team',\n",
       "   'India Today',\n",
       "   'India Under-19 cricket team',\n",
       "   'India cricket team',\n",
       "   \"India men's national field hockey team\",\n",
       "   \"India men's national handball team\",\n",
       "   \"India men's national ice hockey team\",\n",
       "   \"India men's national under-18 ice hockey team\",\n",
       "   \"India men's national volleyball team\",\n",
       "   'India national cricket team',\n",
       "   'India national football team',\n",
       "   'India national kabaddi team',\n",
       "   'India national netball team',\n",
       "   'India national rugby union team (sevens)',\n",
       "   'India national under-23 football team',\n",
       "   \"India national women's cricket team\",\n",
       "   \"India women's national field hockey team\",\n",
       "   \"India women's national football team\",\n",
       "   \"India women's national handball team\",\n",
       "   \"India women's national ice hockey team\",\n",
       "   \"India women's national kabaddi team\",\n",
       "   \"India women's national rugby union team (sevens)\",\n",
       "   \"India women's national under-19 football team\",\n",
       "   \"India women's national volleyball team\",\n",
       "   'Indian Premier League',\n",
       "   'Indian Super League',\n",
       "   'Indian cricket team',\n",
       "   'Indian national cricket team',\n",
       "   'Indian people',\n",
       "   'Indigenous peoples of the Americas',\n",
       "   'Instagram',\n",
       "   'Instagram (identifier)',\n",
       "   'International Cricket Council',\n",
       "   'International Premier Tennis League',\n",
       "   'International cricket council',\n",
       "   'Inzamam-ul-Haq',\n",
       "   'Irfan Pathan',\n",
       "   'Ishan Kishan',\n",
       "   'Ishant Sharma',\n",
       "   'Italy',\n",
       "   'JSW Group',\n",
       "   'Jacques Kallis',\n",
       "   'Jaico Publishing House',\n",
       "   'Jaman Lal Sharma',\n",
       "   'James Anderson (cricketer)',\n",
       "   'Jaspal Rana',\n",
       "   'Jasprit Bumrah',\n",
       "   'Jasu Patel',\n",
       "   'Javagal Srinath',\n",
       "   'Jeev Milkha Singh',\n",
       "   'Jhulan Goswami',\n",
       "   'Jitu Rai',\n",
       "   'Joe Root',\n",
       "   'Jofra Archer',\n",
       "   'Jonathan Trott',\n",
       "   'Jos Buttler',\n",
       "   'Joshna Chinappa',\n",
       "   'Junaid Khan (cricketer)',\n",
       "   'Jyotirmoyee Sikdar',\n",
       "   'K. D. Singh',\n",
       "   'K. M. Beenamol',\n",
       "   'K. Y. Venkatesh',\n",
       "   'KL Rahul',\n",
       "   'Kamaljeet Sandhu',\n",
       "   'Kane Williamson',\n",
       "   'Kanhaya Lal Pokhriyal',\n",
       "   'Kapil Dev',\n",
       "   'Kara (Sikhism)',\n",
       "   'Karn Sharma',\n",
       "   'Karnam Malleswari',\n",
       "   'Kaur Singh',\n",
       "   'Kedar Jadhav',\n",
       "   'Kevin Pietersen',\n",
       "   'Khaleel Ahmed',\n",
       "   'Khel Ratna Award',\n",
       "   'Kishan Lal',\n",
       "   'Kolkata Knight Riders',\n",
       "   'Koneru Humpy',\n",
       "   'Krishna Nagar (para-badminton)',\n",
       "   'Krishna Poonia',\n",
       "   'Krishnamachari Srikkanth',\n",
       "   'Kuldeep Yadav',\n",
       "   'Kumar Sangakkara',\n",
       "   'Kunjarani Devi',\n",
       "   'Lakshmipathy Balaji',\n",
       "   'Lala Amarnath',\n",
       "   'Lance Klusener',\n",
       "   'Leander Paes',\n",
       "   'Leg stump',\n",
       "   'Leslie Claudius',\n",
       "   'Lila Ram',\n",
       "   'Limba Ram',\n",
       "   'Lionel Messi',\n",
       "   'List A cricket',\n",
       "   'List of India ODI cricketers',\n",
       "   'List of India Test cricketers',\n",
       "   'List of India Twenty20 International cricketers',\n",
       "   'List of India national cricket captains',\n",
       "   'List of Indian Premier League awards',\n",
       "   'List of World XI Test cricketers',\n",
       "   'List of cricketers by number of international centuries scored',\n",
       "   'List of cricketers who have played 100 Tests',\n",
       "   'List of cricketers who have scored centuries in both innings of a Test match',\n",
       "   'List of cricketers with centuries in all international formats',\n",
       "   'List of international cricket centuries by Virat Kohli',\n",
       "   'List of most-followed Instagram accounts',\n",
       "   'List of players who have scored 10,000 or more runs in One Day International cricket',\n",
       "   'Live Mint',\n",
       "   'Lockie Ferguson',\n",
       "   'Loitongbam Ashalata Devi',\n",
       "   'Lokmat',\n",
       "   'Long off',\n",
       "   'Long on',\n",
       "   'Love Raj Singh Dharmshaktu',\n",
       "   'Lovlina Borgohain',\n",
       "   'M. D. Valsamma',\n",
       "   'M. J. Gopalan',\n",
       "   'M. P. Ganesh',\n",
       "   'MRF Limited',\n",
       "   'MS Dhoni',\n",
       "   'Madame Tussauds',\n",
       "   'Madhumita Bisht',\n",
       "   'Maharajkumar of Vizianagram',\n",
       "   'Mahela Jayawardene',\n",
       "   'Mahendra Singh Dhoni',\n",
       "   'Mahesh Bhupathi',\n",
       "   'Mahipal Lomror',\n",
       "   'Major Dhyan Chand Khel Ratna Award',\n",
       "   'Malathi Krishnamurthy Holla',\n",
       "   'Malolan Rangarajan',\n",
       "   'Mamta Sodha',\n",
       "   'Manan Sharma',\n",
       "   'Manavjit Singh Sandhu',\n",
       "   'Manika Batra',\n",
       "   'Manish Narwal',\n",
       "   'Manish Pandey',\n",
       "   'Manoj Bhandage',\n",
       "   'Manoj Tiwary (cricketer)',\n",
       "   'Manpreet Singh (field hockey)',\n",
       "   'Mansoor Ali Khan Pataudi',\n",
       "   'Mariyappan Thangavelu',\n",
       "   'Martin Crowe',\n",
       "   'Mary Kom',\n",
       "   'Matthew Hayden',\n",
       "   'Mayank Dagar',\n",
       "   'Meena Shah',\n",
       "   'Meera Bagh',\n",
       "   'Michael Atherton',\n",
       "   'Michael Clarke (cricketer)',\n",
       "   'Michael Hussey',\n",
       "   'Mid on',\n",
       "   'Mihir Sen',\n",
       "   'Milind Kumar',\n",
       "   'Milkha Singh',\n",
       "   'Misbah-ul-Haq',\n",
       "   'Mitchell Johnson',\n",
       "   'Mitchell McClenaghan',\n",
       "   'Mitchell Starc',\n",
       "   'Mithali Raj',\n",
       "   'Mobile Premier League',\n",
       "   'Mohammad Azharuddin',\n",
       "   'Mohammad Shahid (Indian cricketer)',\n",
       "   'Mohammad Yousuf (cricketer)',\n",
       "   'Mohammed Shami',\n",
       "   'Mohammed Siraj',\n",
       "   'Mohan Singh Gunjyal',\n",
       "   'Mohinder Amarnath',\n",
       "   'Mohit Sharma',\n",
       "   'Moin-ul-Haq',\n",
       "   'Mouma Das',\n",
       "   'Mukesh Kumar (field hockey)',\n",
       "   'Mumbai Indians',\n",
       "   'Munaf Patel',\n",
       "   'Murali Vijay',\n",
       "   'Murlikant Petkar',\n",
       "   'Myntra',\n",
       "   'NDTV Sports',\n",
       "   'Narain Karthikeyan',\n",
       "   'Narendra Kumar (mountaineer)',\n",
       "   'Narendra Modi',\n",
       "   'Nari Contractor',\n",
       "   'National Geographic',\n",
       "   'National sports team',\n",
       "   'Navdeep Saini',\n",
       "   'Nawang Gombu',\n",
       "   'Neeraj Chopra',\n",
       "   'New Zealand',\n",
       "   'News18',\n",
       "   'Non-governmental organization',\n",
       "   'Notion Press',\n",
       "   'OCLC (identifier)',\n",
       "   'Off spin',\n",
       "   'Off stump',\n",
       "   'Oinam Bembem Devi',\n",
       "   'Om',\n",
       "   'Omprakesh Agrawal',\n",
       "   'One Day International',\n",
       "   'Outswinger',\n",
       "   'P. K. Banerjee',\n",
       "   'P. R. Sreejesh',\n",
       "   'P. T. Usha',\n",
       "   'P. V. Sindhu',\n",
       "   'PM CARES Fund',\n",
       "   'Padma Shri',\n",
       "   'Pakistan',\n",
       "   'Pakistan national cricket team',\n",
       "   'Pankaj Advani (billiards player)',\n",
       "   'Pankaj Arjan Advani',\n",
       "   'Pankaj Roy',\n",
       "   'Pargat Singh',\n",
       "   'Parthiv Patel',\n",
       "   'Parvinder Awana',\n",
       "   'Paschim Vihar',\n",
       "   'Pat Cummins',\n",
       "   'Pawan Negi',\n",
       "   'Pawan Suyal',\n",
       "   \"People's Choice Awards India\",\n",
       "   'People for the Ethical Treatment of Animals',\n",
       "   'Phu Dorjee',\n",
       "   'Physical fitness',\n",
       "   'Piyush Chawla',\n",
       "   'Plant-based meat',\n",
       "   'Player of the Match awards (cricket)',\n",
       "   'Polly Umrigar',\n",
       "   'Polly Umrigar Award',\n",
       "   'Prabhakar Vaidya',\n",
       "   'Pradeep Sangwan',\n",
       "   'Pragyan Ojha',\n",
       "   'Prakash Padukone',\n",
       "   'Pramod Bhagat',\n",
       "   'Pranab Mukherjee',\n",
       "   'Prashanti Singh',\n",
       "   'Prasidh Krishna',\n",
       "   'Praveen Kumar (cricketer)',\n",
       "   'Premchand Degra',\n",
       "   'Premlata Agrawal',\n",
       "   'Press Trust Of India',\n",
       "   'Prithipal Singh',\n",
       "   'Priyam Garg',\n",
       "   'Pro Kabaddi League',\n",
       "   'Pro Wrestling League',\n",
       "   'Pullela Gopichand',\n",
       "   'Puma (brand)',\n",
       "   'Pune',\n",
       "   'Puneet Bisht',\n",
       "   'Punjab Kings',\n",
       "   'Punjabi Hindu',\n",
       "   'Purnima Mahato',\n",
       "   'Pushpendra Kumar Garg',\n",
       "   'Quinton de Kock',\n",
       "   'Rachel Thomas (skydiver)',\n",
       "   'Raghubir Singh (equestrian)',\n",
       "   'Rahul Chahar',\n",
       "   'Rahul Dravid',\n",
       "   'Rajasthan Royals',\n",
       "   'Rajat Bhatia',\n",
       "   'Rajat Patidar',\n",
       "   'Rajkumar Sharma (cricketer)',\n",
       "   'Rajyavardhan Singh Rathore',\n",
       "   'Ram Nath Kovind',\n",
       "   'Ramakant Achrekar',\n",
       "   'Ramanathan Krishnan',\n",
       "   'Ramesh Krishnan',\n",
       "   'Ranbir Kapoor',\n",
       "   'Rani Rampal',\n",
       "   'Ravi Chaturvedi',\n",
       "   'Ravi Kumar Dahiya',\n",
       "   'Ravi Shastri',\n",
       "   'Ravichandran Ashwin',\n",
       "   'Ravindra Jadeja',\n",
       "   'Reece Topley',\n",
       "   'Richard Hadlee',\n",
       "   'Ricky Ponting',\n",
       "   'Rinku Singh (cricketer)',\n",
       "   'Rishabh Pant',\n",
       "   'Rising Pune Supergiant',\n",
       "   'Rohan Bopanna',\n",
       "   'Rohit Sharma',\n",
       "   'Ronjan Sodhi',\n",
       "   'Rory McIlroy',\n",
       "   'Roshan Lal Anand',\n",
       "   'Royal Challengers Bangalore',\n",
       "   'Royal Challengers Bengaluru',\n",
       "   'Ryan McLaren',\n",
       "   'S. M. Arif',\n",
       "   'S. P. Nimbalkar',\n",
       "   'S. Sreesanth',\n",
       "   'Saba Anjum Karim',\n",
       "   'Sachin Tendulkar',\n",
       "   'Saikhom Mirabai Chanu',\n",
       "   'Sailen Manna',\n",
       "   'Saina Nehwal',\n",
       "   'Sakshi Malik',\n",
       "   'Salman Khan',\n",
       "   'Sam Curran',\n",
       "   'Samurai',\n",
       "   'Sanath Jayasuriya',\n",
       "   'Sania Mirza',\n",
       "   'Sanjay Manjrekar',\n",
       "   'Sanju Samson',\n",
       "   'Sankaranarayana Menon',\n",
       "   'Santosh Yadav',\n",
       "   'Sardara Singh',\n",
       "   'Sarfaraz Ahmed',\n",
       "   'Satendra Singh Lohiya',\n",
       "   'Satpal Singh',\n",
       "   'Satwiksairaj Rankireddy',\n",
       "   'Save the Children',\n",
       "   'Savita Punia',\n",
       "   'Scorpio (astrology)',\n",
       "   'Scyld Berry',\n",
       "   \"Selma D'Silva\",\n",
       "   'Shah Rukh Khan',\n",
       "   'Shaheen Afridi',\n",
       "   'Shahid Afridi',\n",
       "   'Shane Watson',\n",
       "   'Shankar Lakshman',\n",
       "   'Sharath Kamal',\n",
       "   'Shardul Thakur',\n",
       "   'Shekhar Naik',\n",
       "   'Shikhar Dhawan',\n",
       "   'Shiny Abraham',\n",
       "   'Shital Mahajan',\n",
       "   'Shiva',\n",
       "   'Shivam Dube',\n",
       "   'Shivnarine Chanderpaul',\n",
       "   'Shoppers Stop',\n",
       "   'Shreyas Iyer',\n",
       "   'Shubman Gill',\n",
       "   'Sir Garfield Sobers Trophy',\n",
       "   'Sky Sports',\n",
       "   'Somdev Devvarman',\n",
       "   'Sonam Gyatso (mountaineer)',\n",
       "   'Sonam Wangyal',\n",
       "   'Sourav Ganguly',\n",
       "   'South Africa',\n",
       "   'South Africa national cricket team',\n",
       "   'Sports agent',\n",
       "   'Sports in India',\n",
       "   'Sportstar',\n",
       "   'Square leg',\n",
       "   'Sri Lanka',\n",
       "   'Sri Lanka national cricket team',\n",
       "   'Srikanth Kidambi',\n",
       "   'Srinivasaraghavan Venkataraghavan',\n",
       "   'Sriram Singh',\n",
       "   'Stephen Curry',\n",
       "   'Steve Smith (cricketer)',\n",
       "   'Stroke',\n",
       "   'Stuart Binny',\n",
       "   'Stumped',\n",
       "   'Sudha Singh',\n",
       "   'Sumeet Dogra',\n",
       "   'Sumit Antil',\n",
       "   'Sumit Narwal',\n",
       "   'Sunil Chhetri',\n",
       "   'Sunil Dabas',\n",
       "   'Sunil Gavaskar',\n",
       "   'Sunil Narine',\n",
       "   'Sunita Rani',\n",
       "   'Super V',\n",
       "   'Suresh Raina',\n",
       "   'Suresh Singh Wangjam',\n",
       "   'Suryakumar Yadav',\n",
       "   'Sushil Doshi',\n",
       "   'Sushil Kumar',\n",
       "   'Suyash Prabhudessai',\n",
       "   'Swachh Bharat Mission',\n",
       "   'Swapnil Singh',\n",
       "   'Swaroop Kishen',\n",
       "   'Sweep shot',\n",
       "   'Syed Kirmani',\n",
       "   'Syed Mushtaq Ali',\n",
       "   'T20 International',\n",
       "   'Tamim Iqbal',\n",
       "   'Taranath Narayan Shenoy',\n",
       "   'Tarundeep Rai',\n",
       "   'Tattoo',\n",
       "   'Test cricket',\n",
       "   'The Cricket Monthly',\n",
       "   'The Daily Telegraph',\n",
       "   'The Economic Times',\n",
       "   'The Express Tribune',\n",
       "   'The Guardian',\n",
       "   'The Hindu',\n",
       "   'The Indian Express',\n",
       "   'The New Indian Express',\n",
       "   'The New York Times',\n",
       "   'The Sydney Morning Herald',\n",
       "   'The Telegraph (Calcutta)',\n",
       "   'The Times Of India',\n",
       "   'The Times of India',\n",
       "   'The Tribune (Chandigarh)',\n",
       "   'The Wall Street Journal',\n",
       "   'Tilak Varma',\n",
       "   'Tillakaratne Dilshan',\n",
       "   'Time (magazine)',\n",
       "   'Time 100',\n",
       "   'Times Now',\n",
       "   'Times of India',\n",
       "   'Tom Curran (cricketer)',\n",
       "   'Twelfth man (cricket)',\n",
       "   'Twenty20 International',\n",
       "   'UAE Royals',\n",
       "   'Uday Vishwanath Deshpande',\n",
       "   'Umesh Yadav',\n",
       "   'Unmukt Chand',\n",
       "   'Uric acid',\n",
       "   'Usman Khawaja',\n",
       "   'Uttam Nagar',\n",
       "   'VVS Laxman',\n",
       "   'Vaibhav Rawal',\n",
       "   'Vandana Katariya',\n",
       "   'Varun Aaron',\n",
       "   'Varun Chakravarthy',\n",
       "   'Varun Sood',\n",
       "   'Vasudevan Baskaran',\n",
       "   'Vasundhara Enclave',\n",
       "   'Veganism',\n",
       "   'Vegetarian cuisine',\n",
       "   'Verghese Kurien',\n",
       "   'Verve (Indian magazine)',\n",
       "   'Vijay Amritraj',\n",
       "   'Vijay Dahiya',\n",
       "   'Vijay Hazare',\n",
       "   'Vijay Kumar (sport shooter)',\n",
       "   'Vijay Shankar (cricketer)',\n",
       "   'Vijaykumar Vyshak',\n",
       "   'Vijender Singh',\n",
       "   'Vikas Gowda',\n",
       "   'Vikas Mishra',\n",
       "   'Vikas Tokas',\n",
       "   'Vinay Kumar',\n",
       "   'Vinesh Phogat',\n",
       "   'Vinoo Mankad',\n",
       "   'Virender Sehwag',\n",
       "   'Virender Singh (wrestler, born 1986)',\n",
       "   'Viswanathan Anand',\n",
       "   'Vivo (technology company)',\n",
       "   'Vogue India',\n",
       "   'Washington Sundar',\n",
       "   'West Delhi Cricket Academy',\n",
       "   'West Indies cricket team',\n",
       "   'Wicket',\n",
       "   'Wicket-keeper',\n",
       "   'Wicket keeper',\n",
       "   'Will Jacks',\n",
       "   'Wilson Jones (billiards player)',\n",
       "   'Wisden',\n",
       "   'Wisden Leading Cricketer in the World',\n",
       "   'Wright Thompson',\n",
       "   'Wristband',\n",
       "   'X (social network)',\n",
       "   'Yahoo',\n",
       "   'Yash Dayal',\n",
       "   'Yashasvi Jaiswal',\n",
       "   'Yogesh Nagar',\n",
       "   'Yogeshwar Dutt',\n",
       "   'Yusuf Pathan',\n",
       "   'Yuvraj Singh',\n",
       "   'Yuzvendra Chahal',\n",
       "   'Zafar Iqbal (field hockey)',\n",
       "   'Zaheer Khan',\n",
       "   'Zimbabwe national cricket team']})"
      ]
     },
     "execution_count": 92,
     "metadata": {},
     "output_type": "execute_result"
    }
   ],
   "source": [
    "subjects_direct_links_wiki(subjects_with_context)\n"
   ]
  },
  {
   "cell_type": "code",
   "execution_count": 93,
   "metadata": {},
   "outputs": [
    {
     "name": "stdout",
     "output_type": "stream",
     "text": [
      "Query for season: Richard Keith Mahler best season came in 1985 , when Richard Keith Mahler went 17-15 with a 3.48 ERA. didn't work: Page id \"rick miller\" does not match any pages. Try another id!\n",
      "Query for Austin: Born in Austin, Texas , Richard Keith Mahler graduated from John Jay High School and then attended Trinity University, both in San Antonio, Texas . didn't work: Page id \"rick miller\" does not match any pages. Try another id!\n",
      "Query for Richard Keith Mahler brother Mickey: Richard Keith Mahler brother Mickey was also a Major League Baseball pitcher, with the two being teammates in 1979 . didn't work: Page id \"rick miller\" does not match any pages. Try another id!\n"
     ]
    },
    {
     "data": {
      "text/plain": [
       "({'Richard Keith Mahler': array([], dtype=float32),\n",
       "  'season': array([], dtype=float32),\n",
       "  'Austin': array([], dtype=float32),\n",
       "  'Richard Keith Mahler brother Mickey': array([], dtype=float32),\n",
       "  'Virat Kohli': array([[-0.03902974, -0.06275151, -0.01127133, ...,  0.00084654,\n",
       "           0.01985146,  0.02155641],\n",
       "         [-0.04373354, -0.05799465, -0.00368122, ..., -0.00078541,\n",
       "           0.01103885,  0.01862861],\n",
       "         [-0.03322043, -0.02028006,  0.01349401, ...,  0.02990761,\n",
       "           0.00912451,  0.01396054],\n",
       "         ...,\n",
       "         [-0.00613717,  0.01893144,  0.00105132, ...,  0.0493106 ,\n",
       "           0.01782053, -0.00718726],\n",
       "         [ 0.03920937,  0.03370506, -0.00279895, ...,  0.04726687,\n",
       "          -0.07020499,  0.00093569],\n",
       "         [-0.00245601, -0.02317117, -0.03176381, ..., -0.01290523,\n",
       "          -0.035393  ,  0.00284538]], dtype=float32),\n",
       "  'two': array([[-0.02265206,  0.0010879 ,  0.01370007, ..., -0.032479  ,\n",
       "           0.01720726,  0.00445213],\n",
       "         [-0.0365615 ,  0.02709321,  0.02345949, ..., -0.01994519,\n",
       "           0.03132329,  0.00293135],\n",
       "         [-0.01592126,  0.05201155,  0.02858504, ..., -0.01279398,\n",
       "           0.02660117,  0.00396994],\n",
       "         ...,\n",
       "         [-0.03668725, -0.00275293,  0.01194312, ...,  0.04677752,\n",
       "          -0.01120493,  0.01350194],\n",
       "         [ 0.01197165,  0.00140239,  0.02752407, ...,  0.0183214 ,\n",
       "           0.01224163, -0.03842102],\n",
       "         [ 0.00618787, -0.00136719, -0.03693965, ...,  0.00438008,\n",
       "          -0.00909533,  0.00257993]], dtype=float32)},\n",
       " {'Richard Keith Mahler': [],\n",
       "  'season': [],\n",
       "  'Austin': [],\n",
       "  'Richard Keith Mahler brother Mickey': [],\n",
       "  'Virat Kohli': ['1975 Cricket World Cup',\n",
       "   '1979 Cricket World Cup',\n",
       "   '1983 Cricket World Cup',\n",
       "   '1987 Cricket World Cup',\n",
       "   '1992 Cricket World Cup',\n",
       "   '1996 Cricket World Cup',\n",
       "   '1999 ICC Cricket World Cup',\n",
       "   '2003 ICC Cricket World Cup',\n",
       "   '2007 ICC Cricket World Cup',\n",
       "   '2007 ICC World Twenty20',\n",
       "   '2008 Indian Premier League',\n",
       "   '2008 Under-19 Cricket World Cup',\n",
       "   '2009 ICC World Twenty20',\n",
       "   '2009 Indian Premier League',\n",
       "   '2010 Asia Cup',\n",
       "   '2010 ICC World Twenty20',\n",
       "   '2010 Indian Premier League',\n",
       "   '2011 Cricket World Cup',\n",
       "   '2011 ICC Cricket World Cup',\n",
       "   '2011 Indian Premier League',\n",
       "   '2012 ICC Awards',\n",
       "   '2012 ICC World Twenty20',\n",
       "   '2012 Indian Premier League',\n",
       "   '2013 ICC Champions Trophy',\n",
       "   '2013 Indian Premier League',\n",
       "   '2014 ICC World Twenty20',\n",
       "   '2014 Indian Premier League',\n",
       "   '2015 Cricket World Cup',\n",
       "   '2015 ICC Cricket World Cup',\n",
       "   '2015 Indian Premier League',\n",
       "   '2016 Asia Cup',\n",
       "   '2016 ICC World Twenty20',\n",
       "   '2016 Indian Premier League',\n",
       "   '2017 Champions Trophy',\n",
       "   '2017 ICC Awards',\n",
       "   '2017 ICC Champions Trophy',\n",
       "   '2017 Indian Premier League',\n",
       "   '2018 ICC Awards',\n",
       "   '2018 Indian Premier League',\n",
       "   '2019 Cricket World Cup',\n",
       "   '2019 ICC Cricket World Cup',\n",
       "   '2019 Indian Premier League',\n",
       "   '2019–2021 ICC World Test Championship',\n",
       "   '2020 Indian Premier League',\n",
       "   \"2021 ICC Men's T20 World Cup\",\n",
       "   '2021 ICC World Twenty20',\n",
       "   '2021 Indian Premier League',\n",
       "   '2021–2023 ICC World Test Championship',\n",
       "   \"2022 ICC Men's T20 World Cup\",\n",
       "   '2022 Indian Premier League',\n",
       "   '2023 Asia Cup',\n",
       "   '2023 Cricket World Cup',\n",
       "   '2023 ICC Awards',\n",
       "   '2023 ICC Cricket World Cup',\n",
       "   '2023 Indian Premier League',\n",
       "   \"2024 ICC Men's T20 World Cup\",\n",
       "   '2024 ICC World Twenty20',\n",
       "   '2024 Indian Premier League',\n",
       "   '2024 T20 World Cup',\n",
       "   'AB de Villiers',\n",
       "   'ACC Asia Cup',\n",
       "   'ASIN (identifier)',\n",
       "   'Aadil Bedi',\n",
       "   'Aakash Chopra',\n",
       "   'Abhinav Bindra',\n",
       "   'Abhishek Bachchan',\n",
       "   'Adam Gilchrist',\n",
       "   'Adam Griffith',\n",
       "   'Adil Rashid',\n",
       "   'Adivasi',\n",
       "   'Ajay Jadeja',\n",
       "   'Ajay Thakur',\n",
       "   'Ajinkya Rahane',\n",
       "   'Ajit Pal Singh',\n",
       "   'Ajit Wadekar',\n",
       "   'Akash Deep',\n",
       "   'Alastair Cook',\n",
       "   'Aleem Dar',\n",
       "   'Alzarri Joseph',\n",
       "   'Ambati Rayudu',\n",
       "   'American Appraisal',\n",
       "   'Amit Mishra',\n",
       "   'Andre Russell',\n",
       "   'Andrew Flintoff',\n",
       "   'Andy Flower',\n",
       "   'Anil Kumble',\n",
       "   'Anitha Pauldurai',\n",
       "   'Anjali Bhagwat',\n",
       "   'Anju Bobby George',\n",
       "   'Anjum Chopra',\n",
       "   'Anshu Jamsenpa',\n",
       "   'Anuj Rawat',\n",
       "   'Anupama Gokhale',\n",
       "   'Anurag Thakur',\n",
       "   'Anushka Sharma',\n",
       "   'Arati Saha',\n",
       "   'Arjuna Award',\n",
       "   'Arshdeep Singh (cricketer)',\n",
       "   'Arun Jaitley Stadium',\n",
       "   'Arunima Sinha',\n",
       "   'Ashish Nehra',\n",
       "   'Ashok Dinda',\n",
       "   'Ashoke Dinda',\n",
       "   'Aspy Adajania',\n",
       "   'Audi Q7',\n",
       "   'Australia national cricket team',\n",
       "   'Avani Lekhara',\n",
       "   'Avesh Khan',\n",
       "   'Avtar Singh Cheema',\n",
       "   'Awaaz Foundation',\n",
       "   'Axar Patel',\n",
       "   'B. S. Chandrasekhar',\n",
       "   'Babar Azam',\n",
       "   'Bachendri Pal',\n",
       "   'Bahadur Singh Chauhan',\n",
       "   'Bahadur Singh Sagoo',\n",
       "   'Bajrang Lal Takhar',\n",
       "   'Bajrang Punia',\n",
       "   'Balbir Singh Kullar',\n",
       "   'Balbir Singh Sr.',\n",
       "   'Bangladesh',\n",
       "   'Barack Obama',\n",
       "   'Barmy Army',\n",
       "   'Barney Ronay',\n",
       "   'Batting (cricket)',\n",
       "   'Batting average (cricket)',\n",
       "   'Batting order (cricket)',\n",
       "   'Ben Stokes',\n",
       "   'Bhagyashree Thipsay',\n",
       "   'Bhaichung Bhutia',\n",
       "   'Bhuvneshwar Kumar',\n",
       "   'Bhuvneshwari Kumari',\n",
       "   'Bishan Singh Bedi',\n",
       "   'Blades of Glory Cricket Museum',\n",
       "   'Bloomsbury Publishing',\n",
       "   'Bombayla Devi Laishram',\n",
       "   'Bowling average',\n",
       "   'Brahmanand Sankhwalkar',\n",
       "   'Brian Lara',\n",
       "   'Bula Choudhury',\n",
       "   'Business Standard',\n",
       "   'Business Standard India',\n",
       "   'C. K. Nayudu',\n",
       "   'CEAT International Cricketer of the Year',\n",
       "   'CNN',\n",
       "   'CNN-News18 Indian of the Year',\n",
       "   'COVID-19 pandemic',\n",
       "   'Cameron Green',\n",
       "   'Captain (cricket)',\n",
       "   'Career of Virat Kohli',\n",
       "   'Century (cricket)',\n",
       "   'Cervical vertebrae',\n",
       "   'Chand Ram',\n",
       "   'Chandgi Ram',\n",
       "   'Chandra Prakash Vohra',\n",
       "   'Chandraprabha Aitwal',\n",
       "   'Chandu Borde',\n",
       "   'Charanjit Singh (hockey player)',\n",
       "   'Charles Borromeo',\n",
       "   'Cheteshwar Pujara',\n",
       "   'Chirag Shetty',\n",
       "   'Chris Gayle',\n",
       "   'Chuni Goswami',\n",
       "   'Clear (shampoo)',\n",
       "   'Cover (cricket)',\n",
       "   'Cover drive (cricket)',\n",
       "   'Cricket',\n",
       "   'Cricket Australia',\n",
       "   'Cricket bat',\n",
       "   'Cricket in India',\n",
       "   'D. B. Deodhar',\n",
       "   'D. K. Khullar',\n",
       "   'DNA India',\n",
       "   'Dale Steyn',\n",
       "   'Datta Gaekwad',\n",
       "   'David Warner (cricketer)',\n",
       "   'Dean Jones (cricketer)',\n",
       "   'Deccan Chargers',\n",
       "   'Deepa Malik',\n",
       "   'Deepak Chahar',\n",
       "   'Deepak Hooda',\n",
       "   'Deepak Niwas Hooda',\n",
       "   'Deepika Kumari',\n",
       "   'Delhi',\n",
       "   'Delhi & District Cricket Association',\n",
       "   'Delhi Capitals',\n",
       "   'Delhi cricket team',\n",
       "   'Delivery (cricket)',\n",
       "   'Devendra Jhajharia',\n",
       "   'Dhanraj Pillay',\n",
       "   'Diana Edulji',\n",
       "   'Dilip Tirkey',\n",
       "   'Dilip Vengsarkar',\n",
       "   'Dinesh Karthik',\n",
       "   'Dingko Singh',\n",
       "   'Dipa Karmakar',\n",
       "   'Dipika Pallikal',\n",
       "   'Duff & Phelps',\n",
       "   'Duncan Fletcher',\n",
       "   'E. A. S. Prasanna',\n",
       "   'EBay',\n",
       "   'ESPN',\n",
       "   'ESPNcricinfo',\n",
       "   'Eden Gardens',\n",
       "   'Eliza Nelson',\n",
       "   'England',\n",
       "   'England cricket team',\n",
       "   'FC Goa',\n",
       "   'Faf du Plessis',\n",
       "   'Faisal Ali Dar',\n",
       "   'Fakhar Zaman (cricketer)',\n",
       "   'Farokh Engineer',\n",
       "   'Fast bowling',\n",
       "   'Feroz Shah Kotla Ground',\n",
       "   'Feroz Shah Kotla Stadium',\n",
       "   'Fielding (cricket)',\n",
       "   'First-class cricket',\n",
       "   'Five-wicket haul',\n",
       "   'Florence',\n",
       "   'Forbes',\n",
       "   \"Forbes' list of the world's highest-paid athletes\",\n",
       "   'Forbes India',\n",
       "   'GQ',\n",
       "   'GQ India',\n",
       "   'Gagan Narang',\n",
       "   'Gandhi Jayanti',\n",
       "   'Gary Kirsten',\n",
       "   'Gaurav Khanna (badminton)',\n",
       "   'Gautam Gambhir',\n",
       "   'Geet Sethi',\n",
       "   'Geeta Zutshi',\n",
       "   'Geoff Allardice',\n",
       "   'Ghaus Mohammad',\n",
       "   'Ghulam Ahmed (cricketer)',\n",
       "   'Girisha Nagarajegowda',\n",
       "   'Glenn Maxwell',\n",
       "   'Glenn McGrath',\n",
       "   'Gopal Purushottam Phadke',\n",
       "   'Gostha Pal',\n",
       "   'Graham Bensinger',\n",
       "   'Grand Hyatt Mumbai',\n",
       "   'Greg Chappell',\n",
       "   'Gujarat Titans',\n",
       "   'Gulabrai Ramchand',\n",
       "   'Gully cricket',\n",
       "   'Gulshan Rai',\n",
       "   'Gundappa Viswanath',\n",
       "   'Gurbachan Singh Randhawa',\n",
       "   'Gurcharan Singh (cricketer)',\n",
       "   'Gurdial Singh (mountaineer)',\n",
       "   'Gurgaon',\n",
       "   'Gurinder Singh (volleyball)',\n",
       "   'Gurmayum Anita Devi',\n",
       "   'Guru Hanuman',\n",
       "   'H. Boniface Prabhu',\n",
       "   'H. P. S. Ahluwalia',\n",
       "   'Hakam Singh',\n",
       "   'Harbhajan Singh',\n",
       "   'Harbhajan Singh (mountaineer)',\n",
       "   'Harbinder Singh',\n",
       "   'Hardik Pandya',\n",
       "   'Harika Dronavalli',\n",
       "   'Harish Chandra Singh Rawat',\n",
       "   'Harmanpreet Kaur',\n",
       "   'Harsh Vardhan Bahuguna',\n",
       "   'Harshal Patel',\n",
       "   'Hasan Ali (cricketer)',\n",
       "   'Hashim Amla',\n",
       "   'Hemu Adhikari',\n",
       "   'Himanshu Sharma (cricketer)',\n",
       "   'Hindi cinema',\n",
       "   'Hindustan Times',\n",
       "   'Homi Motivala',\n",
       "   'ICC Awards',\n",
       "   'ICC Awards of the Decade',\n",
       "   'ICC Champions Trophy',\n",
       "   'ICC Cricket World Cup',\n",
       "   \"ICC Men's ODI Cricketer of the Year\",\n",
       "   \"ICC Men's Player Rankings\",\n",
       "   \"ICC Men's T20I Team of the Year\",\n",
       "   \"ICC Men's Test Cricketer of the Year\",\n",
       "   'ICC ODI Player of the Year',\n",
       "   'ICC ODI Player of the Year Award',\n",
       "   'ICC ODI Team of the Year',\n",
       "   'ICC T20 World Cup',\n",
       "   'ICC Test Player of the Year',\n",
       "   'ICC Test Team of the Year',\n",
       "   'ICC Under-19 Cricket World Cup',\n",
       "   'ICC World Test Championship',\n",
       "   'ICC World Test Championship Mace',\n",
       "   'IMDb',\n",
       "   'IMDb (identifier)',\n",
       "   'ISBN (identifier)',\n",
       "   'ISSN (identifier)',\n",
       "   'Ian Chappell',\n",
       "   'Iftikhar Ali Khan Pataudi',\n",
       "   'Ignace Tirkey',\n",
       "   'India',\n",
       "   'India Davis Cup team',\n",
       "   'India Today',\n",
       "   'India Under-19 cricket team',\n",
       "   'India cricket team',\n",
       "   \"India men's national field hockey team\",\n",
       "   \"India men's national handball team\",\n",
       "   \"India men's national ice hockey team\",\n",
       "   \"India men's national under-18 ice hockey team\",\n",
       "   \"India men's national volleyball team\",\n",
       "   'India national cricket team',\n",
       "   'India national football team',\n",
       "   'India national kabaddi team',\n",
       "   'India national netball team',\n",
       "   'India national rugby union team (sevens)',\n",
       "   'India national under-23 football team',\n",
       "   \"India national women's cricket team\",\n",
       "   \"India women's national field hockey team\",\n",
       "   \"India women's national football team\",\n",
       "   \"India women's national handball team\",\n",
       "   \"India women's national ice hockey team\",\n",
       "   \"India women's national kabaddi team\",\n",
       "   \"India women's national rugby union team (sevens)\",\n",
       "   \"India women's national under-19 football team\",\n",
       "   \"India women's national volleyball team\",\n",
       "   'Indian Premier League',\n",
       "   'Indian Super League',\n",
       "   'Indian cricket team',\n",
       "   'Indian national cricket team',\n",
       "   'Indian people',\n",
       "   'Indigenous peoples of the Americas',\n",
       "   'Instagram',\n",
       "   'Instagram (identifier)',\n",
       "   'International Cricket Council',\n",
       "   'International Premier Tennis League',\n",
       "   'International cricket council',\n",
       "   'Inzamam-ul-Haq',\n",
       "   'Irfan Pathan',\n",
       "   'Ishan Kishan',\n",
       "   'Ishant Sharma',\n",
       "   'Italy',\n",
       "   'JSW Group',\n",
       "   'Jacques Kallis',\n",
       "   'Jaico Publishing House',\n",
       "   'Jaman Lal Sharma',\n",
       "   'James Anderson (cricketer)',\n",
       "   'Jaspal Rana',\n",
       "   'Jasprit Bumrah',\n",
       "   'Jasu Patel',\n",
       "   'Javagal Srinath',\n",
       "   'Jeev Milkha Singh',\n",
       "   'Jhulan Goswami',\n",
       "   'Jitu Rai',\n",
       "   'Joe Root',\n",
       "   'Jofra Archer',\n",
       "   'Jonathan Trott',\n",
       "   'Jos Buttler',\n",
       "   'Joshna Chinappa',\n",
       "   'Junaid Khan (cricketer)',\n",
       "   'Jyotirmoyee Sikdar',\n",
       "   'K. D. Singh',\n",
       "   'K. M. Beenamol',\n",
       "   'K. Y. Venkatesh',\n",
       "   'KL Rahul',\n",
       "   'Kamaljeet Sandhu',\n",
       "   'Kane Williamson',\n",
       "   'Kanhaya Lal Pokhriyal',\n",
       "   'Kapil Dev',\n",
       "   'Kara (Sikhism)',\n",
       "   'Karn Sharma',\n",
       "   'Karnam Malleswari',\n",
       "   'Kaur Singh',\n",
       "   'Kedar Jadhav',\n",
       "   'Kevin Pietersen',\n",
       "   'Khaleel Ahmed',\n",
       "   'Khel Ratna Award',\n",
       "   'Kishan Lal',\n",
       "   'Kolkata Knight Riders',\n",
       "   'Koneru Humpy',\n",
       "   'Krishna Nagar (para-badminton)',\n",
       "   'Krishna Poonia',\n",
       "   'Krishnamachari Srikkanth',\n",
       "   'Kuldeep Yadav',\n",
       "   'Kumar Sangakkara',\n",
       "   'Kunjarani Devi',\n",
       "   'Lakshmipathy Balaji',\n",
       "   'Lala Amarnath',\n",
       "   'Lance Klusener',\n",
       "   'Leander Paes',\n",
       "   'Leg stump',\n",
       "   'Leslie Claudius',\n",
       "   'Lila Ram',\n",
       "   'Limba Ram',\n",
       "   'Lionel Messi',\n",
       "   'List A cricket',\n",
       "   'List of India ODI cricketers',\n",
       "   'List of India Test cricketers',\n",
       "   'List of India Twenty20 International cricketers',\n",
       "   'List of India national cricket captains',\n",
       "   'List of Indian Premier League awards',\n",
       "   'List of World XI Test cricketers',\n",
       "   'List of cricketers by number of international centuries scored',\n",
       "   'List of cricketers who have played 100 Tests',\n",
       "   'List of cricketers who have scored centuries in both innings of a Test match',\n",
       "   'List of cricketers with centuries in all international formats',\n",
       "   'List of international cricket centuries by Virat Kohli',\n",
       "   'List of most-followed Instagram accounts',\n",
       "   'List of players who have scored 10,000 or more runs in One Day International cricket',\n",
       "   'Live Mint',\n",
       "   'Lockie Ferguson',\n",
       "   'Loitongbam Ashalata Devi',\n",
       "   'Lokmat',\n",
       "   'Long off',\n",
       "   'Long on',\n",
       "   'Love Raj Singh Dharmshaktu',\n",
       "   'Lovlina Borgohain',\n",
       "   'M. D. Valsamma',\n",
       "   'M. J. Gopalan',\n",
       "   'M. P. Ganesh',\n",
       "   'MRF Limited',\n",
       "   'MS Dhoni',\n",
       "   'Madame Tussauds',\n",
       "   'Madhumita Bisht',\n",
       "   'Maharajkumar of Vizianagram',\n",
       "   'Mahela Jayawardene',\n",
       "   'Mahendra Singh Dhoni',\n",
       "   'Mahesh Bhupathi',\n",
       "   'Mahipal Lomror',\n",
       "   'Major Dhyan Chand Khel Ratna Award',\n",
       "   'Malathi Krishnamurthy Holla',\n",
       "   'Malolan Rangarajan',\n",
       "   'Mamta Sodha',\n",
       "   'Manan Sharma',\n",
       "   'Manavjit Singh Sandhu',\n",
       "   'Manika Batra',\n",
       "   'Manish Narwal',\n",
       "   'Manish Pandey',\n",
       "   'Manoj Bhandage',\n",
       "   'Manoj Tiwary (cricketer)',\n",
       "   'Manpreet Singh (field hockey)',\n",
       "   'Mansoor Ali Khan Pataudi',\n",
       "   'Mariyappan Thangavelu',\n",
       "   'Martin Crowe',\n",
       "   'Mary Kom',\n",
       "   'Matthew Hayden',\n",
       "   'Mayank Dagar',\n",
       "   'Meena Shah',\n",
       "   'Meera Bagh',\n",
       "   'Michael Atherton',\n",
       "   'Michael Clarke (cricketer)',\n",
       "   'Michael Hussey',\n",
       "   'Mid on',\n",
       "   'Mihir Sen',\n",
       "   'Milind Kumar',\n",
       "   'Milkha Singh',\n",
       "   'Misbah-ul-Haq',\n",
       "   'Mitchell Johnson',\n",
       "   'Mitchell McClenaghan',\n",
       "   'Mitchell Starc',\n",
       "   'Mithali Raj',\n",
       "   'Mobile Premier League',\n",
       "   'Mohammad Azharuddin',\n",
       "   'Mohammad Shahid (Indian cricketer)',\n",
       "   'Mohammad Yousuf (cricketer)',\n",
       "   'Mohammed Shami',\n",
       "   'Mohammed Siraj',\n",
       "   'Mohan Singh Gunjyal',\n",
       "   'Mohinder Amarnath',\n",
       "   'Mohit Sharma',\n",
       "   'Moin-ul-Haq',\n",
       "   'Mouma Das',\n",
       "   'Mukesh Kumar (field hockey)',\n",
       "   'Mumbai Indians',\n",
       "   'Munaf Patel',\n",
       "   'Murali Vijay',\n",
       "   'Murlikant Petkar',\n",
       "   'Myntra',\n",
       "   'NDTV Sports',\n",
       "   'Narain Karthikeyan',\n",
       "   'Narendra Kumar (mountaineer)',\n",
       "   'Narendra Modi',\n",
       "   'Nari Contractor',\n",
       "   'National Geographic',\n",
       "   'National sports team',\n",
       "   'Navdeep Saini',\n",
       "   'Nawang Gombu',\n",
       "   'Neeraj Chopra',\n",
       "   'New Zealand',\n",
       "   'News18',\n",
       "   'Non-governmental organization',\n",
       "   'Notion Press',\n",
       "   'OCLC (identifier)',\n",
       "   'Off spin',\n",
       "   'Off stump',\n",
       "   'Oinam Bembem Devi',\n",
       "   'Om',\n",
       "   'Omprakesh Agrawal',\n",
       "   'One Day International',\n",
       "   'Outswinger',\n",
       "   'P. K. Banerjee',\n",
       "   'P. R. Sreejesh',\n",
       "   'P. T. Usha',\n",
       "   'P. V. Sindhu',\n",
       "   'PM CARES Fund',\n",
       "   'Padma Shri',\n",
       "   'Pakistan',\n",
       "   'Pakistan national cricket team',\n",
       "   'Pankaj Advani (billiards player)',\n",
       "   'Pankaj Arjan Advani',\n",
       "   'Pankaj Roy',\n",
       "   'Pargat Singh',\n",
       "   'Parthiv Patel',\n",
       "   'Parvinder Awana',\n",
       "   'Paschim Vihar',\n",
       "   'Pat Cummins',\n",
       "   'Pawan Negi',\n",
       "   'Pawan Suyal',\n",
       "   \"People's Choice Awards India\",\n",
       "   'People for the Ethical Treatment of Animals',\n",
       "   'Phu Dorjee',\n",
       "   'Physical fitness',\n",
       "   'Piyush Chawla',\n",
       "   'Plant-based meat',\n",
       "   'Player of the Match awards (cricket)',\n",
       "   'Polly Umrigar',\n",
       "   'Polly Umrigar Award',\n",
       "   'Prabhakar Vaidya',\n",
       "   'Pradeep Sangwan',\n",
       "   'Pragyan Ojha',\n",
       "   'Prakash Padukone',\n",
       "   'Pramod Bhagat',\n",
       "   'Pranab Mukherjee',\n",
       "   'Prashanti Singh',\n",
       "   'Prasidh Krishna',\n",
       "   'Praveen Kumar (cricketer)',\n",
       "   'Premchand Degra',\n",
       "   'Premlata Agrawal',\n",
       "   'Press Trust Of India',\n",
       "   'Prithipal Singh',\n",
       "   'Priyam Garg',\n",
       "   'Pro Kabaddi League',\n",
       "   'Pro Wrestling League',\n",
       "   'Pullela Gopichand',\n",
       "   'Puma (brand)',\n",
       "   'Pune',\n",
       "   'Puneet Bisht',\n",
       "   'Punjab Kings',\n",
       "   'Punjabi Hindu',\n",
       "   'Purnima Mahato',\n",
       "   'Pushpendra Kumar Garg',\n",
       "   'Quinton de Kock',\n",
       "   'Rachel Thomas (skydiver)',\n",
       "   'Raghubir Singh (equestrian)',\n",
       "   'Rahul Chahar',\n",
       "   'Rahul Dravid',\n",
       "   'Rajasthan Royals',\n",
       "   'Rajat Bhatia',\n",
       "   'Rajat Patidar',\n",
       "   'Rajkumar Sharma (cricketer)',\n",
       "   'Rajyavardhan Singh Rathore',\n",
       "   'Ram Nath Kovind',\n",
       "   'Ramakant Achrekar',\n",
       "   'Ramanathan Krishnan',\n",
       "   'Ramesh Krishnan',\n",
       "   'Ranbir Kapoor',\n",
       "   'Rani Rampal',\n",
       "   'Ravi Chaturvedi',\n",
       "   'Ravi Kumar Dahiya',\n",
       "   'Ravi Shastri',\n",
       "   'Ravichandran Ashwin',\n",
       "   'Ravindra Jadeja',\n",
       "   'Reece Topley',\n",
       "   'Richard Hadlee',\n",
       "   'Ricky Ponting',\n",
       "   'Rinku Singh (cricketer)',\n",
       "   'Rishabh Pant',\n",
       "   'Rising Pune Supergiant',\n",
       "   'Rohan Bopanna',\n",
       "   'Rohit Sharma',\n",
       "   'Ronjan Sodhi',\n",
       "   'Rory McIlroy',\n",
       "   'Roshan Lal Anand',\n",
       "   'Royal Challengers Bangalore',\n",
       "   'Royal Challengers Bengaluru',\n",
       "   'Ryan McLaren',\n",
       "   'S. M. Arif',\n",
       "   'S. P. Nimbalkar',\n",
       "   'S. Sreesanth',\n",
       "   'Saba Anjum Karim',\n",
       "   'Sachin Tendulkar',\n",
       "   'Saikhom Mirabai Chanu',\n",
       "   'Sailen Manna',\n",
       "   'Saina Nehwal',\n",
       "   'Sakshi Malik',\n",
       "   'Salman Khan',\n",
       "   'Sam Curran',\n",
       "   'Samurai',\n",
       "   'Sanath Jayasuriya',\n",
       "   'Sania Mirza',\n",
       "   'Sanjay Manjrekar',\n",
       "   'Sanju Samson',\n",
       "   'Sankaranarayana Menon',\n",
       "   'Santosh Yadav',\n",
       "   'Sardara Singh',\n",
       "   'Sarfaraz Ahmed',\n",
       "   'Satendra Singh Lohiya',\n",
       "   'Satpal Singh',\n",
       "   'Satwiksairaj Rankireddy',\n",
       "   'Save the Children',\n",
       "   'Savita Punia',\n",
       "   'Scorpio (astrology)',\n",
       "   'Scyld Berry',\n",
       "   \"Selma D'Silva\",\n",
       "   'Shah Rukh Khan',\n",
       "   'Shaheen Afridi',\n",
       "   'Shahid Afridi',\n",
       "   'Shane Watson',\n",
       "   'Shankar Lakshman',\n",
       "   'Sharath Kamal',\n",
       "   'Shardul Thakur',\n",
       "   'Shekhar Naik',\n",
       "   'Shikhar Dhawan',\n",
       "   'Shiny Abraham',\n",
       "   'Shital Mahajan',\n",
       "   'Shiva',\n",
       "   'Shivam Dube',\n",
       "   'Shivnarine Chanderpaul',\n",
       "   'Shoppers Stop',\n",
       "   'Shreyas Iyer',\n",
       "   'Shubman Gill',\n",
       "   'Sir Garfield Sobers Trophy',\n",
       "   'Sky Sports',\n",
       "   'Somdev Devvarman',\n",
       "   'Sonam Gyatso (mountaineer)',\n",
       "   'Sonam Wangyal',\n",
       "   'Sourav Ganguly',\n",
       "   'South Africa',\n",
       "   'South Africa national cricket team',\n",
       "   'Sports agent',\n",
       "   'Sports in India',\n",
       "   'Sportstar',\n",
       "   'Square leg',\n",
       "   'Sri Lanka',\n",
       "   'Sri Lanka national cricket team',\n",
       "   'Srikanth Kidambi',\n",
       "   'Srinivasaraghavan Venkataraghavan',\n",
       "   'Sriram Singh',\n",
       "   'Stephen Curry',\n",
       "   'Steve Smith (cricketer)',\n",
       "   'Stroke',\n",
       "   'Stuart Binny',\n",
       "   'Stumped',\n",
       "   'Sudha Singh',\n",
       "   'Sumeet Dogra',\n",
       "   'Sumit Antil',\n",
       "   'Sumit Narwal',\n",
       "   'Sunil Chhetri',\n",
       "   'Sunil Dabas',\n",
       "   'Sunil Gavaskar',\n",
       "   'Sunil Narine',\n",
       "   'Sunita Rani',\n",
       "   'Super V',\n",
       "   'Suresh Raina',\n",
       "   'Suresh Singh Wangjam',\n",
       "   'Suryakumar Yadav',\n",
       "   'Sushil Doshi',\n",
       "   'Sushil Kumar',\n",
       "   'Suyash Prabhudessai',\n",
       "   'Swachh Bharat Mission',\n",
       "   'Swapnil Singh',\n",
       "   'Swaroop Kishen',\n",
       "   'Sweep shot',\n",
       "   'Syed Kirmani',\n",
       "   'Syed Mushtaq Ali',\n",
       "   'T20 International',\n",
       "   'Tamim Iqbal',\n",
       "   'Taranath Narayan Shenoy',\n",
       "   'Tarundeep Rai',\n",
       "   'Tattoo',\n",
       "   'Test cricket',\n",
       "   'The Cricket Monthly',\n",
       "   'The Daily Telegraph',\n",
       "   'The Economic Times',\n",
       "   'The Express Tribune',\n",
       "   'The Guardian',\n",
       "   'The Hindu',\n",
       "   'The Indian Express',\n",
       "   'The New Indian Express',\n",
       "   'The New York Times',\n",
       "   'The Sydney Morning Herald',\n",
       "   'The Telegraph (Calcutta)',\n",
       "   'The Times Of India',\n",
       "   'The Times of India',\n",
       "   'The Tribune (Chandigarh)',\n",
       "   'The Wall Street Journal',\n",
       "   'Tilak Varma',\n",
       "   'Tillakaratne Dilshan',\n",
       "   'Time (magazine)',\n",
       "   'Time 100',\n",
       "   'Times Now',\n",
       "   'Times of India',\n",
       "   'Tom Curran (cricketer)',\n",
       "   'Twelfth man (cricket)',\n",
       "   'Twenty20 International',\n",
       "   'UAE Royals',\n",
       "   'Uday Vishwanath Deshpande',\n",
       "   'Umesh Yadav',\n",
       "   'Unmukt Chand',\n",
       "   'Uric acid',\n",
       "   'Usman Khawaja',\n",
       "   'Uttam Nagar',\n",
       "   'VVS Laxman',\n",
       "   'Vaibhav Rawal',\n",
       "   'Vandana Katariya',\n",
       "   'Varun Aaron',\n",
       "   'Varun Chakravarthy',\n",
       "   'Varun Sood',\n",
       "   'Vasudevan Baskaran',\n",
       "   'Vasundhara Enclave',\n",
       "   'Veganism',\n",
       "   'Vegetarian cuisine',\n",
       "   'Verghese Kurien',\n",
       "   'Verve (Indian magazine)',\n",
       "   'Vijay Amritraj',\n",
       "   'Vijay Dahiya',\n",
       "   'Vijay Hazare',\n",
       "   'Vijay Kumar (sport shooter)',\n",
       "   'Vijay Shankar (cricketer)',\n",
       "   'Vijaykumar Vyshak',\n",
       "   'Vijender Singh',\n",
       "   'Vikas Gowda',\n",
       "   'Vikas Mishra',\n",
       "   'Vikas Tokas',\n",
       "   'Vinay Kumar',\n",
       "   'Vinesh Phogat',\n",
       "   'Vinoo Mankad',\n",
       "   'Virender Sehwag',\n",
       "   'Virender Singh (wrestler, born 1986)',\n",
       "   'Viswanathan Anand',\n",
       "   'Vivo (technology company)',\n",
       "   'Vogue India',\n",
       "   'Washington Sundar',\n",
       "   'West Delhi Cricket Academy',\n",
       "   'West Indies cricket team',\n",
       "   'Wicket',\n",
       "   'Wicket-keeper',\n",
       "   'Wicket keeper',\n",
       "   'Will Jacks',\n",
       "   'Wilson Jones (billiards player)',\n",
       "   'Wisden',\n",
       "   'Wisden Leading Cricketer in the World',\n",
       "   'Wright Thompson',\n",
       "   'Wristband',\n",
       "   'X (social network)',\n",
       "   'Yahoo',\n",
       "   'Yash Dayal',\n",
       "   'Yashasvi Jaiswal',\n",
       "   'Yogesh Nagar',\n",
       "   'Yogeshwar Dutt',\n",
       "   'Yusuf Pathan',\n",
       "   'Yuvraj Singh',\n",
       "   'Yuzvendra Chahal',\n",
       "   'Zafar Iqbal (field hockey)',\n",
       "   'Zaheer Khan',\n",
       "   'Zimbabwe national cricket team'],\n",
       "  'two': ['1869 Princeton vs. Rutgers football game',\n",
       "   '1995 USISL Premier League season',\n",
       "   '1996 USISL Premier League season',\n",
       "   '1997 PDSL season',\n",
       "   '1998 PDSL season',\n",
       "   '1999 PDL season',\n",
       "   '2000 PDL season',\n",
       "   '2001 PDL season',\n",
       "   '2002 PDL season',\n",
       "   '2003 PDL season',\n",
       "   '2004 PDL season',\n",
       "   '2005 PDL season',\n",
       "   '2006 PDL season',\n",
       "   '2007 PDL season',\n",
       "   '2008 PDL season',\n",
       "   '2009 PDL season',\n",
       "   '2010 PDL season',\n",
       "   '2011 PDL season',\n",
       "   '2012 PDL season',\n",
       "   '2013 PDL season',\n",
       "   '2014 PDL season',\n",
       "   '2015 PDL season',\n",
       "   '2016 PDL season',\n",
       "   '2017 PDL season',\n",
       "   '2018 PDL season',\n",
       "   '2019 USL League Two season',\n",
       "   '2020 USL League Two season',\n",
       "   '2021 USL League Two season',\n",
       "   '2022 USL League Two season',\n",
       "   '2023 USL League Two season',\n",
       "   '2024 USL League Two season',\n",
       "   'A-League (1995–2004)',\n",
       "   'AC Connecticut',\n",
       "   'AC Houston Sur',\n",
       "   'AFC Ann Arbor',\n",
       "   'AHFC Royals',\n",
       "   'AMSG FC',\n",
       "   'Aaron Wheeler (soccer)',\n",
       "   'Academica SC',\n",
       "   'Afc Ann Arbor',\n",
       "   'Albany Rush',\n",
       "   'Alberta Major Soccer League',\n",
       "   'Alberta Soccer Association',\n",
       "   'Albion SC Colorado',\n",
       "   'Albuquerque, New Mexico',\n",
       "   'Almaden FC',\n",
       "   'Almaden Valley, San Jose',\n",
       "   'American Amateur Football Association Cup',\n",
       "   'American Cup',\n",
       "   'American Football Association (1884–1924)',\n",
       "   'American Indoor Soccer League',\n",
       "   'American League of Professional Football',\n",
       "   'American Premier Soccer League',\n",
       "   'American Professional Soccer League',\n",
       "   'American Soccer League (1921–1933)',\n",
       "   'American Soccer League (1933–1983)',\n",
       "   'American Soccer League (1988–89)',\n",
       "   'American Youth Soccer Organization',\n",
       "   'American soccer clubs in international competitions',\n",
       "   'Amr Neamatalla',\n",
       "   'Ann Arbor, Michigan',\n",
       "   'Anthony Grant (footballer, born 1989)',\n",
       "   'Aquinas College (Michigan)',\n",
       "   'Argentina',\n",
       "   'Arizona Arsenal SC',\n",
       "   'Arshak Abyanli',\n",
       "   'Arvada, Colorado',\n",
       "   'Asheville, North Carolina',\n",
       "   'Asheville City SC',\n",
       "   'Association football',\n",
       "   'Athens, Georgia',\n",
       "   'Athens United',\n",
       "   'Atlanta, Georgia',\n",
       "   'Atwood Stadium',\n",
       "   'Augusta FireBall',\n",
       "   'Aurora, Colorado',\n",
       "   'Aurora, Illinois',\n",
       "   'Austin Aztex',\n",
       "   'Austin Lightning',\n",
       "   'Austin Lone Stars',\n",
       "   'Ballard FC',\n",
       "   'Baltimore, Maryland',\n",
       "   'Bavarian United SC',\n",
       "   'Beau Brown',\n",
       "   'Belhaven Blazers',\n",
       "   'Bell Bank Park',\n",
       "   'Bellarmine Preparatory School',\n",
       "   'Bellevue, Washington',\n",
       "   'Bellevue College',\n",
       "   'Bethlehem, Pennsylvania',\n",
       "   'Birmingham, Alabama',\n",
       "   'Birmingham Legion 2',\n",
       "   'Bishop Dwenger High School',\n",
       "   'Black Rock FC',\n",
       "   'Blue Goose SC',\n",
       "   'Boniventure Manati',\n",
       "   'Bosnia and Herzegovina',\n",
       "   'Boston Bolts (USL)',\n",
       "   'Boston City FC',\n",
       "   'Boulder Rapids Reserve',\n",
       "   \"Bowling Green Falcons men's soccer\",\n",
       "   'Brandon Swartzendruber',\n",
       "   'Brazil',\n",
       "   'Brazos Valley Cavalry F.C.',\n",
       "   'Brazos Valley Cavalry FC',\n",
       "   'Brent Richards',\n",
       "   'Brevard SC',\n",
       "   'Brian Ching',\n",
       "   'Brian Johnson (soccer)',\n",
       "   'Brian White (soccer)',\n",
       "   'British Columbia Provincial Soccer Championship',\n",
       "   'British Columbia Soccer Association',\n",
       "   'Brooke House FC',\n",
       "   'Bryan, Texas',\n",
       "   'Buffalo, New York',\n",
       "   'Burlington, Vermont',\n",
       "   'COVID-19 pandemic',\n",
       "   'COVID-19 pandemic in the United States',\n",
       "   'Calgary Foothills FC',\n",
       "   'Calgary Storm',\n",
       "   'California Vulcans',\n",
       "   'Calum Mallace',\n",
       "   'Calverton School',\n",
       "   'Campbell Fighting Camels and Lady Camels',\n",
       "   'Canada',\n",
       "   'Canada Soccer Hall of Fame',\n",
       "   'Canada Soccer Player of the Year',\n",
       "   \"Canada men's national soccer team\",\n",
       "   \"Canada men's national soccer team records and statistics\",\n",
       "   \"Canada men's national soccer team results\",\n",
       "   \"Canada men's national under-17 soccer team\",\n",
       "   \"Canada men's national under-20 soccer team\",\n",
       "   \"Canada men's national under-23 soccer team\",\n",
       "   'Canada national beach soccer team',\n",
       "   'Canada national futsal team',\n",
       "   'Canada soccer national championships',\n",
       "   \"Canada women's national soccer team\",\n",
       "   \"Canada women's national soccer team results\",\n",
       "   \"Canada women's national under-17 soccer team\",\n",
       "   \"Canada women's national under-20 soccer team\",\n",
       "   'Canadian Championship',\n",
       "   'Canadian Collegiate Athletic Association Soccer National Championships',\n",
       "   'Canadian Major Indoor Soccer League',\n",
       "   'Canadian National Soccer League',\n",
       "   'Canadian Premier League',\n",
       "   'Canadian Premier League Finals',\n",
       "   'Canadian Professional Soccer League (1983)',\n",
       "   'Canadian Soccer Association',\n",
       "   'Canadian Soccer League',\n",
       "   'Canadian Soccer League (1987–1992)',\n",
       "   'Canadian Soccer League championship final',\n",
       "   'Canadian soccer clubs in international competitions',\n",
       "   'Canadian soccer league system',\n",
       "   'Cape Cod Crusaders',\n",
       "   'Capital FC',\n",
       "   'Capo FC',\n",
       "   'Cardinale Stadium',\n",
       "   'Carey Stadium',\n",
       "   'Carl Craig (football manager)',\n",
       "   'Carolina Dynamo',\n",
       "   'Cary, North Carolina',\n",
       "   'Cedar Stars Rush',\n",
       "   'Central Coast Roadrunners',\n",
       "   'Central Florida Kraze',\n",
       "   'Central Texas Lobos FC',\n",
       "   'Challenge Trophy',\n",
       "   'Charlotesville Blues',\n",
       "   'Charlotte, North Carolina',\n",
       "   'Charlotte Eagles',\n",
       "   'Charlotte Independence 2',\n",
       "   'Charlotte Independence II',\n",
       "   'Charlottesville, Virginia',\n",
       "   'Charlottesville Blues FC',\n",
       "   'Chevaughn Walsh',\n",
       "   'Chicago, Illinois',\n",
       "   'Chicago City SC',\n",
       "   'Chicago Dutch Lions',\n",
       "   'Chicago Dutch Lions FC',\n",
       "   'Chicago Fire Premier',\n",
       "   'Chicago Fire Reserves',\n",
       "   'Chicago Sockers',\n",
       "   'Chris Whalley',\n",
       "   'Christos FC',\n",
       "   'Cincinnati, Ohio',\n",
       "   'City Park Stadium',\n",
       "   'Clawson, Michigan',\n",
       "   'Cleveland, Ohio',\n",
       "   'Cleveland Force FC',\n",
       "   'Cleveland Force SC',\n",
       "   'Clinton, Mississippi',\n",
       "   'Clinton High School (Clinton, Mississippi)',\n",
       "   'Coachella, California',\n",
       "   'Coachella FC',\n",
       "   'Cochella FC',\n",
       "   'Cocoa Expos',\n",
       "   'College soccer in the United States',\n",
       "   'Colombia',\n",
       "   'Colorado International Soccer Academy',\n",
       "   'Columbia, South Carolina',\n",
       "   'Community college',\n",
       "   'Continental Indoor Soccer League',\n",
       "   'Corcoran Field',\n",
       "   'Corpus Christi, Texas',\n",
       "   'Corpus Christi FC',\n",
       "   'Cosmopolitan Soccer League',\n",
       "   'Creekside High School (Florida)',\n",
       "   'Croatian-North American Soccer Tournament',\n",
       "   'Czech Republic',\n",
       "   'Dallas, Georgia',\n",
       "   'Davenport Panthers',\n",
       "   'Davidson Wildcats',\n",
       "   'Davis, California',\n",
       "   'Davis Legacy SC',\n",
       "   'Dayton Dutch Lions',\n",
       "   'Dayton Outpatient Center Stadium',\n",
       "   'Deri Corfe',\n",
       "   'Des Moines, Iowa',\n",
       "   'Des Moines Menace',\n",
       "   'Desert Mirage High School',\n",
       "   'Detroit Dynamite',\n",
       "   'Detroit Mercy Titans',\n",
       "   'Dillon Stadium',\n",
       "   'Dominion Football Association',\n",
       "   'Dothan, Alabama',\n",
       "   'Dothan United',\n",
       "   'Dothan United Dragons',\n",
       "   'Dothan United SC',\n",
       "   'Drew University',\n",
       "   \"Duke Blue Devils men's soccer\",\n",
       "   'Dunbar, West Virginia',\n",
       "   'Durham, North Carolina',\n",
       "   'Durham County Stadium',\n",
       "   'Dzenan Catic',\n",
       "   'East Atlanta Dutch Lions',\n",
       "   'East Atlanta Dutch Lions FC',\n",
       "   'East Atlanta FC',\n",
       "   'Eastern Canada Professional Soccer League',\n",
       "   'Eastern Indoor Soccer League',\n",
       "   'Eastern Premier Soccer League',\n",
       "   'Ecuador',\n",
       "   'Edible Field',\n",
       "   'Edson Buddle',\n",
       "   'El Paso Patriots',\n",
       "   'England',\n",
       "   'Englewood High School (Colorado)',\n",
       "   'Eric Pogue',\n",
       "   'Erik Oman',\n",
       "   'Eugene, Oregon',\n",
       "   'Evergreen Premier League',\n",
       "   'Exeter Township Senior High School',\n",
       "   'FC Buffalo',\n",
       "   'FC Motown',\n",
       "   'FC Motown STA',\n",
       "   'FC Tucson',\n",
       "   'FC Wichita',\n",
       "   'Fabio Eidelwein',\n",
       "   'Fabio Eidenwein',\n",
       "   'Fairleigh Dickinson University',\n",
       "   'Federico Molinari (footballer)',\n",
       "   'Fernando Salazar',\n",
       "   'Finland',\n",
       "   'Flatirons Rush',\n",
       "   'Flatirons Rush SC',\n",
       "   'Flint, Michigan',\n",
       "   'Flint City Bucks',\n",
       "   'Florida',\n",
       "   'Florida Elite SA',\n",
       "   'Florida Elite Soccer Academy',\n",
       "   'Florida Tropics SC',\n",
       "   'Forest City London',\n",
       "   'Fort Wayne, Indiana',\n",
       "   'Fort Wayne FC',\n",
       "   'Fox Soccer Channel',\n",
       "   'Franklin, Tennessee',\n",
       "   'Frederico Moojen',\n",
       "   'Fresno FC U-23',\n",
       "   'Fresno Fuego',\n",
       "   'Fresno Pacific Sunbirds',\n",
       "   'Futsal Canadian Championship',\n",
       "   'Gabe Jones (soccer)',\n",
       "   'Gaelic Park',\n",
       "   'Gainesville, Florida',\n",
       "   'Geography of association football',\n",
       "   'Grand Rapids, Michigan',\n",
       "   'Gulf Coast Premier League',\n",
       "   'Gustavo Oliveira',\n",
       "   'Hamid Mehreioskouei',\n",
       "   'Hampton, New Hampshire',\n",
       "   'Hampton Roads Piranhas (PDL)',\n",
       "   'Hank Steinbrecher Cup',\n",
       "   'Hartford, Connecticut',\n",
       "   'Hattiesburg, Mississippi',\n",
       "   'Hattiesburg FC',\n",
       "   'Hays Consolidated Independent School District',\n",
       "   'Hempstead, New York',\n",
       "   'Herriman, Utah',\n",
       "   'Hill Country Lobos',\n",
       "   'History of Major League Soccer',\n",
       "   'History of soccer in Seattle',\n",
       "   'History of soccer in the United States',\n",
       "   'Hofstra University Soccer Stadium',\n",
       "   'Holly Springs, North Carolina',\n",
       "   'Hollywood United Hitmen',\n",
       "   'Honduras',\n",
       "   'Houston',\n",
       "   'Houston, Texas',\n",
       "   'Houston Baptist Huskies',\n",
       "   'Houston FC',\n",
       "   'Hudson Valley Hammers',\n",
       "   'Huntington Beach, California',\n",
       "   'Ian Bishop (footballer)',\n",
       "   'Inter-Provincial Cup (soccer)',\n",
       "   'Inter Gainesville KF',\n",
       "   'Ironbound SC',\n",
       "   'Italy',\n",
       "   'JSerra Catholic High School',\n",
       "   'Jackson Chargers',\n",
       "   'Jake Gleeson',\n",
       "   'Jake Keegan',\n",
       "   'Jamaica',\n",
       "   'James Riley (soccer)',\n",
       "   'Japan',\n",
       "   'Jason Dunn (soccer)',\n",
       "   'Jefferson College (Missouri)',\n",
       "   'Jimmy Conrad',\n",
       "   'Joliet, Illinois',\n",
       "   'Joliet Memorial Stadium',\n",
       "   'Josh Gardner (soccer)',\n",
       "   'Jubilee Trophy',\n",
       "   'Julio Daniel Frías',\n",
       "   'Junior Garcia',\n",
       "   'Justi Baumgardt',\n",
       "   'Jürgen Klinsmann',\n",
       "   'K-W United FC',\n",
       "   'KBTX-TV',\n",
       "   'Kalamazoo, Michigan',\n",
       "   'Kalamazoo FC',\n",
       "   \"Kelham O'Hanlon\",\n",
       "   'Kenny Uzoigwe',\n",
       "   'Kenya',\n",
       "   'Kezar Stadium',\n",
       "   'Kings Hammer FC',\n",
       "   'Kings Hammer SC',\n",
       "   'Kino Sports Complex',\n",
       "   'Kitsap Pumas',\n",
       "   'Kris Tyrpak',\n",
       "   'Kyle, Texas',\n",
       "   'K–W United FC',\n",
       "   'LA Krewe FC',\n",
       "   'La Mirada, California',\n",
       "   'La Mirada High School',\n",
       "   'Lafayette, Colorado',\n",
       "   'Lafayette, Louisiana',\n",
       "   'Lakeland, Florida',\n",
       "   'Lane United FC',\n",
       "   'Lansing, Michigan',\n",
       "   'Lansing Catholic High School',\n",
       "   'Lansing City Football',\n",
       "   'Laredo Heat',\n",
       "   'Lawrence Olum',\n",
       "   'Lawrie Dudfield',\n",
       "   'League1 Alberta',\n",
       "   'League1 British Columbia',\n",
       "   'League1 Canada',\n",
       "   'League1 Ontario',\n",
       "   'League1 Ontario (women)',\n",
       "   'Leesburg, Virginia',\n",
       "   'Lehigh Valley United',\n",
       "   'Lenoir–Rhyne Bears',\n",
       "   'Lester Felicia',\n",
       "   'Ligue1 Québec',\n",
       "   'Ligue de soccer élite du Québec',\n",
       "   'Lincoln Memorial Railsplitters',\n",
       "   'Lionsbridge FC',\n",
       "   'List of American and Canadian soccer champions',\n",
       "   \"List of Canada men's international soccer players\",\n",
       "   \"List of Canada women's international soccer players\",\n",
       "   'List of Canadian Championship finals',\n",
       "   \"List of Canadian men's soccer champions\",\n",
       "   'List of Canadian soccer clubs in American leagues',\n",
       "   'List of USL League Two teams',\n",
       "   \"List of United States men's international soccer players\",\n",
       "   \"List of United States women's international soccer players\",\n",
       "   'List of most expensive American soccer transfers',\n",
       "   'List of soccer clubs in Canada',\n",
       "   'List of soccer clubs in Canada by competitive honours won',\n",
       "   'List of soccer clubs in the United States',\n",
       "   'List of soccer stadiums in Canada',\n",
       "   'List of soccer stadiums in the United States',\n",
       "   'Little Rock, Arkansas',\n",
       "   'Little Rock Rangers',\n",
       "   'Livingston, New Jersey',\n",
       "   'Livingston High School (New Jersey)',\n",
       "   'Logan Farrington',\n",
       "   'Lone Star Soccer Alliance',\n",
       "   'Long Island Rough Riders',\n",
       "   'Los Angeles Heroes',\n",
       "   'Louisiana Krewe FC',\n",
       "   'Ludlow, Massachusetts',\n",
       "   'Lusitano Stadium',\n",
       "   'MLS Cup',\n",
       "   'MLS Cup Playoffs',\n",
       "   'MLS Next',\n",
       "   'MLS Next Pro',\n",
       "   'MLS SuperDraft',\n",
       "   'Macomb Township, Michigan',\n",
       "   'Mainland Cup',\n",
       "   'Maitland, Florida',\n",
       "   'Major Arena Soccer League',\n",
       "   'Major Arena Soccer League 2',\n",
       "   'Major Arena Soccer League 3',\n",
       "   'Major Indoor Soccer League (1978–1992)',\n",
       "   'Major Indoor Soccer League (2001–2008)',\n",
       "   'Major Indoor Soccer League (2008–2014)',\n",
       "   'Major League Futsal',\n",
       "   'Major League Indoor Soccer (2022-present)',\n",
       "   'Major League Soccer',\n",
       "   'Manchester Center, Vermont',\n",
       "   'Manchester Meadows Soccer Complex',\n",
       "   'Manhattan SC',\n",
       "   'Manitoba Major Soccer League',\n",
       "   'Manitoba Soccer Association',\n",
       "   'Marin County, California',\n",
       "   'Marin FC Legends',\n",
       "   'Marshalltown Community College',\n",
       "   'Mayo Field (Centenary College)',\n",
       "   'Melbourne, Florida',\n",
       "   'Melbourne Central Catholic High School',\n",
       "   'Memorial Stadium (Asheville)',\n",
       "   'Memorial Stadium (Seattle)',\n",
       "   'Mercer County Community College',\n",
       "   'Mesa, Arizona',\n",
       "   'Metuchen, New Jersey',\n",
       "   'Mexico',\n",
       "   'Miami',\n",
       "   'Miami AC',\n",
       "   'Michiana Lions',\n",
       "   'Michiana Lions FC',\n",
       "   'Michigan Bucks',\n",
       "   'Mid-Michigan Bucks',\n",
       "   'Midlakes United',\n",
       "   'Midvale, Utah',\n",
       "   'Midwest Premier League',\n",
       "   'Midwest United FC',\n",
       "   'Mike Avery',\n",
       "   'Milton Blanco',\n",
       "   'Milwaukee',\n",
       "   'Minneapolis, Minnesota',\n",
       "   'Minneapolis City SC',\n",
       "   'Mississippi Brilla',\n",
       "   'Mississippi Brilla FC',\n",
       "   'Mitch Hildebrandt',\n",
       "   'Monterey Bay FC',\n",
       "   'Moravian College',\n",
       "   'Morris Elite SC',\n",
       "   'Morristown, New Jersey',\n",
       "   'Most Valuable Player',\n",
       "   'Mount Ida College',\n",
       "   'Mount Saint Mary College',\n",
       "   'NISA Nation',\n",
       "   'NONA FC',\n",
       "   'NWSL Challenge Cup',\n",
       "   'NWSL Playoffs',\n",
       "   'NWSL Shield',\n",
       "   'Nashville Metros',\n",
       "   'National Amateur Cup',\n",
       "   'National Association Football League',\n",
       "   'National Association of Intercollegiate Athletics',\n",
       "   'National Federation of State High School Associations',\n",
       "   'National Independent Soccer Association',\n",
       "   'National Indoor Soccer League (2021)',\n",
       "   'National Premier Soccer League',\n",
       "   'National Professional Soccer League (1967)',\n",
       "   'National Professional Soccer League (1984–2001)',\n",
       "   'National Soccer Hall of Fame',\n",
       "   \"National Women's Soccer League\",\n",
       "   'Netherlands',\n",
       "   'New Jersey Copa FC',\n",
       "   'New Mexico United U23',\n",
       "   'New Orleans Jesters',\n",
       "   'New Orleans Shell Shockers',\n",
       "   'New Rochelle, New York',\n",
       "   'New York City, New York',\n",
       "   'New York Red Bulls U-23',\n",
       "   'Newark, New Jersey',\n",
       "   'Newburgh, New York',\n",
       "   'Newfoundland and Labrador Challenge Cup',\n",
       "   'Newfoundland and Labrador Soccer Association',\n",
       "   'Newport News, Virginia',\n",
       "   'Newton, Massachusetts',\n",
       "   'Nicolás Molina',\n",
       "   'Nona FC',\n",
       "   'North American Soccer Football League',\n",
       "   'North American Soccer League (1968–1984)',\n",
       "   'North American Soccer League (2011–2017)',\n",
       "   'North Carolina FC U23',\n",
       "   'North Carolina Fusion U23',\n",
       "   'North Paulding High School',\n",
       "   'Northern Ireland',\n",
       "   'Northern Super League',\n",
       "   'Northern Virginia FC',\n",
       "   'Northwest Territories Soccer Association',\n",
       "   'Nunavut Soccer Association',\n",
       "   'Oakland, California',\n",
       "   'Oakland County FC',\n",
       "   'Ocean City, New Jersey',\n",
       "   \"Ocean City Nor'Easters\",\n",
       "   \"Ocean City Nor'easters\",\n",
       "   'Ohio Valley Premier League',\n",
       "   'Oklahoma Baptist Bison',\n",
       "   'Oly Town FC',\n",
       "   'Olympia, Washington',\n",
       "   'Ontario Cup',\n",
       "   'Ontario Soccer Association',\n",
       "   'Ontario Soccer League',\n",
       "   'Open Canada Cup',\n",
       "   'Orange County Blue Star',\n",
       "   \"Oregon State Beavers men's soccer\",\n",
       "   'Orlando, Florida',\n",
       "   'Pablo Campos',\n",
       "   'Pacific Coast Soccer League',\n",
       "   'Pacific Coast Soccer League (1908–1973)',\n",
       "   'Pasi Kinturi',\n",
       "   'Pathfinder FC',\n",
       "   'Patuxent, Maryland',\n",
       "   'Patuxent Football Athletics',\n",
       "   'Paul Nicholson (footballer)',\n",
       "   'Peoria, Illinois',\n",
       "   'Peoria City (soccer)',\n",
       "   'Philadelphia, Pennsylvania',\n",
       "   'Philadelphia Lone Star FC',\n",
       "   'Pleasant Valley, New York',\n",
       "   'Portland, Oregon',\n",
       "   'Portland Timbers U23s',\n",
       "   'Portugal',\n",
       "   'Premier Arena Soccer League',\n",
       "   'Premier League of America',\n",
       "   'Prince Edward Island Soccer Association',\n",
       "   'Professional Futsal League',\n",
       "   'Project 51O',\n",
       "   'Quebec Soccer Federation',\n",
       "   'RKC SC',\n",
       "   'RKC Third Coast',\n",
       "   'Racine, Wisconsin',\n",
       "   'Ramiro Corrales',\n",
       "   'Randalls and Wards Islands',\n",
       "   'Ravenwood High School',\n",
       "   'Reading, Pennsylvania',\n",
       "   'Reading Rage',\n",
       "   'Reading United AC',\n",
       "   'Real Central New Jersey',\n",
       "   'Redlands, California',\n",
       "   'Redlands FC',\n",
       "   'Redlands High School',\n",
       "   'Republic of Ireland',\n",
       "   'Revere, Massachusetts',\n",
       "   'Richmond Kickers',\n",
       "   'Rip Hewes Stadium',\n",
       "   'River City FC',\n",
       "   'River Light FC',\n",
       "   'Rochester, Minnesota',\n",
       "   'Rochester Community and Technical College',\n",
       "   'Rochester FC',\n",
       "   'Rock Hill, South Carolina',\n",
       "   'Rodrigo Costa (footballer, born 1976)',\n",
       "   'Ruben Mingo',\n",
       "   'Rudy Ybarra',\n",
       "   'Ryosuke Kinoshita (soccer)',\n",
       "   'SC United Bantams',\n",
       "   'Salem, Oregon',\n",
       "   'Salem City FC',\n",
       "   'Salinas, California',\n",
       "   'Salinas Sports Complex',\n",
       "   'Salt City SC',\n",
       "   'Samory Powder',\n",
       "   'San Fernando Valley Heroes',\n",
       "   'San Francisco, California',\n",
       "   'San Francisco All-Blacks United',\n",
       "   'San Francisco Bay Seals',\n",
       "   'San Francisco City FC',\n",
       "   'San Francisco City SC',\n",
       "   'San Francisco Glens',\n",
       "   'San Francisco Glens SC',\n",
       "   'San Francisco Soccer Football League',\n",
       "   'San Gabriel Valley Highlanders',\n",
       "   'San Juan Capistrano, California',\n",
       "   'San Luis Obispo, California',\n",
       "   'San Rafael High School',\n",
       "   'Sarasota, Florida',\n",
       "   'Sarasota High School',\n",
       "   'Sarasota Paradise',\n",
       "   'Saskatchewan Soccer Association',\n",
       "   'Schenectady, New York',\n",
       "   'Scotland',\n",
       "   'Seacoast United Phantoms',\n",
       "   'Seattle',\n",
       "   'SheBelieves Cup',\n",
       "   'Shea Stadium (Peoria, Illinois)',\n",
       "   'Shreveport, Louisiana',\n",
       "   'Sierra Leone',\n",
       "   'Sioux City Breeze',\n",
       "   'Sioux Falls Spitfire',\n",
       "   'Skyline College',\n",
       "   'Soccer-specific stadium',\n",
       "   'Soccer America',\n",
       "   'Soccer Bowl',\n",
       "   'Soccer Bowl (2011–2017)',\n",
       "   'Soccer New Brunswick',\n",
       "   'Soccer Nova Scotia',\n",
       "   'Soccer at the Canada Games',\n",
       "   'Soccer in Canada',\n",
       "   'Soccer in Houston',\n",
       "   'Soccer in Los Angeles',\n",
       "   'Soccer in St. Louis',\n",
       "   'Soccer in the New York metropolitan area',\n",
       "   'Soccer in the United States',\n",
       "   'Soisson-Rapacz-Clason Field',\n",
       "   'South Bend, Indiana',\n",
       "   'South Bend Lions FC',\n",
       "   'South Carolina United',\n",
       "   'Southern California Eagles',\n",
       "   'Southern California Seahorses',\n",
       "   'Southern Soccer Academy',\n",
       "   'Southern Soccer Academy Kings',\n",
       "   'Spain',\n",
       "   'Spokane Shadow',\n",
       "   'Sports broadcasting contracts in the United States',\n",
       "   'Sportsplex at Matthews',\n",
       "   'Springfield Asc',\n",
       "   \"St. Anne's-Belfield School\",\n",
       "   'St. Charles, Missouri',\n",
       "   'St. Charles FC',\n",
       "   'St. Croix Legends',\n",
       "   'St. Croix SC',\n",
       "   \"St. Edward's Hilltoppers\",\n",
       "   'St. John Paul II High School (Corpus Christi, Texas)',\n",
       "   'St. Johns, Florida',\n",
       "   'St. Joseph High School (Metuchen, New Jersey)',\n",
       "   'St. Petersburg, Florida',\n",
       "   'St. Petersburg FC',\n",
       "   'St. Petersburg High School',\n",
       "   'Starfire Stadium',\n",
       "   'Staten Island',\n",
       "   'Staten Island Sporting Athletic Club',\n",
       "   'Stephanie Labbé',\n",
       "   'Stewart Givens',\n",
       "   'Stillwater, Minnesota',\n",
       "   'Stillwater Area High School',\n",
       "   'Sueno FC',\n",
       "   'Sueño FC',\n",
       "   'Sullivan Silva',\n",
       "   'Summerfield, Florida',\n",
       "   'Super Y League',\n",
       "   'Tacoma',\n",
       "   'Tacoma Stars',\n",
       "   'Tampa',\n",
       "   'Tampa, Florida',\n",
       "   'Tampa Bay United',\n",
       "   'Tampa Bay United SC',\n",
       "   'Teaneck, New Jersey',\n",
       "   'Tennessee SC',\n",
       "   'The New York Times',\n",
       "   'The Seattle Times',\n",
       "   'The Village School (Houston)',\n",
       "   'The Villages SC',\n",
       "   'Thunder Bay, Ontario',\n",
       "   'Thunder Bay Chill',\n",
       "   'Tobacco Road FC',\n",
       "   'Toledo, Ohio',\n",
       "   'Toledo Villa FC',\n",
       "   'Tomas Boltnar',\n",
       "   'Tournament of Nations',\n",
       "   'TowneBank Stadium',\n",
       "   'Trinidad and Tobago',\n",
       "   'Tucson, Arizona',\n",
       "   'Tukwila, Washington',\n",
       "   'Turkmenistan',\n",
       "   'Turlock, California',\n",
       "   'Tweet (social media)',\n",
       "   'Twitter',\n",
       "   'Ty Shipalane',\n",
       "   'U.S. Open Cup',\n",
       "   'UNC Wilmington Seahawks',\n",
       "   \"USASA National Women's Amateur\",\n",
       "   \"USASA National Women's Open\",\n",
       "   'USISL',\n",
       "   'USISL Select League',\n",
       "   'USL2',\n",
       "   'USL Academy League',\n",
       "   'USL Championship',\n",
       "   'USL Championship Final',\n",
       "   'USL Championship final',\n",
       "   'USL Cup',\n",
       "   'USL First Division',\n",
       "   'USL League One',\n",
       "   'USL League Two',\n",
       "   'USL Second Division',\n",
       "   'USL Super League',\n",
       "   'USL W-League (1995–2015)',\n",
       "   'USL W League',\n",
       "   'USL Youth',\n",
       "   'USSF Division 2 Professional League',\n",
       "   'US Club Soccer',\n",
       "   'US Youth Soccer National Championships',\n",
       "   \"U Sports men's soccer\",\n",
       "   \"U Sports men's soccer championship\",\n",
       "   \"U Sports women's soccer\",\n",
       "   \"U Sports women's soccer championship\",\n",
       "   'Union Bulldogs and Lady Bulldogs',\n",
       "   'Union College',\n",
       "   'Union FC Macomb',\n",
       "   'United PDX',\n",
       "   'United Premier Soccer League',\n",
       "   'United Soccer Association',\n",
       "   'United Soccer League',\n",
       "   'United Soccer League (1984–85)',\n",
       "   'United Soccer League of Pennsylvania',\n",
       "   'United Soccer Leagues',\n",
       "   'United States',\n",
       "   'United States Adult Soccer Association',\n",
       "   'United States Open Cup for Arena Soccer',\n",
       "   'United States Soccer Federation',\n",
       "   'United States Soccer Federation State Soccer Association',\n",
       "   'United States Youth Soccer Association',\n",
       "   \"United States boys' national under-15 soccer team\",\n",
       "   \"United States men's Paralympic soccer team\",\n",
       "   \"United States men's national beach soccer team\",\n",
       "   \"United States men's national soccer team\",\n",
       "   \"United States men's national soccer team results\",\n",
       "   \"United States men's national under-17 soccer team\",\n",
       "   \"United States men's national under-18 soccer team\",\n",
       "   \"United States men's national under-20 soccer team\",\n",
       "   \"United States men's national under-23 soccer team\",\n",
       "   'United States national arena soccer team',\n",
       "   'United States national futsal team',\n",
       "   'United States soccer league system',\n",
       "   \"United States women's national deaf soccer team\",\n",
       "   \"United States women's national futsal team\",\n",
       "   \"United States women's national soccer team\",\n",
       "   \"United States women's national under-17 soccer team\",\n",
       "   \"United States women's national under-18 soccer team\",\n",
       "   \"United States women's national under-19 soccer team\",\n",
       "   \"United States women's national under-20 soccer team\",\n",
       "   \"United States women's national under-23 soccer team\",\n",
       "   \"United Women's Soccer\",\n",
       "   'University of Toledo',\n",
       "   'Urban area',\n",
       "   'Utah Avalanche',\n",
       "   'Utah County, Utah',\n",
       "   'Utah United',\n",
       "   'Valley High School (West Des Moines, Iowa)',\n",
       "   'Vancouver Metro Soccer League',\n",
       "   'Vancouver Whitecaps FC U-23',\n",
       "   'Venezuela',\n",
       "   'Ventura, California',\n",
       "   'Ventura College',\n",
       "   'Ventura County Fusion',\n",
       "   'Vermont Green FC',\n",
       "   'Victoria Challenge Cup',\n",
       "   'Victoria Highlanders',\n",
       "   'Virginia Beach, Virginia',\n",
       "   'Virginia Beach Piranhas',\n",
       "   'Virginia Beach Sportsplex',\n",
       "   'Virginia Beach United',\n",
       "   'Virginia Beach United FC',\n",
       "   'Virginia Marauders FC',\n",
       "   'Virtue Field',\n",
       "   'Voyageurs Cup',\n",
       "   'Voyageurs Cup (women)',\n",
       "   'WakeMed Soccer Park',\n",
       "   'Wake FC',\n",
       "   'Wales',\n",
       "   'War Memorial Stadium (Arkansas)',\n",
       "   'Washington (state)',\n",
       "   \"Washington Huskies men's soccer\",\n",
       "   'Wenatchee Valley College',\n",
       "   'West Carrollton, Ohio',\n",
       "   'West Chester, Pennsylvania',\n",
       "   'West Chester United SC',\n",
       "   'West Seattle Junction FC',\n",
       "   'West Texas A&M Buffaloes',\n",
       "   'West Virginia United',\n",
       "   'West Windsor, New Jersey',\n",
       "   'Westchester Flames',\n",
       "   'Western Canada Soccer League',\n",
       "   'Western Football Association',\n",
       "   'Western Indoor Soccer League',\n",
       "   'Western Mass Pioneers',\n",
       "   'Western Soccer Alliance',\n",
       "   'Weston, Florida',\n",
       "   'Weston FC',\n",
       "   'Williamsville South High School',\n",
       "   'Winchester, Virginia',\n",
       "   'Winston-Salem, North Carolina',\n",
       "   'Wisconsin',\n",
       "   \"Women's Inter-Provincial Championship\",\n",
       "   \"Women's Premier Soccer League\",\n",
       "   \"Women's Premier Soccer League Elite\",\n",
       "   \"Women's Professional Soccer\",\n",
       "   \"Women's United Soccer Association\",\n",
       "   \"Women's soccer in Canada\",\n",
       "   \"Women's soccer in the United States\",\n",
       "   'World Indoor Soccer League',\n",
       "   \"Wright State Raiders men's soccer\",\n",
       "   'Xtreme Soccer League',\n",
       "   'Yakima Reds',\n",
       "   'YouTube',\n",
       "   'Yukon Soccer Association']})"
      ]
     },
     "execution_count": 93,
     "metadata": {},
     "output_type": "execute_result"
    }
   ],
   "source": [
    "subjects_direct_links_wiki_fast(subjects_with_context)\n"
   ]
  },
  {
   "cell_type": "code",
   "execution_count": 94,
   "metadata": {},
   "outputs": [],
   "source": [
    "def process_sentence_set_wiki(args):\n",
    "    index, sent_sets, subject_dict = args\n",
    "    score = 0\n",
    "    local_pair_and_values = []\n",
    "    for pair in sent_sets:\n",
    "        local_subject= pair[0]\n",
    "        entity = pair[1]\n",
    "\n",
    "        entity_embeddings = model.encode(entity,show_progress_bar=False)\n",
    "        embeddings = subject_dict[local_subject]\n",
    "        \n",
    "        if embeddings.size == 0:\n",
    "            local_pair_and_values.append([pair[0], pair[1], -1])\n",
    "            score -= 1\n",
    "            continue\n",
    "            \n",
    "        cosine_similarities = np.dot(embeddings, entity_embeddings)\n",
    "        max_similarity = np.max(cosine_similarities)\n",
    "        if max_similarity>0.65:\n",
    "            score+=1\n",
    "            local_pair_and_values.append([pair[0],pair[1],1])\n",
    "        else:\n",
    "            local_pair_and_values.append([pair[0],pair[1],0])\n",
    "    fraction = score / len(sent_sets) if len(sent_sets) > 0 else -1\n",
    "    return index, fraction, local_pair_and_values\n",
    "\n",
    "def scoring_parallel_version_wiki(text):\n",
    "    # print(text)\n",
    "    pairs, final_sents, subject_set, subjects_with_context = get_sentence_based_links_wiki(text)\n",
    "    subject_dict, subject_word_dict = subjects_direct_links_wiki_fast(subjects_with_context)\n",
    "    \n",
    "    # print(subject_set)\n",
    "\n",
    "    if not pairs:\n",
    "        print(\"No entity pairs found here.\")\n",
    "        return 0, [], final_sents\n",
    "\n",
    "    fractions = [None] * len(pairs)\n",
    "    pair_and_values = [None] * len(pairs)\n",
    "\n",
    "    with concurrent.futures.ThreadPoolExecutor(max_workers=100) as executor:\n",
    "        task_args = [(index, sent_sets, subject_dict) for index, sent_sets in enumerate(pairs)]\n",
    "        results = list(executor.map(process_sentence_set_wiki, task_args))\n",
    "\n",
    "    for index, fraction, local_pair_and_values in results:\n",
    "        fractions[index] = fraction\n",
    "        pair_and_values[index] = local_pair_and_values\n",
    "\n",
    "    flat_pair_and_values = [item for sublist in pair_and_values for item in sublist]\n",
    "    return fractions, flat_pair_and_values, final_sents\n"
   ]
  },
  {
   "cell_type": "code",
   "execution_count": 95,
   "metadata": {},
   "outputs": [
    {
     "data": {
      "text/plain": [
       "\"Richard Keith Mahler (August 5, 1953 in Austin, Texas - March 2, 2005 in Jupiter, Florida) was a starting pitcher in Major League Baseball who played for the Atlanta Braves (1979-1988, 1991), Cincinnati Reds (1989-1990) and Montreal Expos (1991).\\nHis brother Mickey was also a Major League pitcher, with the two being teammates in 1979.\\nThe two had previously been teammates playing for the Triple-A Richmond Braves.\\nIn his 13-year career, Mahler posted a 96-111 record with 952 strikeouts and a 3.99 ERA in 1951.1 innings.\\nBorn in Austin, Texas, Mahler graduated from John Jay High School and then attended Trinity University, both in San Antonio, Texas.\\nAfter being signed by the Braves as an amateur free agent in 1975, he made his debut in the 1979 season.\\nMahler started on Opening Day for the Braves in 1982, when Atlanta won the National League West title.\\nHe made four straight Opening Day starts beginning in 1985.\\nIn 1987, he tied an NL record with his third Opening Day shutout.\\nHis best season came in 1985, when he went 17-15 with a 3.48 ERA.\\nHe pitched twice in the postseason, with the Braves in 1982, and with the 1990 World Series champion Cincinnati Reds.\\nMahler was a key member of that Reds' pitching staff as a spot starter and reliever, going 7-6 and contributing four saves.\\nHe also appeared in ten games with the Montreal Expos in 1991 before returning to Atlanta in mid-season.\\nAfter retiring, Mahler served as a minor league pitching coach for the Kansas City Royals and the Florida Marlins, and he was a roving instructor for the St. Louis Cardinals.\\nHe also managed St. Louis' Double-A affiliate in the Texas League from 1996 to 1997.\\nMahler died at age 51 of a heart attack at home in Jupiter, Florida, where he was preparing for his second season as a minor league pitching coach for the New York Mets.\\nHe was survived by his wife, Sheryl, and five children Ricky, Robby, Timothy, Tyler and Shannon.\""
      ]
     },
     "execution_count": 95,
     "metadata": {},
     "output_type": "execute_result"
    }
   ],
   "source": [
    "text"
   ]
  },
  {
   "cell_type": "code",
   "execution_count": 96,
   "metadata": {},
   "outputs": [
    {
     "name": "stderr",
     "output_type": "stream",
     "text": [
      "07/03/2024 10:01:25 - INFO - \t Tokenize 1 inputs...\n"
     ]
    },
    {
     "data": {
      "application/vnd.jupyter.widget-view+json": {
       "model_id": "c8605ab718ca494ba7d4f657c60848e1",
       "version_major": 2,
       "version_minor": 0
      },
      "text/plain": [
       "Map:   0%|          | 0/1 [00:00<?, ? examples/s]"
      ]
     },
     "metadata": {},
     "output_type": "display_data"
    },
    {
     "name": "stderr",
     "output_type": "stream",
     "text": [
      "07/03/2024 10:01:26 - INFO - \t ***** Running Inference on 1 texts *****\n"
     ]
    },
    {
     "data": {
      "application/vnd.jupyter.widget-view+json": {
       "model_id": "a2d0cd9d238e46da8b30be378837bcae",
       "version_major": 2,
       "version_minor": 0
      },
      "text/plain": [
       "Inference:   0%|          | 0/1 [00:00<?, ?it/s]"
      ]
     },
     "metadata": {},
     "output_type": "display_data"
    },
    {
     "name": "stdout",
     "output_type": "stream",
     "text": [
      "The number of pairs is: 95\n",
      "\n",
      "Query for Richard Keith Mahler brother Mickey: Richard Keith Mahler brother Mickey was also a Major League Baseball pitcher, with the two being teammates in 1979 . didn't work: Page id \"rick miller\" does not match any pages. Try another id!\n",
      "Query for season: Richard Keith Mahler best season came in 1985 , when Richard Keith Mahler went 17-15 with a 3.48 ERA. didn't work: Page id \"rick miller\" does not match any pages. Try another id!\n",
      "Query for Austin: Born in Austin, Texas , Richard Keith Mahler graduated from John Jay High School and then attended Trinity University, both in San Antonio, Texas . didn't work: Page id \"rick miller\" does not match any pages. Try another id!\n",
      "([-1.0, -1.0, 0.0, -1.0, -1.0, -1.0, -1.0, -1.0, -1.0, -1.0, -1.0, -1.0, -1.0, -1.0, -1.0, -1.0, -1.0], [['Richard Keith Mahler', 'Richard Keith', -1], ['Richard Keith Mahler', 'Mahler', -1], ['Richard Keith Mahler', 'Austin, Texas', -1], ['Richard Keith Mahler', 'Texas', -1], ['Richard Keith Mahler', 'Jupiter, Florida', -1], ['Richard Keith Mahler', 'starting pitcher', -1], ['Richard Keith Mahler', 'Major League Baseball', -1], ['Richard Keith Mahler', 'Braves', -1], ['Richard Keith Mahler', 'Reds', -1], ['Richard Keith Mahler', 'Montreal Expos', -1], ['Richard Keith Mahler brother Mickey', 'Richard Keith', -1], ['Richard Keith Mahler brother Mickey', 'Mahler', -1], ['Richard Keith Mahler brother Mickey', 'Major League Baseball', -1], ['Richard Keith Mahler brother Mickey', 'pitcher', -1], ['two', 'Triple-A', 0], ['two', 'Braves', 0], ['Richard Keith Mahler', 'Richard Keith', -1], ['Richard Keith Mahler', 'Mahler', -1], ['Richard Keith Mahler', 'Richard Keith', -1], ['Richard Keith Mahler', 'Mahler', -1], ['Richard Keith Mahler', 'ERA', -1], ['Austin', 'Austin, Texas', -1], ['Austin', 'Richard Keith', -1], ['Austin', 'Mahler', -1], ['Austin', 'Trinity University', -1], ['Austin', 'Antonio', -1], ['Austin', 'Texas', -1], ['Richard Keith Mahler', 'Braves', -1], ['Richard Keith Mahler', 'free agent', -1], ['Richard Keith Mahler', 'Richard Keith', -1], ['Richard Keith Mahler', 'Mahler', -1], ['Richard Keith Mahler', 'Richard Keith', -1], ['Richard Keith Mahler', 'Mahler', -1], ['Richard Keith Mahler', 'Richard Keith', -1], ['Richard Keith Mahler', 'Mahler', -1], ['Richard Keith Mahler', 'Opening Day', -1], ['Richard Keith Mahler', 'Braves', -1], ['Richard Keith Mahler', 'Braves', -1], ['Richard Keith Mahler', 'Richard Keith', -1], ['Richard Keith Mahler', 'Mahler', -1], ['Richard Keith Mahler', 'Opening Day', -1], ['Richard Keith Mahler', 'Richard Keith', -1], ['Richard Keith Mahler', 'Mahler', -1], ['Richard Keith Mahler', 'Richard Keith', -1], ['Richard Keith Mahler', 'Mahler', -1], ['Richard Keith Mahler', 'Opening Day', -1], ['Richard Keith Mahler', 'shutout', -1], ['season', 'Richard Keith', -1], ['season', 'Mahler', -1], ['season', 'Richard Keith', -1], ['season', 'Mahler', -1], ['season', 'ERA', -1], ['Richard Keith Mahler', 'Richard Keith', -1], ['Richard Keith Mahler', 'Mahler', -1], ['Richard Keith Mahler', 'Braves', -1], ['Richard Keith Mahler', 'World Series', -1], ['Richard Keith Mahler', 'Reds', -1], ['Richard Keith Mahler', 'Richard Keith', -1], ['Richard Keith Mahler', 'Mahler', -1], ['Richard Keith Mahler', 'World Series', -1], ['Richard Keith Mahler', 'Reds', -1], ['Richard Keith Mahler', 'spot starter', -1], ['Richard Keith Mahler', 'Richard Keith', -1], ['Richard Keith Mahler', 'Mahler', -1], ['Richard Keith Mahler', 'Montreal Expos', -1], ['Richard Keith Mahler', 'Braves', -1], ['Richard Keith Mahler', 'Richard Keith', -1], ['Richard Keith Mahler', 'Mahler', -1], ['Richard Keith Mahler', 'pitching coach', -1], ['Richard Keith Mahler', 'Kansas City Royals', -1], ['Richard Keith Mahler', 'Florida Marlins', -1], ['Richard Keith Mahler', 'Richard Keith', -1], ['Richard Keith Mahler', 'Mahler', -1], ['Richard Keith Mahler', 'Richard Keith', -1], ['Richard Keith Mahler', 'Mahler', -1], ['Richard Keith Mahler', 'Double-A', -1], ['Richard Keith Mahler', 'Texas League', -1], ['Richard Keith Mahler', 'Richard Keith', -1], ['Richard Keith Mahler', 'Mahler', -1], ['Richard Keith Mahler', 'heart attack', -1], ['Richard Keith Mahler', 'Jupiter, Florida', -1], ['Richard Keith Mahler', 'Richard Keith', -1], ['Richard Keith Mahler', 'Mahler', -1], ['Richard Keith Mahler', 'Richard Keith', -1], ['Richard Keith Mahler', 'Mahler', -1], ['Richard Keith Mahler', 'pitching coach', -1], ['Richard Keith Mahler', 'New York Mets', -1], ['Richard Keith Mahler', 'Richard Keith', -1], ['Richard Keith Mahler', 'Mahler', -1], ['Richard Keith Mahler', 'Richard Keith', -1], ['Richard Keith Mahler', 'Mahler', -1], ['Richard Keith Mahler', 'Ricky', -1], ['Richard Keith Mahler', 'Timothy', -1], ['Richard Keith Mahler', 'Tyler', -1], ['Richard Keith Mahler', 'Shannon', -1]], [Richard Keith Mahler (August 5, 1953 in Austin, Texas Texas - March 2, 2005 in Jupiter, Florida ) was a starting pitcher in Major League Baseball who played for the Atlanta Braves (1979 -1988, 1991), Cincinnati Reds (1989-1990) and Montreal Expos (1991)., Richard Keith Mahler brother Mickey was also a Major League Baseball pitcher, with the two being teammates in 1979 ., the two had previously been teammates playing for the Triple-A Richmond Braves., In Richard Keith Mahler 13-year career, Richard Keith Mahler posted a 96-111 record with 952 strikeouts and a 3.99 ERA in 1951.1 innings., Born in Austin, Texas , Richard Keith Mahler graduated from John Jay High School and then attended Trinity University, both in San Antonio, Texas ., After being signed by Atlanta Braves as an amateur free agent in 1975, Richard Keith Mahler made Richard Keith Mahler debut in the 1979 season., Richard Keith Mahler started on Opening Day for Atlanta Braves in 1982, when Atlanta Braves won the National League West title., Richard Keith Mahler made four straight Opening Day starts beginning in 1985 ., In 1987, Richard Keith Mahler tied an NL record with Richard Keith Mahler third Opening Day shutout., Richard Keith Mahler best season came in 1985 , when Richard Keith Mahler went 17-15 with a 3.48 ERA., Richard Keith Mahler pitched twice in the postseason, with Atlanta Braves in 1982, and with the 1990 World Series champion Cincinnati Reds ., Richard Keith Mahler was a key member of the 1990 World Series champion Cincinnati Reds pitching staff as a spot starter and reliever, going 7-6 and contributing four saves., Richard Keith Mahler also appeared in ten games with the Montreal Expos in 1991 before returning to Atlanta Braves in mid-season., After retiring, Richard Keith Mahler served as a minor league pitching coach for the Kansas City Royals and the Florida Marlins, and Richard Keith Mahler was a roving instructor for the St. Louis Cardinals ., Richard Keith Mahler also managed the St. Louis Cardinals Double-A affiliate in the Texas League from 1996 to 1997., Richard Keith Mahler died at age 51 of a heart attack at home in Jupiter, Florida , where Richard Keith Mahler was preparing for Richard Keith Mahler second season as a minor league pitching coach for the New York Mets., Richard Keith Mahler was survived by Richard Keith Mahler wife, Sheryl, and five children Ricky, Robby, Timothy, Tyler and Shannon.])\n"
     ]
    }
   ],
   "source": [
    "print(scoring_parallel_version_wiki(text))"
   ]
  },
  {
   "cell_type": "code",
   "execution_count": 97,
   "metadata": {},
   "outputs": [],
   "source": [
    "accurate = []\n",
    "minor_inaccurate = []\n",
    "major_inaccurate = []"
   ]
  },
  {
   "cell_type": "code",
   "execution_count": 79,
   "metadata": {},
   "outputs": [
    {
     "data": {
      "application/vnd.jupyter.widget-view+json": {
       "model_id": "6971a25447fe48eaafe47ec40da4f6b5",
       "version_major": 2,
       "version_minor": 0
      },
      "text/plain": [
       "Processing entries:   0%|          | 0/100 [00:00<?, ?entry/s]"
      ]
     },
     "metadata": {},
     "output_type": "display_data"
    },
    {
     "name": "stderr",
     "output_type": "stream",
     "text": [
      "07/02/2024 17:12:55 - INFO - \t Tokenize 1 inputs...\n"
     ]
    },
    {
     "data": {
      "application/vnd.jupyter.widget-view+json": {
       "model_id": "4b9857757b454acca0614a98e4802fcb",
       "version_major": 2,
       "version_minor": 0
      },
      "text/plain": [
       "Map:   0%|          | 0/1 [00:00<?, ? examples/s]"
      ]
     },
     "metadata": {},
     "output_type": "display_data"
    },
    {
     "name": "stderr",
     "output_type": "stream",
     "text": [
      "07/02/2024 17:12:55 - INFO - \t ***** Running Inference on 1 texts *****\n"
     ]
    },
    {
     "data": {
      "application/vnd.jupyter.widget-view+json": {
       "model_id": "524ec37f2a7a4d5981bd903cbc02aa3a",
       "version_major": 2,
       "version_minor": 0
      },
      "text/plain": [
       "Inference:   0%|          | 0/1 [00:00<?, ?it/s]"
      ]
     },
     "metadata": {},
     "output_type": "display_data"
    },
    {
     "name": "stdout",
     "output_type": "stream",
     "text": [
      "The number of pairs is: 13\n",
      "\n"
     ]
    },
    {
     "name": "stderr",
     "output_type": "stream",
     "text": [
      "07/02/2024 17:13:07 - INFO - \t Tokenize 1 inputs...\n"
     ]
    },
    {
     "data": {
      "application/vnd.jupyter.widget-view+json": {
       "model_id": "58062906d29843d892ba06ee4750416e",
       "version_major": 2,
       "version_minor": 0
      },
      "text/plain": [
       "Map:   0%|          | 0/1 [00:00<?, ? examples/s]"
      ]
     },
     "metadata": {},
     "output_type": "display_data"
    },
    {
     "name": "stderr",
     "output_type": "stream",
     "text": [
      "07/02/2024 17:13:07 - INFO - \t ***** Running Inference on 1 texts *****\n"
     ]
    },
    {
     "data": {
      "application/vnd.jupyter.widget-view+json": {
       "model_id": "63f58a0e6e004723a1e63d3f54ecd6c4",
       "version_major": 2,
       "version_minor": 0
      },
      "text/plain": [
       "Inference:   0%|          | 0/1 [00:00<?, ?it/s]"
      ]
     },
     "metadata": {},
     "output_type": "display_data"
    },
    {
     "name": "stdout",
     "output_type": "stream",
     "text": [
      "The number of pairs is: 76\n",
      "\n",
      "The ground truth scores are: 0.7992753623188406\n",
      "\n"
     ]
    },
    {
     "name": "stderr",
     "output_type": "stream",
     "text": [
      "07/02/2024 17:13:20 - INFO - \t Tokenize 1 inputs...\n"
     ]
    },
    {
     "data": {
      "application/vnd.jupyter.widget-view+json": {
       "model_id": "5c6b8c03c16e402ab923d61b316cbc8a",
       "version_major": 2,
       "version_minor": 0
      },
      "text/plain": [
       "Map:   0%|          | 0/1 [00:00<?, ? examples/s]"
      ]
     },
     "metadata": {},
     "output_type": "display_data"
    },
    {
     "name": "stderr",
     "output_type": "stream",
     "text": [
      "07/02/2024 17:13:20 - INFO - \t ***** Running Inference on 1 texts *****\n"
     ]
    },
    {
     "data": {
      "application/vnd.jupyter.widget-view+json": {
       "model_id": "a50a98726dae48bbaaa43cc72d80fc93",
       "version_major": 2,
       "version_minor": 0
      },
      "text/plain": [
       "Inference:   0%|          | 0/1 [00:00<?, ?it/s]"
      ]
     },
     "metadata": {},
     "output_type": "display_data"
    },
    {
     "name": "stdout",
     "output_type": "stream",
     "text": [
      "The number of pairs is: 23\n",
      "\n"
     ]
    },
    {
     "name": "stderr",
     "output_type": "stream",
     "text": [
      "07/02/2024 17:13:29 - INFO - \t Tokenize 1 inputs...\n"
     ]
    },
    {
     "data": {
      "application/vnd.jupyter.widget-view+json": {
       "model_id": "b900f03a41f8498d8f665d649b4ffccc",
       "version_major": 2,
       "version_minor": 0
      },
      "text/plain": [
       "Map:   0%|          | 0/1 [00:00<?, ? examples/s]"
      ]
     },
     "metadata": {},
     "output_type": "display_data"
    },
    {
     "name": "stderr",
     "output_type": "stream",
     "text": [
      "07/02/2024 17:13:29 - INFO - \t ***** Running Inference on 1 texts *****\n"
     ]
    },
    {
     "data": {
      "application/vnd.jupyter.widget-view+json": {
       "model_id": "ef6da9493ca84442836e095a3dbb836d",
       "version_major": 2,
       "version_minor": 0
      },
      "text/plain": [
       "Inference:   0%|          | 0/1 [00:00<?, ?it/s]"
      ]
     },
     "metadata": {},
     "output_type": "display_data"
    },
    {
     "name": "stdout",
     "output_type": "stream",
     "text": [
      "The number of pairs is: 34\n",
      "\n",
      "The ground truth scores are: 0.6282312925170068\n",
      "\n"
     ]
    },
    {
     "name": "stderr",
     "output_type": "stream",
     "text": [
      "07/02/2024 17:13:38 - INFO - \t Tokenize 1 inputs...\n"
     ]
    },
    {
     "data": {
      "application/vnd.jupyter.widget-view+json": {
       "model_id": "eca7aba1d661453a85c582691287d075",
       "version_major": 2,
       "version_minor": 0
      },
      "text/plain": [
       "Map:   0%|          | 0/1 [00:00<?, ? examples/s]"
      ]
     },
     "metadata": {},
     "output_type": "display_data"
    },
    {
     "name": "stderr",
     "output_type": "stream",
     "text": [
      "07/02/2024 17:13:38 - INFO - \t ***** Running Inference on 1 texts *****\n"
     ]
    },
    {
     "data": {
      "application/vnd.jupyter.widget-view+json": {
       "model_id": "3b2e91cf69a04aac8918a86e393f5295",
       "version_major": 2,
       "version_minor": 0
      },
      "text/plain": [
       "Inference:   0%|          | 0/1 [00:00<?, ?it/s]"
      ]
     },
     "metadata": {},
     "output_type": "display_data"
    },
    {
     "name": "stdout",
     "output_type": "stream",
     "text": [
      "The number of pairs is: 28\n",
      "\n"
     ]
    },
    {
     "name": "stderr",
     "output_type": "stream",
     "text": [
      "07/02/2024 17:13:51 - INFO - \t Tokenize 1 inputs...\n"
     ]
    },
    {
     "data": {
      "application/vnd.jupyter.widget-view+json": {
       "model_id": "762a2000ec594fa3afb7f6d56684ce27",
       "version_major": 2,
       "version_minor": 0
      },
      "text/plain": [
       "Map:   0%|          | 0/1 [00:00<?, ? examples/s]"
      ]
     },
     "metadata": {},
     "output_type": "display_data"
    },
    {
     "name": "stderr",
     "output_type": "stream",
     "text": [
      "07/02/2024 17:13:52 - INFO - \t ***** Running Inference on 1 texts *****\n"
     ]
    },
    {
     "data": {
      "application/vnd.jupyter.widget-view+json": {
       "model_id": "9a1a2a3521de40e882092f4b93bb3490",
       "version_major": 2,
       "version_minor": 0
      },
      "text/plain": [
       "Inference:   0%|          | 0/1 [00:00<?, ?it/s]"
      ]
     },
     "metadata": {},
     "output_type": "display_data"
    },
    {
     "name": "stdout",
     "output_type": "stream",
     "text": [
      "The number of pairs is: 95\n",
      "\n",
      "Query for Austin: Born in Austin, Texas , Richard Keith Mahler graduated from John Jay High School and then attended Trinity University, both in San Antonio, Texas . didn't work: Page id \"rick miller\" does not match any pages. Try another id!\n",
      "Query for Richard Keith Mahler brother Mickey: Richard Keith Mahler brother Mickey was also a Major League Baseball pitcher, with the two being teammates in 1979 . didn't work: Page id \"rick miller\" does not match any pages. Try another id!\n",
      "Query for season: Richard Keith Mahler best season came in 1985 , when Richard Keith Mahler went 17-15 with a 3.48 ERA. didn't work: Page id \"rick miller\" does not match any pages. Try another id!\n",
      "The ground truth scores are: 0.0\n",
      "\n"
     ]
    },
    {
     "name": "stderr",
     "output_type": "stream",
     "text": [
      "07/02/2024 17:14:01 - INFO - \t Tokenize 1 inputs...\n"
     ]
    },
    {
     "data": {
      "application/vnd.jupyter.widget-view+json": {
       "model_id": "5f12f59253094042884b51cff08e3717",
       "version_major": 2,
       "version_minor": 0
      },
      "text/plain": [
       "Map:   0%|          | 0/1 [00:00<?, ? examples/s]"
      ]
     },
     "metadata": {},
     "output_type": "display_data"
    },
    {
     "name": "stderr",
     "output_type": "stream",
     "text": [
      "07/02/2024 17:14:01 - INFO - \t ***** Running Inference on 1 texts *****\n"
     ]
    },
    {
     "data": {
      "application/vnd.jupyter.widget-view+json": {
       "model_id": "ce48c3a76cac4be8b9a51b47a0bd01a8",
       "version_major": 2,
       "version_minor": 0
      },
      "text/plain": [
       "Inference:   0%|          | 0/1 [00:00<?, ?it/s]"
      ]
     },
     "metadata": {},
     "output_type": "display_data"
    },
    {
     "name": "stdout",
     "output_type": "stream",
     "text": [
      "The number of pairs is: 9\n",
      "\n"
     ]
    },
    {
     "name": "stderr",
     "output_type": "stream",
     "text": [
      "07/02/2024 17:14:10 - INFO - \t Tokenize 1 inputs...\n"
     ]
    },
    {
     "data": {
      "application/vnd.jupyter.widget-view+json": {
       "model_id": "537be5b8b92b4b4f96cd414213af47ce",
       "version_major": 2,
       "version_minor": 0
      },
      "text/plain": [
       "Map:   0%|          | 0/1 [00:00<?, ? examples/s]"
      ]
     },
     "metadata": {},
     "output_type": "display_data"
    },
    {
     "name": "stderr",
     "output_type": "stream",
     "text": [
      "07/02/2024 17:14:10 - INFO - \t ***** Running Inference on 1 texts *****\n"
     ]
    },
    {
     "data": {
      "application/vnd.jupyter.widget-view+json": {
       "model_id": "64390ee883634f18b319bcf9e90cb889",
       "version_major": 2,
       "version_minor": 0
      },
      "text/plain": [
       "Inference:   0%|          | 0/1 [00:00<?, ?it/s]"
      ]
     },
     "metadata": {},
     "output_type": "display_data"
    },
    {
     "name": "stdout",
     "output_type": "stream",
     "text": [
      "The number of pairs is: 23\n",
      "\n",
      "The ground truth scores are: 0.5555555555555556\n",
      "\n"
     ]
    },
    {
     "name": "stderr",
     "output_type": "stream",
     "text": [
      "07/02/2024 17:14:18 - INFO - \t Tokenize 1 inputs...\n"
     ]
    },
    {
     "data": {
      "application/vnd.jupyter.widget-view+json": {
       "model_id": "c6931860c5a94053987dc7df4444d59e",
       "version_major": 2,
       "version_minor": 0
      },
      "text/plain": [
       "Map:   0%|          | 0/1 [00:00<?, ? examples/s]"
      ]
     },
     "metadata": {},
     "output_type": "display_data"
    },
    {
     "name": "stderr",
     "output_type": "stream",
     "text": [
      "07/02/2024 17:14:18 - INFO - \t ***** Running Inference on 1 texts *****\n"
     ]
    },
    {
     "data": {
      "application/vnd.jupyter.widget-view+json": {
       "model_id": "d34582c89b2c4356b4d11e83ef1bd934",
       "version_major": 2,
       "version_minor": 0
      },
      "text/plain": [
       "Inference:   0%|          | 0/1 [00:00<?, ?it/s]"
      ]
     },
     "metadata": {},
     "output_type": "display_data"
    },
    {
     "name": "stdout",
     "output_type": "stream",
     "text": [
      "The number of pairs is: 8\n",
      "\n"
     ]
    },
    {
     "name": "stderr",
     "output_type": "stream",
     "text": [
      "07/02/2024 17:15:00 - INFO - \t Tokenize 1 inputs...\n"
     ]
    },
    {
     "data": {
      "application/vnd.jupyter.widget-view+json": {
       "model_id": "695ee1f142ad4dbd9c23155bb57f70f5",
       "version_major": 2,
       "version_minor": 0
      },
      "text/plain": [
       "Map:   0%|          | 0/1 [00:00<?, ? examples/s]"
      ]
     },
     "metadata": {},
     "output_type": "display_data"
    },
    {
     "name": "stderr",
     "output_type": "stream",
     "text": [
      "07/02/2024 17:15:00 - INFO - \t ***** Running Inference on 1 texts *****\n"
     ]
    },
    {
     "data": {
      "application/vnd.jupyter.widget-view+json": {
       "model_id": "6583ae78bb06480395db80751b6789e7",
       "version_major": 2,
       "version_minor": 0
      },
      "text/plain": [
       "Inference:   0%|          | 0/1 [00:00<?, ?it/s]"
      ]
     },
     "metadata": {},
     "output_type": "display_data"
    },
    {
     "name": "stdout",
     "output_type": "stream",
     "text": [
      "The number of pairs is: 39\n",
      "\n",
      "The ground truth scores are: 0.25\n",
      "\n"
     ]
    },
    {
     "name": "stderr",
     "output_type": "stream",
     "text": [
      "07/02/2024 17:15:12 - INFO - \t Tokenize 1 inputs...\n"
     ]
    },
    {
     "data": {
      "application/vnd.jupyter.widget-view+json": {
       "model_id": "0448b5e41431457da4b335c6ff41beef",
       "version_major": 2,
       "version_minor": 0
      },
      "text/plain": [
       "Map:   0%|          | 0/1 [00:00<?, ? examples/s]"
      ]
     },
     "metadata": {},
     "output_type": "display_data"
    },
    {
     "name": "stderr",
     "output_type": "stream",
     "text": [
      "07/02/2024 17:15:12 - INFO - \t ***** Running Inference on 1 texts *****\n"
     ]
    },
    {
     "data": {
      "application/vnd.jupyter.widget-view+json": {
       "model_id": "e688bbbc1f8342b3b898018aef2bb6c2",
       "version_major": 2,
       "version_minor": 0
      },
      "text/plain": [
       "Inference:   0%|          | 0/1 [00:00<?, ?it/s]"
      ]
     },
     "metadata": {},
     "output_type": "display_data"
    },
    {
     "name": "stdout",
     "output_type": "stream",
     "text": [
      "The number of pairs is: 18\n",
      "\n"
     ]
    },
    {
     "name": "stderr",
     "output_type": "stream",
     "text": [
      "07/02/2024 17:15:20 - INFO - \t Tokenize 1 inputs...\n"
     ]
    },
    {
     "data": {
      "application/vnd.jupyter.widget-view+json": {
       "model_id": "245dff71c8ed4f5da94260c675d725cb",
       "version_major": 2,
       "version_minor": 0
      },
      "text/plain": [
       "Map:   0%|          | 0/1 [00:00<?, ? examples/s]"
      ]
     },
     "metadata": {},
     "output_type": "display_data"
    },
    {
     "name": "stderr",
     "output_type": "stream",
     "text": [
      "07/02/2024 17:15:21 - INFO - \t ***** Running Inference on 1 texts *****\n"
     ]
    },
    {
     "data": {
      "application/vnd.jupyter.widget-view+json": {
       "model_id": "7141649ebf5f44a6a2863f5da1b347a1",
       "version_major": 2,
       "version_minor": 0
      },
      "text/plain": [
       "Inference:   0%|          | 0/1 [00:00<?, ?it/s]"
      ]
     },
     "metadata": {},
     "output_type": "display_data"
    },
    {
     "name": "stdout",
     "output_type": "stream",
     "text": [
      "The number of pairs is: 28\n",
      "\n",
      "Query for Dananjaya: Officially a left-hand batsman and an off-break bowler, Dananjaya is said to have seven variations, including the leg-break, googly, carrom ball, doosra, and Dananjaya stock off-spinner that had impressed national team captain Mahela Jayawardene so much in the nets as to make national team captain Mahela Jayawardene request Dananjaya to be fast-tracked into the national squad. didn't work: An unknown error occured: \"Search request is longer than the maximum allowed length. (Actual: 390; allowed: 300)\". Please report it on GitHub!\n",
      "Query for turn: took in turn led to a place in the final squad for the 2012 ICC World Twenty20. didn't work: Page id \"kate williamson\" does not match any pages. Try another id!\n",
      "The ground truth scores are: 0.25\n",
      "\n"
     ]
    },
    {
     "name": "stderr",
     "output_type": "stream",
     "text": [
      "07/02/2024 17:15:29 - INFO - \t Tokenize 1 inputs...\n"
     ]
    },
    {
     "data": {
      "application/vnd.jupyter.widget-view+json": {
       "model_id": "650a4341e8bc4e4484be487f265db616",
       "version_major": 2,
       "version_minor": 0
      },
      "text/plain": [
       "Map:   0%|          | 0/1 [00:00<?, ? examples/s]"
      ]
     },
     "metadata": {},
     "output_type": "display_data"
    },
    {
     "name": "stderr",
     "output_type": "stream",
     "text": [
      "07/02/2024 17:15:29 - INFO - \t ***** Running Inference on 1 texts *****\n"
     ]
    },
    {
     "data": {
      "application/vnd.jupyter.widget-view+json": {
       "model_id": "64074ecda8ff450397a78d83836ab3a8",
       "version_major": 2,
       "version_minor": 0
      },
      "text/plain": [
       "Inference:   0%|          | 0/1 [00:00<?, ?it/s]"
      ]
     },
     "metadata": {},
     "output_type": "display_data"
    },
    {
     "name": "stdout",
     "output_type": "stream",
     "text": [
      "The number of pairs is: 22\n",
      "\n",
      "Query for Derek King: Derek King (born 28 April 1965) is an Australian former professional footballer who played as a midfielder. didn't work: Page id \"deaths in may 2023\" does not match any pages. Try another id!\n"
     ]
    },
    {
     "name": "stderr",
     "output_type": "stream",
     "text": [
      "07/02/2024 17:15:36 - INFO - \t Tokenize 1 inputs...\n"
     ]
    },
    {
     "data": {
      "application/vnd.jupyter.widget-view+json": {
       "model_id": "561dcd5f53bd44579dfb4c37f1c817a1",
       "version_major": 2,
       "version_minor": 0
      },
      "text/plain": [
       "Map:   0%|          | 0/1 [00:00<?, ? examples/s]"
      ]
     },
     "metadata": {},
     "output_type": "display_data"
    },
    {
     "name": "stderr",
     "output_type": "stream",
     "text": [
      "07/02/2024 17:15:36 - INFO - \t ***** Running Inference on 1 texts *****\n"
     ]
    },
    {
     "data": {
      "application/vnd.jupyter.widget-view+json": {
       "model_id": "a2ea63f627b448c08e0d7436a7064e1c",
       "version_major": 2,
       "version_minor": 0
      },
      "text/plain": [
       "Inference:   0%|          | 0/1 [00:00<?, ?it/s]"
      ]
     },
     "metadata": {},
     "output_type": "display_data"
    },
    {
     "name": "stdout",
     "output_type": "stream",
     "text": [
      "The number of pairs is: 15\n",
      "\n",
      "The ground truth scores are: 0.7261904761904762\n",
      "\n"
     ]
    },
    {
     "name": "stderr",
     "output_type": "stream",
     "text": [
      "07/02/2024 17:15:44 - INFO - \t Tokenize 1 inputs...\n"
     ]
    },
    {
     "data": {
      "application/vnd.jupyter.widget-view+json": {
       "model_id": "08a0e528e730495c85dfc19810e68d0f",
       "version_major": 2,
       "version_minor": 0
      },
      "text/plain": [
       "Map:   0%|          | 0/1 [00:00<?, ? examples/s]"
      ]
     },
     "metadata": {},
     "output_type": "display_data"
    },
    {
     "name": "stderr",
     "output_type": "stream",
     "text": [
      "07/02/2024 17:15:44 - INFO - \t ***** Running Inference on 1 texts *****\n"
     ]
    },
    {
     "data": {
      "application/vnd.jupyter.widget-view+json": {
       "model_id": "f1d0eed93cb7432780884ab2e55548e9",
       "version_major": 2,
       "version_minor": 0
      },
      "text/plain": [
       "Inference:   0%|          | 0/1 [00:00<?, ?it/s]"
      ]
     },
     "metadata": {},
     "output_type": "display_data"
    },
    {
     "name": "stdout",
     "output_type": "stream",
     "text": [
      "The number of pairs is: 15\n",
      "\n"
     ]
    },
    {
     "name": "stderr",
     "output_type": "stream",
     "text": [
      "07/02/2024 17:15:56 - INFO - \t Tokenize 1 inputs...\n"
     ]
    },
    {
     "data": {
      "application/vnd.jupyter.widget-view+json": {
       "model_id": "7d4987abcb2940d48d5f736b8327ae07",
       "version_major": 2,
       "version_minor": 0
      },
      "text/plain": [
       "Map:   0%|          | 0/1 [00:00<?, ? examples/s]"
      ]
     },
     "metadata": {},
     "output_type": "display_data"
    },
    {
     "name": "stderr",
     "output_type": "stream",
     "text": [
      "07/02/2024 17:15:56 - INFO - \t ***** Running Inference on 1 texts *****\n"
     ]
    },
    {
     "data": {
      "application/vnd.jupyter.widget-view+json": {
       "model_id": "4f76c6d907574620b482dd44b61d5a7e",
       "version_major": 2,
       "version_minor": 0
      },
      "text/plain": [
       "Inference:   0%|          | 0/1 [00:00<?, ?it/s]"
      ]
     },
     "metadata": {},
     "output_type": "display_data"
    },
    {
     "name": "stdout",
     "output_type": "stream",
     "text": [
      "The number of pairs is: 25\n",
      "\n",
      "The ground truth scores are: 0.9277777777777777\n",
      "\n"
     ]
    },
    {
     "name": "stderr",
     "output_type": "stream",
     "text": [
      "07/02/2024 17:16:05 - INFO - \t Tokenize 1 inputs...\n"
     ]
    },
    {
     "data": {
      "application/vnd.jupyter.widget-view+json": {
       "model_id": "742ff13c48934edb9e721ba4a106ac40",
       "version_major": 2,
       "version_minor": 0
      },
      "text/plain": [
       "Map:   0%|          | 0/1 [00:00<?, ? examples/s]"
      ]
     },
     "metadata": {},
     "output_type": "display_data"
    },
    {
     "name": "stderr",
     "output_type": "stream",
     "text": [
      "07/02/2024 17:16:05 - INFO - \t ***** Running Inference on 1 texts *****\n"
     ]
    },
    {
     "data": {
      "application/vnd.jupyter.widget-view+json": {
       "model_id": "3d9fe30419d14321b73fb09d9c97a11e",
       "version_major": 2,
       "version_minor": 0
      },
      "text/plain": [
       "Inference:   0%|          | 0/1 [00:00<?, ?it/s]"
      ]
     },
     "metadata": {},
     "output_type": "display_data"
    },
    {
     "name": "stdout",
     "output_type": "stream",
     "text": [
      "The number of pairs is: 9\n",
      "\n"
     ]
    },
    {
     "name": "stderr",
     "output_type": "stream",
     "text": [
      "07/02/2024 17:16:09 - INFO - \t Tokenize 1 inputs...\n"
     ]
    },
    {
     "data": {
      "application/vnd.jupyter.widget-view+json": {
       "model_id": "551d198fec3648a4bb9e2849c52ee583",
       "version_major": 2,
       "version_minor": 0
      },
      "text/plain": [
       "Map:   0%|          | 0/1 [00:00<?, ? examples/s]"
      ]
     },
     "metadata": {},
     "output_type": "display_data"
    },
    {
     "name": "stderr",
     "output_type": "stream",
     "text": [
      "07/02/2024 17:16:09 - INFO - \t ***** Running Inference on 1 texts *****\n"
     ]
    },
    {
     "data": {
      "application/vnd.jupyter.widget-view+json": {
       "model_id": "2de59f15ebcc49e89328d62018fde37b",
       "version_major": 2,
       "version_minor": 0
      },
      "text/plain": [
       "Inference:   0%|          | 0/1 [00:00<?, ?it/s]"
      ]
     },
     "metadata": {},
     "output_type": "display_data"
    },
    {
     "name": "stdout",
     "output_type": "stream",
     "text": [
      "The number of pairs is: 53\n",
      "\n",
      "The ground truth scores are: 0.53\n",
      "\n"
     ]
    },
    {
     "name": "stderr",
     "output_type": "stream",
     "text": [
      "07/02/2024 17:16:19 - INFO - \t Tokenize 1 inputs...\n"
     ]
    },
    {
     "data": {
      "application/vnd.jupyter.widget-view+json": {
       "model_id": "03475f849ab140808e37e610880b0636",
       "version_major": 2,
       "version_minor": 0
      },
      "text/plain": [
       "Map:   0%|          | 0/1 [00:00<?, ? examples/s]"
      ]
     },
     "metadata": {},
     "output_type": "display_data"
    },
    {
     "name": "stderr",
     "output_type": "stream",
     "text": [
      "07/02/2024 17:16:19 - INFO - \t ***** Running Inference on 1 texts *****\n"
     ]
    },
    {
     "data": {
      "application/vnd.jupyter.widget-view+json": {
       "model_id": "03386e82b3ce426391be244222489a0c",
       "version_major": 2,
       "version_minor": 0
      },
      "text/plain": [
       "Inference:   0%|          | 0/1 [00:00<?, ?it/s]"
      ]
     },
     "metadata": {},
     "output_type": "display_data"
    },
    {
     "name": "stdout",
     "output_type": "stream",
     "text": [
      "The number of pairs is: 19\n",
      "\n"
     ]
    },
    {
     "name": "stderr",
     "output_type": "stream",
     "text": [
      "07/02/2024 17:16:29 - INFO - \t Tokenize 1 inputs...\n"
     ]
    },
    {
     "data": {
      "application/vnd.jupyter.widget-view+json": {
       "model_id": "7bbd93473df24b6fbf3e0773a77e29d7",
       "version_major": 2,
       "version_minor": 0
      },
      "text/plain": [
       "Map:   0%|          | 0/1 [00:00<?, ? examples/s]"
      ]
     },
     "metadata": {},
     "output_type": "display_data"
    },
    {
     "name": "stderr",
     "output_type": "stream",
     "text": [
      "07/02/2024 17:16:29 - INFO - \t ***** Running Inference on 1 texts *****\n"
     ]
    },
    {
     "data": {
      "application/vnd.jupyter.widget-view+json": {
       "model_id": "2aae917f30d940109f892c3ae6f2b960",
       "version_major": 2,
       "version_minor": 0
      },
      "text/plain": [
       "Inference:   0%|          | 0/1 [00:00<?, ?it/s]"
      ]
     },
     "metadata": {},
     "output_type": "display_data"
    },
    {
     "name": "stdout",
     "output_type": "stream",
     "text": [
      "The number of pairs is: 27\n",
      "\n",
      "The ground truth scores are: 0.7430555555555555\n",
      "\n"
     ]
    },
    {
     "name": "stderr",
     "output_type": "stream",
     "text": [
      "07/02/2024 17:16:38 - INFO - \t Tokenize 1 inputs...\n"
     ]
    },
    {
     "data": {
      "application/vnd.jupyter.widget-view+json": {
       "model_id": "3dfaac6bd3c249d884b76239b629a6d6",
       "version_major": 2,
       "version_minor": 0
      },
      "text/plain": [
       "Map:   0%|          | 0/1 [00:00<?, ? examples/s]"
      ]
     },
     "metadata": {},
     "output_type": "display_data"
    },
    {
     "name": "stderr",
     "output_type": "stream",
     "text": [
      "07/02/2024 17:16:38 - INFO - \t ***** Running Inference on 1 texts *****\n"
     ]
    },
    {
     "data": {
      "application/vnd.jupyter.widget-view+json": {
       "model_id": "346deb9465dc41ae8896cb768b9edf8d",
       "version_major": 2,
       "version_minor": 0
      },
      "text/plain": [
       "Inference:   0%|          | 0/1 [00:00<?, ?it/s]"
      ]
     },
     "metadata": {},
     "output_type": "display_data"
    },
    {
     "name": "stdout",
     "output_type": "stream",
     "text": [
      "The number of pairs is: 13\n",
      "\n"
     ]
    },
    {
     "name": "stderr",
     "output_type": "stream",
     "text": [
      "07/02/2024 17:16:46 - INFO - \t Tokenize 1 inputs...\n"
     ]
    },
    {
     "data": {
      "application/vnd.jupyter.widget-view+json": {
       "model_id": "da5cc0ff989b4f40bfa6b35f25d0f6b3",
       "version_major": 2,
       "version_minor": 0
      },
      "text/plain": [
       "Map:   0%|          | 0/1 [00:00<?, ? examples/s]"
      ]
     },
     "metadata": {},
     "output_type": "display_data"
    },
    {
     "name": "stderr",
     "output_type": "stream",
     "text": [
      "07/02/2024 17:16:46 - INFO - \t ***** Running Inference on 1 texts *****\n"
     ]
    },
    {
     "data": {
      "application/vnd.jupyter.widget-view+json": {
       "model_id": "02795f2aff4e48fabd4365ad6bdf33d6",
       "version_major": 2,
       "version_minor": 0
      },
      "text/plain": [
       "Inference:   0%|          | 0/1 [00:00<?, ?it/s]"
      ]
     },
     "metadata": {},
     "output_type": "display_data"
    },
    {
     "name": "stdout",
     "output_type": "stream",
     "text": [
      "The number of pairs is: 36\n",
      "\n",
      "The ground truth scores are: 0.2333333333333333\n",
      "\n"
     ]
    },
    {
     "name": "stderr",
     "output_type": "stream",
     "text": [
      "07/02/2024 17:16:53 - INFO - \t Tokenize 1 inputs...\n"
     ]
    },
    {
     "data": {
      "application/vnd.jupyter.widget-view+json": {
       "model_id": "7e6bcfaac6a1415d8dbb37b4e71fe4c4",
       "version_major": 2,
       "version_minor": 0
      },
      "text/plain": [
       "Map:   0%|          | 0/1 [00:00<?, ? examples/s]"
      ]
     },
     "metadata": {},
     "output_type": "display_data"
    },
    {
     "name": "stderr",
     "output_type": "stream",
     "text": [
      "07/02/2024 17:16:53 - INFO - \t ***** Running Inference on 1 texts *****\n"
     ]
    },
    {
     "data": {
      "application/vnd.jupyter.widget-view+json": {
       "model_id": "00cb8576113242efaf9de9f13ec492f2",
       "version_major": 2,
       "version_minor": 0
      },
      "text/plain": [
       "Inference:   0%|          | 0/1 [00:00<?, ?it/s]"
      ]
     },
     "metadata": {},
     "output_type": "display_data"
    },
    {
     "name": "stdout",
     "output_type": "stream",
     "text": [
      "The number of pairs is: 34\n",
      "\n",
      "Query for Carter Henry Harrison Sr . tenure: During Carter Henry Harrison Sr. tenure, Carter Henry Harrison Sr. was a strong advocate for labor unions and was instrumental in the passage of the Eight-Hour Law in 1885. didn't work: Page id \"martin can burden\" does not match any pages. Try another id!\n"
     ]
    },
    {
     "name": "stderr",
     "output_type": "stream",
     "text": [
      "07/02/2024 17:17:04 - INFO - \t Tokenize 1 inputs...\n"
     ]
    },
    {
     "data": {
      "application/vnd.jupyter.widget-view+json": {
       "model_id": "85ad7f033db848eea265f40e864d8be2",
       "version_major": 2,
       "version_minor": 0
      },
      "text/plain": [
       "Map:   0%|          | 0/1 [00:00<?, ? examples/s]"
      ]
     },
     "metadata": {},
     "output_type": "display_data"
    },
    {
     "name": "stderr",
     "output_type": "stream",
     "text": [
      "07/02/2024 17:17:04 - INFO - \t ***** Running Inference on 1 texts *****\n"
     ]
    },
    {
     "data": {
      "application/vnd.jupyter.widget-view+json": {
       "model_id": "9c1e7b20c82f485092c3fcada64a9592",
       "version_major": 2,
       "version_minor": 0
      },
      "text/plain": [
       "Inference:   0%|          | 0/1 [00:00<?, ?it/s]"
      ]
     },
     "metadata": {},
     "output_type": "display_data"
    },
    {
     "name": "stdout",
     "output_type": "stream",
     "text": [
      "The number of pairs is: 47\n",
      "\n",
      "Query for Carter Henry Harrison Sr: Carter Henry Harrison Sr. (February 15, 1825 October 28, 1893) was an American politician who served as Mayor of Chicago, Illinois from 1879 until 1887 Carter Henry Harrison Sr. (February 15, 1825 October 28, 1893) was subsequently elected to a fifth term in 1893 but was assassinated before completing a fifth term . didn't work: An unknown error occured: \"Search request is longer than the maximum allowed length. (Actual: 343; allowed: 300)\". Please report it on GitHub!\n",
      "Query for Carter Henry Harrison II: Born near Lexington, Kentucky to Carter Henry Harrison II and Caroline Russell, Carter Henry Harrison Sr. (February 15, 1825 October 28, 1893) was only a few months old when Carter Henry Harrison II died. didn't work: Page id \"martin can burden\" does not match any pages. Try another id!\n",
      "Query for E. Stearns: Margarette (or Margaret) E. Stearns was the daughter of Chicago, Illinois pioneer Marcus C. Stearns. didn't work: Page id \"carter harrison jr\" does not match any pages. Try another id!\n",
      "Query for February: Following graduation , Carter Henry Harrison Sr. (February 15, 1825 October 28, 1893) traveled and studied in Europe from 1851 to 1853 before entering Transylvania College in Lexington, Kentucky , where Carter Henry Harrison Sr. didn't work: Page id \"carter harrison jr\" does not match any pages. Try another id!\n"
     ]
    },
    {
     "name": "stderr",
     "output_type": "stream",
     "text": [
      "07/02/2024 17:17:14 - INFO - \t Tokenize 1 inputs...\n"
     ]
    },
    {
     "data": {
      "application/vnd.jupyter.widget-view+json": {
       "model_id": "c41783a69a9f4300b6e905a1c54b9b02",
       "version_major": 2,
       "version_minor": 0
      },
      "text/plain": [
       "Map:   0%|          | 0/1 [00:00<?, ? examples/s]"
      ]
     },
     "metadata": {},
     "output_type": "display_data"
    },
    {
     "name": "stderr",
     "output_type": "stream",
     "text": [
      "07/02/2024 17:17:14 - INFO - \t ***** Running Inference on 1 texts *****\n"
     ]
    },
    {
     "data": {
      "application/vnd.jupyter.widget-view+json": {
       "model_id": "22d727589a7d4f67abdf7a5df2dedfd6",
       "version_major": 2,
       "version_minor": 0
      },
      "text/plain": [
       "Inference:   0%|          | 0/1 [00:00<?, ?it/s]"
      ]
     },
     "metadata": {},
     "output_type": "display_data"
    },
    {
     "name": "stdout",
     "output_type": "stream",
     "text": [
      "The number of pairs is: 17\n",
      "\n",
      "Query for Winnebago Deal: Winnebago Deal is an American indie rock band from Brooklyn, New York. didn't work: Page id \"2022 deaths in the united states\" does not match any pages. Try another id!\n"
     ]
    },
    {
     "name": "stderr",
     "output_type": "stream",
     "text": [
      "07/02/2024 17:17:21 - INFO - \t Tokenize 1 inputs...\n"
     ]
    },
    {
     "data": {
      "application/vnd.jupyter.widget-view+json": {
       "model_id": "113ffed035dd4a2096def7e92fb80e3c",
       "version_major": 2,
       "version_minor": 0
      },
      "text/plain": [
       "Map:   0%|          | 0/1 [00:00<?, ? examples/s]"
      ]
     },
     "metadata": {},
     "output_type": "display_data"
    },
    {
     "name": "stderr",
     "output_type": "stream",
     "text": [
      "07/02/2024 17:17:21 - INFO - \t ***** Running Inference on 1 texts *****\n"
     ]
    },
    {
     "data": {
      "application/vnd.jupyter.widget-view+json": {
       "model_id": "6d86d02d68ab4ca697966f41c5d5562d",
       "version_major": 2,
       "version_minor": 0
      },
      "text/plain": [
       "Inference:   0%|          | 0/1 [00:00<?, ?it/s]"
      ]
     },
     "metadata": {},
     "output_type": "display_data"
    },
    {
     "name": "stdout",
     "output_type": "stream",
     "text": [
      "The number of pairs is: 81\n",
      "\n",
      "Query for length album: their second full-length album \"Flight of the Raven\" features guest appearances from other artists including Nick Oliveri, former Queens of the Stone Age bassist-vocalist , Jack Endino, producer of the first Nirvana album \"Bleach\" , Paul Morrill and Edward \"Raven\" Heaton from the band Sicarios, and Rusty Needles of Oxford band Deguello, and was cited as the sixth best album in 2006 by \"Kerrang \". didn't work: An unknown error occured: \"Search request is longer than the maximum allowed length. (Actual: 413; allowed: 300)\". Please report it on GitHub!\n",
      "The ground truth scores are: 0.3138888888888889\n",
      "\n"
     ]
    },
    {
     "name": "stderr",
     "output_type": "stream",
     "text": [
      "07/02/2024 17:17:46 - INFO - \t Tokenize 1 inputs...\n"
     ]
    },
    {
     "data": {
      "application/vnd.jupyter.widget-view+json": {
       "model_id": "01ee7bd6f9194810a583a75ac1e69e1f",
       "version_major": 2,
       "version_minor": 0
      },
      "text/plain": [
       "Map:   0%|          | 0/1 [00:00<?, ? examples/s]"
      ]
     },
     "metadata": {},
     "output_type": "display_data"
    },
    {
     "name": "stderr",
     "output_type": "stream",
     "text": [
      "07/02/2024 17:17:46 - INFO - \t ***** Running Inference on 1 texts *****\n"
     ]
    },
    {
     "data": {
      "application/vnd.jupyter.widget-view+json": {
       "model_id": "d5e5c44166bc467cbef41480ac9fc524",
       "version_major": 2,
       "version_minor": 0
      },
      "text/plain": [
       "Inference:   0%|          | 0/1 [00:00<?, ?it/s]"
      ]
     },
     "metadata": {},
     "output_type": "display_data"
    },
    {
     "name": "stdout",
     "output_type": "stream",
     "text": [
      "The number of pairs is: 39\n",
      "\n"
     ]
    },
    {
     "name": "stderr",
     "output_type": "stream",
     "text": [
      "07/02/2024 17:17:56 - INFO - \t Tokenize 1 inputs...\n"
     ]
    },
    {
     "data": {
      "application/vnd.jupyter.widget-view+json": {
       "model_id": "1e8779a8add5431cba1f62e087cee2f0",
       "version_major": 2,
       "version_minor": 0
      },
      "text/plain": [
       "Map:   0%|          | 0/1 [00:00<?, ? examples/s]"
      ]
     },
     "metadata": {},
     "output_type": "display_data"
    },
    {
     "name": "stderr",
     "output_type": "stream",
     "text": [
      "07/02/2024 17:17:56 - INFO - \t ***** Running Inference on 1 texts *****\n"
     ]
    },
    {
     "data": {
      "application/vnd.jupyter.widget-view+json": {
       "model_id": "50d23bbe319b4fb2a846d70a0af8d318",
       "version_major": 2,
       "version_minor": 0
      },
      "text/plain": [
       "Inference:   0%|          | 0/1 [00:00<?, ?it/s]"
      ]
     },
     "metadata": {},
     "output_type": "display_data"
    },
    {
     "name": "stdout",
     "output_type": "stream",
     "text": [
      "The number of pairs is: 45\n",
      "\n",
      "The ground truth scores are: 0.17052154195011338\n",
      "\n"
     ]
    },
    {
     "name": "stderr",
     "output_type": "stream",
     "text": [
      "07/02/2024 17:18:12 - INFO - \t Tokenize 1 inputs...\n"
     ]
    },
    {
     "data": {
      "application/vnd.jupyter.widget-view+json": {
       "model_id": "5e15709443be44dc8b15fe2c18d2b710",
       "version_major": 2,
       "version_minor": 0
      },
      "text/plain": [
       "Map:   0%|          | 0/1 [00:00<?, ? examples/s]"
      ]
     },
     "metadata": {},
     "output_type": "display_data"
    },
    {
     "name": "stderr",
     "output_type": "stream",
     "text": [
      "07/02/2024 17:18:12 - INFO - \t ***** Running Inference on 1 texts *****\n"
     ]
    },
    {
     "data": {
      "application/vnd.jupyter.widget-view+json": {
       "model_id": "ae7cb7da3db84d1ba98d4297aa095474",
       "version_major": 2,
       "version_minor": 0
      },
      "text/plain": [
       "Inference:   0%|          | 0/1 [00:00<?, ?it/s]"
      ]
     },
     "metadata": {},
     "output_type": "display_data"
    },
    {
     "name": "stdout",
     "output_type": "stream",
     "text": [
      "The number of pairs is: 11\n",
      "\n"
     ]
    },
    {
     "name": "stderr",
     "output_type": "stream",
     "text": [
      "07/02/2024 17:18:20 - INFO - \t Tokenize 1 inputs...\n"
     ]
    },
    {
     "data": {
      "application/vnd.jupyter.widget-view+json": {
       "model_id": "03a14cefdfa4426e94f183713222aac2",
       "version_major": 2,
       "version_minor": 0
      },
      "text/plain": [
       "Map:   0%|          | 0/1 [00:00<?, ? examples/s]"
      ]
     },
     "metadata": {},
     "output_type": "display_data"
    },
    {
     "name": "stderr",
     "output_type": "stream",
     "text": [
      "07/02/2024 17:18:20 - INFO - \t ***** Running Inference on 1 texts *****\n"
     ]
    },
    {
     "data": {
      "application/vnd.jupyter.widget-view+json": {
       "model_id": "aa1b484b6cff4440ae6d74aedae755bb",
       "version_major": 2,
       "version_minor": 0
      },
      "text/plain": [
       "Inference:   0%|          | 0/1 [00:00<?, ?it/s]"
      ]
     },
     "metadata": {},
     "output_type": "display_data"
    },
    {
     "name": "stdout",
     "output_type": "stream",
     "text": [
      "The number of pairs is: 63\n",
      "\n",
      "The ground truth scores are: 0.5366402116402116\n",
      "\n"
     ]
    },
    {
     "name": "stderr",
     "output_type": "stream",
     "text": [
      "07/02/2024 17:18:32 - INFO - \t Tokenize 1 inputs...\n"
     ]
    },
    {
     "data": {
      "application/vnd.jupyter.widget-view+json": {
       "model_id": "61744478e3674ab4bad6eeb177917e20",
       "version_major": 2,
       "version_minor": 0
      },
      "text/plain": [
       "Map:   0%|          | 0/1 [00:00<?, ? examples/s]"
      ]
     },
     "metadata": {},
     "output_type": "display_data"
    },
    {
     "name": "stderr",
     "output_type": "stream",
     "text": [
      "07/02/2024 17:18:32 - INFO - \t ***** Running Inference on 1 texts *****\n"
     ]
    },
    {
     "data": {
      "application/vnd.jupyter.widget-view+json": {
       "model_id": "9311b37a0b924a8cbd3a57164ffeea48",
       "version_major": 2,
       "version_minor": 0
      },
      "text/plain": [
       "Inference:   0%|          | 0/1 [00:00<?, ?it/s]"
      ]
     },
     "metadata": {},
     "output_type": "display_data"
    },
    {
     "name": "stdout",
     "output_type": "stream",
     "text": [
      "The number of pairs is: 16\n",
      "\n"
     ]
    },
    {
     "name": "stderr",
     "output_type": "stream",
     "text": [
      "07/02/2024 17:18:36 - INFO - \t Tokenize 1 inputs...\n"
     ]
    },
    {
     "data": {
      "application/vnd.jupyter.widget-view+json": {
       "model_id": "5766e05798e246da96a92f8e30e0a33a",
       "version_major": 2,
       "version_minor": 0
      },
      "text/plain": [
       "Map:   0%|          | 0/1 [00:00<?, ? examples/s]"
      ]
     },
     "metadata": {},
     "output_type": "display_data"
    },
    {
     "name": "stderr",
     "output_type": "stream",
     "text": [
      "07/02/2024 17:18:36 - INFO - \t ***** Running Inference on 1 texts *****\n"
     ]
    },
    {
     "data": {
      "application/vnd.jupyter.widget-view+json": {
       "model_id": "ac30b60d452b42c8807ab1036ad7b4ab",
       "version_major": 2,
       "version_minor": 0
      },
      "text/plain": [
       "Inference:   0%|          | 0/1 [00:00<?, ?it/s]"
      ]
     },
     "metadata": {},
     "output_type": "display_data"
    },
    {
     "name": "stdout",
     "output_type": "stream",
     "text": [
      "The number of pairs is: 14\n",
      "\n",
      "The ground truth scores are: 0.09999999999999999\n",
      "\n"
     ]
    },
    {
     "name": "stderr",
     "output_type": "stream",
     "text": [
      "07/02/2024 17:18:44 - INFO - \t Tokenize 1 inputs...\n"
     ]
    },
    {
     "data": {
      "application/vnd.jupyter.widget-view+json": {
       "model_id": "2ab754722bf04595b6fa4ac350abe8ea",
       "version_major": 2,
       "version_minor": 0
      },
      "text/plain": [
       "Map:   0%|          | 0/1 [00:00<?, ? examples/s]"
      ]
     },
     "metadata": {},
     "output_type": "display_data"
    },
    {
     "name": "stderr",
     "output_type": "stream",
     "text": [
      "07/02/2024 17:18:44 - INFO - \t ***** Running Inference on 1 texts *****\n"
     ]
    },
    {
     "data": {
      "application/vnd.jupyter.widget-view+json": {
       "model_id": "3a990c4e980e4bc9a0b99509cd49dd97",
       "version_major": 2,
       "version_minor": 0
      },
      "text/plain": [
       "Inference:   0%|          | 0/1 [00:00<?, ?it/s]"
      ]
     },
     "metadata": {},
     "output_type": "display_data"
    },
    {
     "name": "stdout",
     "output_type": "stream",
     "text": [
      "The number of pairs is: 14\n",
      "\n"
     ]
    },
    {
     "name": "stderr",
     "output_type": "stream",
     "text": [
      "07/02/2024 17:18:54 - INFO - \t Tokenize 1 inputs...\n"
     ]
    },
    {
     "data": {
      "application/vnd.jupyter.widget-view+json": {
       "model_id": "b5de73b3e8974bacb9284837ab721aac",
       "version_major": 2,
       "version_minor": 0
      },
      "text/plain": [
       "Map:   0%|          | 0/1 [00:00<?, ? examples/s]"
      ]
     },
     "metadata": {},
     "output_type": "display_data"
    },
    {
     "name": "stderr",
     "output_type": "stream",
     "text": [
      "07/02/2024 17:18:54 - INFO - \t ***** Running Inference on 1 texts *****\n"
     ]
    },
    {
     "data": {
      "application/vnd.jupyter.widget-view+json": {
       "model_id": "54ae21150b70481495c1259213dec768",
       "version_major": 2,
       "version_minor": 0
      },
      "text/plain": [
       "Inference:   0%|          | 0/1 [00:00<?, ?it/s]"
      ]
     },
     "metadata": {},
     "output_type": "display_data"
    },
    {
     "name": "stdout",
     "output_type": "stream",
     "text": [
      "The number of pairs is: 20\n",
      "\n"
     ]
    },
    {
     "name": "stderr",
     "output_type": "stream",
     "text": [
      "07/02/2024 17:19:07 - INFO - \t Tokenize 1 inputs...\n"
     ]
    },
    {
     "data": {
      "application/vnd.jupyter.widget-view+json": {
       "model_id": "a8cf18f0536d4a88a2eb74410006423d",
       "version_major": 2,
       "version_minor": 0
      },
      "text/plain": [
       "Map:   0%|          | 0/1 [00:00<?, ? examples/s]"
      ]
     },
     "metadata": {},
     "output_type": "display_data"
    },
    {
     "name": "stderr",
     "output_type": "stream",
     "text": [
      "07/02/2024 17:19:07 - INFO - \t ***** Running Inference on 1 texts *****\n"
     ]
    },
    {
     "data": {
      "application/vnd.jupyter.widget-view+json": {
       "model_id": "871bb0100c904ed7892793aa966aa399",
       "version_major": 2,
       "version_minor": 0
      },
      "text/plain": [
       "Inference:   0%|          | 0/1 [00:00<?, ?it/s]"
      ]
     },
     "metadata": {},
     "output_type": "display_data"
    },
    {
     "name": "stdout",
     "output_type": "stream",
     "text": [
      "The number of pairs is: 14\n",
      "\n"
     ]
    },
    {
     "name": "stderr",
     "output_type": "stream",
     "text": [
      "07/02/2024 17:19:16 - INFO - \t Tokenize 1 inputs...\n"
     ]
    },
    {
     "data": {
      "application/vnd.jupyter.widget-view+json": {
       "model_id": "c0bdb7555310484f983623236d3ef648",
       "version_major": 2,
       "version_minor": 0
      },
      "text/plain": [
       "Map:   0%|          | 0/1 [00:00<?, ? examples/s]"
      ]
     },
     "metadata": {},
     "output_type": "display_data"
    },
    {
     "name": "stderr",
     "output_type": "stream",
     "text": [
      "07/02/2024 17:19:16 - INFO - \t ***** Running Inference on 1 texts *****\n"
     ]
    },
    {
     "data": {
      "application/vnd.jupyter.widget-view+json": {
       "model_id": "afbfaa51dbe0471d8850e546e6e1d7f1",
       "version_major": 2,
       "version_minor": 0
      },
      "text/plain": [
       "Inference:   0%|          | 0/1 [00:00<?, ?it/s]"
      ]
     },
     "metadata": {},
     "output_type": "display_data"
    },
    {
     "name": "stdout",
     "output_type": "stream",
     "text": [
      "The number of pairs is: 15\n",
      "\n",
      "The ground truth scores are: 0.25\n",
      "\n"
     ]
    },
    {
     "name": "stderr",
     "output_type": "stream",
     "text": [
      "07/02/2024 17:19:25 - INFO - \t Tokenize 1 inputs...\n"
     ]
    },
    {
     "data": {
      "application/vnd.jupyter.widget-view+json": {
       "model_id": "98e9f9e8e83f46449db0c41d84418a85",
       "version_major": 2,
       "version_minor": 0
      },
      "text/plain": [
       "Map:   0%|          | 0/1 [00:00<?, ? examples/s]"
      ]
     },
     "metadata": {},
     "output_type": "display_data"
    },
    {
     "name": "stderr",
     "output_type": "stream",
     "text": [
      "07/02/2024 17:19:25 - INFO - \t ***** Running Inference on 1 texts *****\n"
     ]
    },
    {
     "data": {
      "application/vnd.jupyter.widget-view+json": {
       "model_id": "9689304ffea544ae974a7332244b7fbe",
       "version_major": 2,
       "version_minor": 0
      },
      "text/plain": [
       "Inference:   0%|          | 0/1 [00:00<?, ?it/s]"
      ]
     },
     "metadata": {},
     "output_type": "display_data"
    },
    {
     "name": "stdout",
     "output_type": "stream",
     "text": [
      "The number of pairs is: 14\n",
      "\n"
     ]
    },
    {
     "name": "stderr",
     "output_type": "stream",
     "text": [
      "07/02/2024 17:19:33 - INFO - \t Tokenize 1 inputs...\n"
     ]
    },
    {
     "data": {
      "application/vnd.jupyter.widget-view+json": {
       "model_id": "cae99a0a229747468e1c863d9c83c1b8",
       "version_major": 2,
       "version_minor": 0
      },
      "text/plain": [
       "Map:   0%|          | 0/1 [00:00<?, ? examples/s]"
      ]
     },
     "metadata": {},
     "output_type": "display_data"
    },
    {
     "name": "stderr",
     "output_type": "stream",
     "text": [
      "07/02/2024 17:19:34 - INFO - \t ***** Running Inference on 1 texts *****\n"
     ]
    },
    {
     "data": {
      "application/vnd.jupyter.widget-view+json": {
       "model_id": "71f1ea2eebda4f8cb441cfb72935b1ba",
       "version_major": 2,
       "version_minor": 0
      },
      "text/plain": [
       "Inference:   0%|          | 0/1 [00:00<?, ?it/s]"
      ]
     },
     "metadata": {},
     "output_type": "display_data"
    },
    {
     "name": "stdout",
     "output_type": "stream",
     "text": [
      "The number of pairs is: 28\n",
      "\n",
      "The ground truth scores are: 0.41309523809523807\n",
      "\n"
     ]
    },
    {
     "name": "stderr",
     "output_type": "stream",
     "text": [
      "07/02/2024 17:19:43 - INFO - \t Tokenize 1 inputs...\n"
     ]
    },
    {
     "data": {
      "application/vnd.jupyter.widget-view+json": {
       "model_id": "0f1e35c437c14f8bbec37655f3b892b6",
       "version_major": 2,
       "version_minor": 0
      },
      "text/plain": [
       "Map:   0%|          | 0/1 [00:00<?, ? examples/s]"
      ]
     },
     "metadata": {},
     "output_type": "display_data"
    },
    {
     "name": "stderr",
     "output_type": "stream",
     "text": [
      "07/02/2024 17:19:43 - INFO - \t ***** Running Inference on 1 texts *****\n"
     ]
    },
    {
     "data": {
      "application/vnd.jupyter.widget-view+json": {
       "model_id": "b740e1b8087d475da547d7e9f51d0b2b",
       "version_major": 2,
       "version_minor": 0
      },
      "text/plain": [
       "Inference:   0%|          | 0/1 [00:00<?, ?it/s]"
      ]
     },
     "metadata": {},
     "output_type": "display_data"
    },
    {
     "name": "stdout",
     "output_type": "stream",
     "text": [
      "The number of pairs is: 22\n",
      "\n"
     ]
    },
    {
     "name": "stderr",
     "output_type": "stream",
     "text": [
      "07/02/2024 17:19:48 - INFO - \t Tokenize 1 inputs...\n"
     ]
    },
    {
     "data": {
      "application/vnd.jupyter.widget-view+json": {
       "model_id": "37ec88c0dd4c41e3a2997f80a65c314d",
       "version_major": 2,
       "version_minor": 0
      },
      "text/plain": [
       "Map:   0%|          | 0/1 [00:00<?, ? examples/s]"
      ]
     },
     "metadata": {},
     "output_type": "display_data"
    },
    {
     "name": "stderr",
     "output_type": "stream",
     "text": [
      "07/02/2024 17:19:48 - INFO - \t ***** Running Inference on 1 texts *****\n"
     ]
    },
    {
     "data": {
      "application/vnd.jupyter.widget-view+json": {
       "model_id": "a66b93ccc1204b839c3bf5f6dca0f278",
       "version_major": 2,
       "version_minor": 0
      },
      "text/plain": [
       "Inference:   0%|          | 0/1 [00:00<?, ?it/s]"
      ]
     },
     "metadata": {},
     "output_type": "display_data"
    },
    {
     "name": "stdout",
     "output_type": "stream",
     "text": [
      "The number of pairs is: 28\n",
      "\n",
      "The ground truth scores are: 0.7766666666666666\n",
      "\n"
     ]
    },
    {
     "name": "stderr",
     "output_type": "stream",
     "text": [
      "07/02/2024 17:19:56 - INFO - \t Tokenize 1 inputs...\n"
     ]
    },
    {
     "data": {
      "application/vnd.jupyter.widget-view+json": {
       "model_id": "72b7108897314b6bbc85d6b213966517",
       "version_major": 2,
       "version_minor": 0
      },
      "text/plain": [
       "Map:   0%|          | 0/1 [00:00<?, ? examples/s]"
      ]
     },
     "metadata": {},
     "output_type": "display_data"
    },
    {
     "name": "stderr",
     "output_type": "stream",
     "text": [
      "07/02/2024 17:19:57 - INFO - \t ***** Running Inference on 1 texts *****\n"
     ]
    },
    {
     "data": {
      "application/vnd.jupyter.widget-view+json": {
       "model_id": "934c234987a34115b50fe1a5df616f93",
       "version_major": 2,
       "version_minor": 0
      },
      "text/plain": [
       "Inference:   0%|          | 0/1 [00:00<?, ?it/s]"
      ]
     },
     "metadata": {},
     "output_type": "display_data"
    },
    {
     "name": "stdout",
     "output_type": "stream",
     "text": [
      "The number of pairs is: 13\n",
      "\n",
      "Query for Terry Alderman: Terry Alderman (born 28 April 1952) is a former Australian cricketer who played in 41 Tests and 53 One Day Internationals between 1979 and 1991 . didn't work: Page id \"rodney hood\" does not match any pages. Try another id!\n"
     ]
    },
    {
     "name": "stderr",
     "output_type": "stream",
     "text": [
      "07/02/2024 17:20:03 - INFO - \t Tokenize 1 inputs...\n"
     ]
    },
    {
     "data": {
      "application/vnd.jupyter.widget-view+json": {
       "model_id": "5a8ef5e4f92d4ebe934a6c65ea75762a",
       "version_major": 2,
       "version_minor": 0
      },
      "text/plain": [
       "Map:   0%|          | 0/1 [00:00<?, ? examples/s]"
      ]
     },
     "metadata": {},
     "output_type": "display_data"
    },
    {
     "name": "stderr",
     "output_type": "stream",
     "text": [
      "07/02/2024 17:20:04 - INFO - \t ***** Running Inference on 1 texts *****\n"
     ]
    },
    {
     "data": {
      "application/vnd.jupyter.widget-view+json": {
       "model_id": "d6e47f51c959465d82fe58e6cfbd3595",
       "version_major": 2,
       "version_minor": 0
      },
      "text/plain": [
       "Inference:   0%|          | 0/1 [00:00<?, ?it/s]"
      ]
     },
     "metadata": {},
     "output_type": "display_data"
    },
    {
     "name": "stdout",
     "output_type": "stream",
     "text": [
      "The number of pairs is: 87\n",
      "\n",
      "Query for which: Following a 3-year ban from international cricket which disqualified him from playing in the 1985 Ashes series in England , Terence Michael Alderman returned to the Australian national team and resumed Terence Michael Alderman success against England , taking 41 wickets in the 1989 Ashes series and another 16 in the 1990 91 series, Terence Michael Alderman final Ashes appearance. didn't work: An unknown error occured: \"Search request is longer than the maximum allowed length. (Actual: 389; allowed: 300)\". Please report it on GitHub!\n",
      "The ground truth scores are: 0.35\n",
      "\n"
     ]
    },
    {
     "name": "stderr",
     "output_type": "stream",
     "text": [
      "07/02/2024 17:20:16 - INFO - \t Tokenize 1 inputs...\n"
     ]
    },
    {
     "data": {
      "application/vnd.jupyter.widget-view+json": {
       "model_id": "a2949bbf401f45c3889798a968d46212",
       "version_major": 2,
       "version_minor": 0
      },
      "text/plain": [
       "Map:   0%|          | 0/1 [00:00<?, ? examples/s]"
      ]
     },
     "metadata": {},
     "output_type": "display_data"
    },
    {
     "name": "stderr",
     "output_type": "stream",
     "text": [
      "07/02/2024 17:20:16 - INFO - \t ***** Running Inference on 1 texts *****\n"
     ]
    },
    {
     "data": {
      "application/vnd.jupyter.widget-view+json": {
       "model_id": "750408fb64ff49c9b6efb5f09ef8ef1e",
       "version_major": 2,
       "version_minor": 0
      },
      "text/plain": [
       "Inference:   0%|          | 0/1 [00:00<?, ?it/s]"
      ]
     },
     "metadata": {},
     "output_type": "display_data"
    },
    {
     "name": "stdout",
     "output_type": "stream",
     "text": [
      "The number of pairs is: 27\n",
      "\n"
     ]
    },
    {
     "name": "stderr",
     "output_type": "stream",
     "text": [
      "07/02/2024 17:20:28 - INFO - \t Tokenize 1 inputs...\n"
     ]
    },
    {
     "data": {
      "application/vnd.jupyter.widget-view+json": {
       "model_id": "c326a6b9b15e449db2ddcfccf35f583a",
       "version_major": 2,
       "version_minor": 0
      },
      "text/plain": [
       "Map:   0%|          | 0/1 [00:00<?, ? examples/s]"
      ]
     },
     "metadata": {},
     "output_type": "display_data"
    },
    {
     "name": "stderr",
     "output_type": "stream",
     "text": [
      "07/02/2024 17:20:28 - INFO - \t ***** Running Inference on 1 texts *****\n"
     ]
    },
    {
     "data": {
      "application/vnd.jupyter.widget-view+json": {
       "model_id": "2d81d5559f3a4ad2abe88c48c8968e83",
       "version_major": 2,
       "version_minor": 0
      },
      "text/plain": [
       "Inference:   0%|          | 0/1 [00:00<?, ?it/s]"
      ]
     },
     "metadata": {},
     "output_type": "display_data"
    },
    {
     "name": "stdout",
     "output_type": "stream",
     "text": [
      "The number of pairs is: 31\n",
      "\n",
      "The ground truth scores are: 0.15740740740740738\n",
      "\n"
     ]
    },
    {
     "name": "stderr",
     "output_type": "stream",
     "text": [
      "07/02/2024 17:20:36 - INFO - \t Tokenize 1 inputs...\n"
     ]
    },
    {
     "data": {
      "application/vnd.jupyter.widget-view+json": {
       "model_id": "4a0abfccde3841199f6bdaa3e1bb4c6d",
       "version_major": 2,
       "version_minor": 0
      },
      "text/plain": [
       "Map:   0%|          | 0/1 [00:00<?, ? examples/s]"
      ]
     },
     "metadata": {},
     "output_type": "display_data"
    },
    {
     "name": "stderr",
     "output_type": "stream",
     "text": [
      "07/02/2024 17:20:36 - INFO - \t ***** Running Inference on 1 texts *****\n"
     ]
    },
    {
     "data": {
      "application/vnd.jupyter.widget-view+json": {
       "model_id": "1c6a4e70cefe4294b6b8d2c389d78924",
       "version_major": 2,
       "version_minor": 0
      },
      "text/plain": [
       "Inference:   0%|          | 0/1 [00:00<?, ?it/s]"
      ]
     },
     "metadata": {},
     "output_type": "display_data"
    },
    {
     "name": "stdout",
     "output_type": "stream",
     "text": [
      "The number of pairs is: 14\n",
      "\n"
     ]
    },
    {
     "name": "stderr",
     "output_type": "stream",
     "text": [
      "07/02/2024 17:20:45 - INFO - \t Tokenize 1 inputs...\n"
     ]
    },
    {
     "data": {
      "application/vnd.jupyter.widget-view+json": {
       "model_id": "e2fbc98682114a5393cd7778d874ab77",
       "version_major": 2,
       "version_minor": 0
      },
      "text/plain": [
       "Map:   0%|          | 0/1 [00:00<?, ? examples/s]"
      ]
     },
     "metadata": {},
     "output_type": "display_data"
    },
    {
     "name": "stderr",
     "output_type": "stream",
     "text": [
      "07/02/2024 17:20:45 - INFO - \t ***** Running Inference on 1 texts *****\n"
     ]
    },
    {
     "data": {
      "application/vnd.jupyter.widget-view+json": {
       "model_id": "29437d1dd99343dd8ef653a2fb6103ca",
       "version_major": 2,
       "version_minor": 0
      },
      "text/plain": [
       "Inference:   0%|          | 0/1 [00:00<?, ?it/s]"
      ]
     },
     "metadata": {},
     "output_type": "display_data"
    },
    {
     "name": "stdout",
     "output_type": "stream",
     "text": [
      "The number of pairs is: 42\n",
      "\n",
      "The ground truth scores are: 0.20284090909090907\n",
      "\n"
     ]
    },
    {
     "name": "stderr",
     "output_type": "stream",
     "text": [
      "07/02/2024 17:20:55 - INFO - \t Tokenize 1 inputs...\n"
     ]
    },
    {
     "data": {
      "application/vnd.jupyter.widget-view+json": {
       "model_id": "ef9b78a9ecea4ef289017f08fb2e7fc8",
       "version_major": 2,
       "version_minor": 0
      },
      "text/plain": [
       "Map:   0%|          | 0/1 [00:00<?, ? examples/s]"
      ]
     },
     "metadata": {},
     "output_type": "display_data"
    },
    {
     "name": "stderr",
     "output_type": "stream",
     "text": [
      "07/02/2024 17:20:55 - INFO - \t ***** Running Inference on 1 texts *****\n"
     ]
    },
    {
     "data": {
      "application/vnd.jupyter.widget-view+json": {
       "model_id": "833b0689371c45ea8d7ca87387161738",
       "version_major": 2,
       "version_minor": 0
      },
      "text/plain": [
       "Inference:   0%|          | 0/1 [00:00<?, ?it/s]"
      ]
     },
     "metadata": {},
     "output_type": "display_data"
    },
    {
     "name": "stdout",
     "output_type": "stream",
     "text": [
      "The number of pairs is: 20\n",
      "\n"
     ]
    },
    {
     "name": "stderr",
     "output_type": "stream",
     "text": [
      "07/02/2024 17:21:10 - INFO - \t Tokenize 1 inputs...\n"
     ]
    },
    {
     "data": {
      "application/vnd.jupyter.widget-view+json": {
       "model_id": "b2bda5651a674559a7e4493a39d6631a",
       "version_major": 2,
       "version_minor": 0
      },
      "text/plain": [
       "Map:   0%|          | 0/1 [00:00<?, ? examples/s]"
      ]
     },
     "metadata": {},
     "output_type": "display_data"
    },
    {
     "name": "stderr",
     "output_type": "stream",
     "text": [
      "07/02/2024 17:21:10 - INFO - \t ***** Running Inference on 1 texts *****\n"
     ]
    },
    {
     "data": {
      "application/vnd.jupyter.widget-view+json": {
       "model_id": "8cd448e8a7724da49ea10c318705dbd8",
       "version_major": 2,
       "version_minor": 0
      },
      "text/plain": [
       "Inference:   0%|          | 0/1 [00:00<?, ?it/s]"
      ]
     },
     "metadata": {},
     "output_type": "display_data"
    },
    {
     "name": "stdout",
     "output_type": "stream",
     "text": [
      "The number of pairs is: 36\n",
      "\n",
      "The ground truth scores are: 0.6666666666666666\n",
      "\n"
     ]
    },
    {
     "name": "stderr",
     "output_type": "stream",
     "text": [
      "07/02/2024 17:21:18 - INFO - \t Tokenize 1 inputs...\n"
     ]
    },
    {
     "data": {
      "application/vnd.jupyter.widget-view+json": {
       "model_id": "888808ff9f5740639e6146453a341ec1",
       "version_major": 2,
       "version_minor": 0
      },
      "text/plain": [
       "Map:   0%|          | 0/1 [00:00<?, ? examples/s]"
      ]
     },
     "metadata": {},
     "output_type": "display_data"
    },
    {
     "name": "stderr",
     "output_type": "stream",
     "text": [
      "07/02/2024 17:21:19 - INFO - \t ***** Running Inference on 1 texts *****\n"
     ]
    },
    {
     "data": {
      "application/vnd.jupyter.widget-view+json": {
       "model_id": "bdb3e36f7f3e436da79d31802f7c75c4",
       "version_major": 2,
       "version_minor": 0
      },
      "text/plain": [
       "Inference:   0%|          | 0/1 [00:00<?, ?it/s]"
      ]
     },
     "metadata": {},
     "output_type": "display_data"
    },
    {
     "name": "stdout",
     "output_type": "stream",
     "text": [
      "The number of pairs is: 53\n",
      "\n"
     ]
    },
    {
     "name": "stderr",
     "output_type": "stream",
     "text": [
      "07/02/2024 17:21:32 - INFO - \t Tokenize 1 inputs...\n"
     ]
    },
    {
     "data": {
      "application/vnd.jupyter.widget-view+json": {
       "model_id": "4b9cce6fabc14b94aee475a8a7192b26",
       "version_major": 2,
       "version_minor": 0
      },
      "text/plain": [
       "Map:   0%|          | 0/1 [00:00<?, ? examples/s]"
      ]
     },
     "metadata": {},
     "output_type": "display_data"
    },
    {
     "name": "stderr",
     "output_type": "stream",
     "text": [
      "07/02/2024 17:21:32 - INFO - \t ***** Running Inference on 1 texts *****\n"
     ]
    },
    {
     "data": {
      "application/vnd.jupyter.widget-view+json": {
       "model_id": "35633e374fa94ec78b6154c1ba2d3ce7",
       "version_major": 2,
       "version_minor": 0
      },
      "text/plain": [
       "Inference:   0%|          | 0/1 [00:00<?, ?it/s]"
      ]
     },
     "metadata": {},
     "output_type": "display_data"
    },
    {
     "name": "stdout",
     "output_type": "stream",
     "text": [
      "The number of pairs is: 42\n",
      "\n",
      "The ground truth scores are: 0.4822222222222222\n",
      "\n"
     ]
    },
    {
     "name": "stderr",
     "output_type": "stream",
     "text": [
      "07/02/2024 17:21:41 - INFO - \t Tokenize 1 inputs...\n"
     ]
    },
    {
     "data": {
      "application/vnd.jupyter.widget-view+json": {
       "model_id": "072935b2b6d74bd081adfb7dca152658",
       "version_major": 2,
       "version_minor": 0
      },
      "text/plain": [
       "Map:   0%|          | 0/1 [00:00<?, ? examples/s]"
      ]
     },
     "metadata": {},
     "output_type": "display_data"
    },
    {
     "name": "stderr",
     "output_type": "stream",
     "text": [
      "07/02/2024 17:21:42 - INFO - \t ***** Running Inference on 1 texts *****\n"
     ]
    },
    {
     "data": {
      "application/vnd.jupyter.widget-view+json": {
       "model_id": "f60651eb5ad24462966502659f658763",
       "version_major": 2,
       "version_minor": 0
      },
      "text/plain": [
       "Inference:   0%|          | 0/1 [00:00<?, ?it/s]"
      ]
     },
     "metadata": {},
     "output_type": "display_data"
    },
    {
     "name": "stdout",
     "output_type": "stream",
     "text": [
      "The number of pairs is: 24\n",
      "\n"
     ]
    },
    {
     "name": "stderr",
     "output_type": "stream",
     "text": [
      "07/02/2024 17:21:46 - INFO - \t Tokenize 1 inputs...\n"
     ]
    },
    {
     "data": {
      "application/vnd.jupyter.widget-view+json": {
       "model_id": "4dd66e8daaed4078ac9397fb6988490e",
       "version_major": 2,
       "version_minor": 0
      },
      "text/plain": [
       "Map:   0%|          | 0/1 [00:00<?, ? examples/s]"
      ]
     },
     "metadata": {},
     "output_type": "display_data"
    },
    {
     "name": "stderr",
     "output_type": "stream",
     "text": [
      "07/02/2024 17:21:46 - INFO - \t ***** Running Inference on 1 texts *****\n"
     ]
    },
    {
     "data": {
      "application/vnd.jupyter.widget-view+json": {
       "model_id": "6eba4773d6ea405aa8fd9a3416fc7bf9",
       "version_major": 2,
       "version_minor": 0
      },
      "text/plain": [
       "Inference:   0%|          | 0/1 [00:00<?, ?it/s]"
      ]
     },
     "metadata": {},
     "output_type": "display_data"
    },
    {
     "name": "stdout",
     "output_type": "stream",
     "text": [
      "The number of pairs is: 16\n",
      "\n",
      "The ground truth scores are: 0.6166666666666667\n",
      "\n"
     ]
    },
    {
     "name": "stderr",
     "output_type": "stream",
     "text": [
      "07/02/2024 17:21:53 - INFO - \t Tokenize 1 inputs...\n"
     ]
    },
    {
     "data": {
      "application/vnd.jupyter.widget-view+json": {
       "model_id": "2823cd93b27048a0939a6d92a6b231a4",
       "version_major": 2,
       "version_minor": 0
      },
      "text/plain": [
       "Map:   0%|          | 0/1 [00:00<?, ? examples/s]"
      ]
     },
     "metadata": {},
     "output_type": "display_data"
    },
    {
     "name": "stderr",
     "output_type": "stream",
     "text": [
      "07/02/2024 17:21:54 - INFO - \t ***** Running Inference on 1 texts *****\n"
     ]
    },
    {
     "data": {
      "application/vnd.jupyter.widget-view+json": {
       "model_id": "5d2f6d469a23451080905e18043ed2c2",
       "version_major": 2,
       "version_minor": 0
      },
      "text/plain": [
       "Inference:   0%|          | 0/1 [00:00<?, ?it/s]"
      ]
     },
     "metadata": {},
     "output_type": "display_data"
    },
    {
     "name": "stdout",
     "output_type": "stream",
     "text": [
      "The number of pairs is: 26\n",
      "\n"
     ]
    },
    {
     "name": "stderr",
     "output_type": "stream",
     "text": [
      "07/02/2024 17:21:58 - INFO - \t Tokenize 1 inputs...\n"
     ]
    },
    {
     "data": {
      "application/vnd.jupyter.widget-view+json": {
       "model_id": "6c34611192ac4da584a54a69b3a1bc85",
       "version_major": 2,
       "version_minor": 0
      },
      "text/plain": [
       "Map:   0%|          | 0/1 [00:00<?, ? examples/s]"
      ]
     },
     "metadata": {},
     "output_type": "display_data"
    },
    {
     "name": "stderr",
     "output_type": "stream",
     "text": [
      "07/02/2024 17:21:58 - INFO - \t ***** Running Inference on 1 texts *****\n"
     ]
    },
    {
     "data": {
      "application/vnd.jupyter.widget-view+json": {
       "model_id": "5fa54eae62154cae8e2881f9c2fb6698",
       "version_major": 2,
       "version_minor": 0
      },
      "text/plain": [
       "Inference:   0%|          | 0/1 [00:00<?, ?it/s]"
      ]
     },
     "metadata": {},
     "output_type": "display_data"
    },
    {
     "name": "stdout",
     "output_type": "stream",
     "text": [
      "The number of pairs is: 29\n",
      "\n",
      "Query for Thomas Harriot: Thomas Harriot (Oxford, c. 1560 London, 2 July 1621 also spelled Harriott, Hariot, or Heriot) was an English astronomer, mathematician, ethnographer, and translator. didn't work: Page id \"thomas harriet\" does not match any pages. Try another id!\n"
     ]
    },
    {
     "name": "stderr",
     "output_type": "stream",
     "text": [
      "07/02/2024 17:22:05 - INFO - \t Tokenize 1 inputs...\n"
     ]
    },
    {
     "data": {
      "application/vnd.jupyter.widget-view+json": {
       "model_id": "4e3c094db1c54498bdcefb3f2e148e81",
       "version_major": 2,
       "version_minor": 0
      },
      "text/plain": [
       "Map:   0%|          | 0/1 [00:00<?, ? examples/s]"
      ]
     },
     "metadata": {},
     "output_type": "display_data"
    },
    {
     "name": "stderr",
     "output_type": "stream",
     "text": [
      "07/02/2024 17:22:06 - INFO - \t ***** Running Inference on 1 texts *****\n"
     ]
    },
    {
     "data": {
      "application/vnd.jupyter.widget-view+json": {
       "model_id": "bc187256b32842f48792fd2de1592f6a",
       "version_major": 2,
       "version_minor": 0
      },
      "text/plain": [
       "Inference:   0%|          | 0/1 [00:00<?, ?it/s]"
      ]
     },
     "metadata": {},
     "output_type": "display_data"
    },
    {
     "name": "stdout",
     "output_type": "stream",
     "text": [
      "The number of pairs is: 17\n",
      "\n"
     ]
    },
    {
     "name": "stderr",
     "output_type": "stream",
     "text": [
      "07/02/2024 17:22:24 - INFO - \t Tokenize 1 inputs...\n"
     ]
    },
    {
     "data": {
      "application/vnd.jupyter.widget-view+json": {
       "model_id": "9aec9bc481204438bb533341b78e37e2",
       "version_major": 2,
       "version_minor": 0
      },
      "text/plain": [
       "Map:   0%|          | 0/1 [00:00<?, ? examples/s]"
      ]
     },
     "metadata": {},
     "output_type": "display_data"
    },
    {
     "name": "stderr",
     "output_type": "stream",
     "text": [
      "07/02/2024 17:22:24 - INFO - \t ***** Running Inference on 1 texts *****\n"
     ]
    },
    {
     "data": {
      "application/vnd.jupyter.widget-view+json": {
       "model_id": "02fc40fde0ac420db7bf6e8d64e65dfe",
       "version_major": 2,
       "version_minor": 0
      },
      "text/plain": [
       "Inference:   0%|          | 0/1 [00:00<?, ?it/s]"
      ]
     },
     "metadata": {},
     "output_type": "display_data"
    },
    {
     "name": "stdout",
     "output_type": "stream",
     "text": [
      "The number of pairs is: 15\n",
      "\n",
      "Query for Tadeusz Szeligowski achievements: Tadeusz Szeligowski achievements include the creation of the Poznań Philharmonic , where Tadeusz Szeligowski served as the Poznań Philharmonic first director between 1947 and 1949, and the founding of the Poznań Musical Spring, one of the most important festivals of contemporary music at the time. didn't work: An unknown error occured: \"Search request is longer than the maximum allowed length. (Actual: 332; allowed: 300)\". Please report it on GitHub!\n",
      "The ground truth scores are: 0.85\n",
      "\n"
     ]
    },
    {
     "name": "stderr",
     "output_type": "stream",
     "text": [
      "07/02/2024 17:22:33 - INFO - \t Tokenize 1 inputs...\n"
     ]
    },
    {
     "data": {
      "application/vnd.jupyter.widget-view+json": {
       "model_id": "82c4f63d5e3941188ff594a567899577",
       "version_major": 2,
       "version_minor": 0
      },
      "text/plain": [
       "Map:   0%|          | 0/1 [00:00<?, ? examples/s]"
      ]
     },
     "metadata": {},
     "output_type": "display_data"
    },
    {
     "name": "stderr",
     "output_type": "stream",
     "text": [
      "07/02/2024 17:22:33 - INFO - \t ***** Running Inference on 1 texts *****\n"
     ]
    },
    {
     "data": {
      "application/vnd.jupyter.widget-view+json": {
       "model_id": "9c73cf2162fe421ca521012c1080c002",
       "version_major": 2,
       "version_minor": 0
      },
      "text/plain": [
       "Inference:   0%|          | 0/1 [00:00<?, ?it/s]"
      ]
     },
     "metadata": {},
     "output_type": "display_data"
    },
    {
     "name": "stdout",
     "output_type": "stream",
     "text": [
      "The number of pairs is: 56\n",
      "\n"
     ]
    },
    {
     "name": "stderr",
     "output_type": "stream",
     "text": [
      "07/02/2024 17:22:47 - INFO - \t Tokenize 1 inputs...\n"
     ]
    },
    {
     "data": {
      "application/vnd.jupyter.widget-view+json": {
       "model_id": "8227e9ccaccc44d7898a6e477b22f820",
       "version_major": 2,
       "version_minor": 0
      },
      "text/plain": [
       "Map:   0%|          | 0/1 [00:00<?, ? examples/s]"
      ]
     },
     "metadata": {},
     "output_type": "display_data"
    },
    {
     "name": "stderr",
     "output_type": "stream",
     "text": [
      "07/02/2024 17:22:47 - INFO - \t ***** Running Inference on 1 texts *****\n"
     ]
    },
    {
     "data": {
      "application/vnd.jupyter.widget-view+json": {
       "model_id": "6e5e37d6d76748e092c8e5ad01911891",
       "version_major": 2,
       "version_minor": 0
      },
      "text/plain": [
       "Inference:   0%|          | 0/1 [00:00<?, ?it/s]"
      ]
     },
     "metadata": {},
     "output_type": "display_data"
    },
    {
     "name": "stdout",
     "output_type": "stream",
     "text": [
      "The number of pairs is: 124\n",
      "\n",
      "The ground truth scores are: 0.7366804692891649\n",
      "\n"
     ]
    },
    {
     "name": "stderr",
     "output_type": "stream",
     "text": [
      "07/02/2024 17:23:07 - INFO - \t Tokenize 1 inputs...\n"
     ]
    },
    {
     "data": {
      "application/vnd.jupyter.widget-view+json": {
       "model_id": "c0385bcb3ee64ef9b1a6ac55f0bb98ca",
       "version_major": 2,
       "version_minor": 0
      },
      "text/plain": [
       "Map:   0%|          | 0/1 [00:00<?, ? examples/s]"
      ]
     },
     "metadata": {},
     "output_type": "display_data"
    },
    {
     "name": "stderr",
     "output_type": "stream",
     "text": [
      "07/02/2024 17:23:07 - INFO - \t ***** Running Inference on 1 texts *****\n"
     ]
    },
    {
     "data": {
      "application/vnd.jupyter.widget-view+json": {
       "model_id": "a13ff09899174d00b28eeae23830dd90",
       "version_major": 2,
       "version_minor": 0
      },
      "text/plain": [
       "Inference:   0%|          | 0/1 [00:00<?, ?it/s]"
      ]
     },
     "metadata": {},
     "output_type": "display_data"
    },
    {
     "name": "stdout",
     "output_type": "stream",
     "text": [
      "The number of pairs is: 18\n",
      "\n",
      "Query for Steven Threet: Steven Threet (born August 8, 1985) is a former American football quarterback. didn't work: Page id \"chad benne\" does not match any pages. Try another id!\n"
     ]
    },
    {
     "name": "stderr",
     "output_type": "stream",
     "text": [
      "07/02/2024 17:23:15 - INFO - \t Tokenize 1 inputs...\n"
     ]
    },
    {
     "data": {
      "application/vnd.jupyter.widget-view+json": {
       "model_id": "36330fffee50474bb01f57cf97ef569b",
       "version_major": 2,
       "version_minor": 0
      },
      "text/plain": [
       "Map:   0%|          | 0/1 [00:00<?, ? examples/s]"
      ]
     },
     "metadata": {},
     "output_type": "display_data"
    },
    {
     "name": "stderr",
     "output_type": "stream",
     "text": [
      "07/02/2024 17:23:15 - INFO - \t ***** Running Inference on 1 texts *****\n"
     ]
    },
    {
     "data": {
      "application/vnd.jupyter.widget-view+json": {
       "model_id": "b70bbcc39ebf4307aea64c0141e449db",
       "version_major": 2,
       "version_minor": 0
      },
      "text/plain": [
       "Inference:   0%|          | 0/1 [00:00<?, ?it/s]"
      ]
     },
     "metadata": {},
     "output_type": "display_data"
    },
    {
     "name": "stdout",
     "output_type": "stream",
     "text": [
      "The number of pairs is: 43\n",
      "\n",
      "Query for head coach Lloyd Carr: head coach Lloyd Carr was replaced before the 2008 season by Rich Rodriguez . didn't work: Page id \"lloyd car\" does not match any pages. Try another id!\n",
      "The ground truth scores are: 0.4772727272727273\n",
      "\n"
     ]
    },
    {
     "name": "stderr",
     "output_type": "stream",
     "text": [
      "07/02/2024 17:23:24 - INFO - \t Tokenize 1 inputs...\n"
     ]
    },
    {
     "data": {
      "application/vnd.jupyter.widget-view+json": {
       "model_id": "9adcb9d220144a9e9763519a3b554d8e",
       "version_major": 2,
       "version_minor": 0
      },
      "text/plain": [
       "Map:   0%|          | 0/1 [00:00<?, ? examples/s]"
      ]
     },
     "metadata": {},
     "output_type": "display_data"
    },
    {
     "name": "stderr",
     "output_type": "stream",
     "text": [
      "07/02/2024 17:23:25 - INFO - \t ***** Running Inference on 1 texts *****\n"
     ]
    },
    {
     "data": {
      "application/vnd.jupyter.widget-view+json": {
       "model_id": "4c647791e17145f0bc05afb4c88f2f75",
       "version_major": 2,
       "version_minor": 0
      },
      "text/plain": [
       "Inference:   0%|          | 0/1 [00:00<?, ?it/s]"
      ]
     },
     "metadata": {},
     "output_type": "display_data"
    },
    {
     "name": "stdout",
     "output_type": "stream",
     "text": [
      "The number of pairs is: 17\n",
      "\n"
     ]
    },
    {
     "name": "stderr",
     "output_type": "stream",
     "text": [
      "07/02/2024 17:23:33 - INFO - \t Tokenize 1 inputs...\n"
     ]
    },
    {
     "data": {
      "application/vnd.jupyter.widget-view+json": {
       "model_id": "f28dce8be18c4962ab2438e2afece5f5",
       "version_major": 2,
       "version_minor": 0
      },
      "text/plain": [
       "Map:   0%|          | 0/1 [00:00<?, ? examples/s]"
      ]
     },
     "metadata": {},
     "output_type": "display_data"
    },
    {
     "name": "stderr",
     "output_type": "stream",
     "text": [
      "07/02/2024 17:23:33 - INFO - \t ***** Running Inference on 1 texts *****\n"
     ]
    },
    {
     "data": {
      "application/vnd.jupyter.widget-view+json": {
       "model_id": "e3db5e90d13842f0b807e29fdb40b62f",
       "version_major": 2,
       "version_minor": 0
      },
      "text/plain": [
       "Inference:   0%|          | 0/1 [00:00<?, ?it/s]"
      ]
     },
     "metadata": {},
     "output_type": "display_data"
    },
    {
     "name": "stdout",
     "output_type": "stream",
     "text": [
      "The number of pairs is: 27\n",
      "\n",
      "The ground truth scores are: 0.6461538461538461\n",
      "\n"
     ]
    },
    {
     "name": "stderr",
     "output_type": "stream",
     "text": [
      "07/02/2024 17:23:42 - INFO - \t Tokenize 1 inputs...\n"
     ]
    },
    {
     "data": {
      "application/vnd.jupyter.widget-view+json": {
       "model_id": "e80b7a85f2734e26adeb07903281beb8",
       "version_major": 2,
       "version_minor": 0
      },
      "text/plain": [
       "Map:   0%|          | 0/1 [00:00<?, ? examples/s]"
      ]
     },
     "metadata": {},
     "output_type": "display_data"
    },
    {
     "name": "stderr",
     "output_type": "stream",
     "text": [
      "07/02/2024 17:23:43 - INFO - \t ***** Running Inference on 1 texts *****\n"
     ]
    },
    {
     "data": {
      "application/vnd.jupyter.widget-view+json": {
       "model_id": "adf13c60d469487eaa750ccef977cd91",
       "version_major": 2,
       "version_minor": 0
      },
      "text/plain": [
       "Inference:   0%|          | 0/1 [00:00<?, ?it/s]"
      ]
     },
     "metadata": {},
     "output_type": "display_data"
    },
    {
     "name": "stdout",
     "output_type": "stream",
     "text": [
      "The number of pairs is: 18\n",
      "\n"
     ]
    },
    {
     "name": "stderr",
     "output_type": "stream",
     "text": [
      "07/02/2024 17:24:24 - INFO - \t Tokenize 1 inputs...\n"
     ]
    },
    {
     "data": {
      "application/vnd.jupyter.widget-view+json": {
       "model_id": "b3eb65ae2bc94f9b84a5471d28aa50c1",
       "version_major": 2,
       "version_minor": 0
      },
      "text/plain": [
       "Map:   0%|          | 0/1 [00:00<?, ? examples/s]"
      ]
     },
     "metadata": {},
     "output_type": "display_data"
    },
    {
     "name": "stderr",
     "output_type": "stream",
     "text": [
      "07/02/2024 17:24:24 - INFO - \t ***** Running Inference on 1 texts *****\n"
     ]
    },
    {
     "data": {
      "application/vnd.jupyter.widget-view+json": {
       "model_id": "7e04af4735fe402e96dc247e31ec1d67",
       "version_major": 2,
       "version_minor": 0
      },
      "text/plain": [
       "Inference:   0%|          | 0/1 [00:00<?, ?it/s]"
      ]
     },
     "metadata": {},
     "output_type": "display_data"
    },
    {
     "name": "stdout",
     "output_type": "stream",
     "text": [
      "The number of pairs is: 33\n",
      "\n",
      "The ground truth scores are: 0.32407407407407407\n",
      "\n"
     ]
    },
    {
     "name": "stderr",
     "output_type": "stream",
     "text": [
      "07/02/2024 17:24:32 - INFO - \t Tokenize 1 inputs...\n"
     ]
    },
    {
     "data": {
      "application/vnd.jupyter.widget-view+json": {
       "model_id": "ac64d2674e3246978f1809927ecabc08",
       "version_major": 2,
       "version_minor": 0
      },
      "text/plain": [
       "Map:   0%|          | 0/1 [00:00<?, ? examples/s]"
      ]
     },
     "metadata": {},
     "output_type": "display_data"
    },
    {
     "name": "stderr",
     "output_type": "stream",
     "text": [
      "07/02/2024 17:24:32 - INFO - \t ***** Running Inference on 1 texts *****\n"
     ]
    },
    {
     "data": {
      "application/vnd.jupyter.widget-view+json": {
       "model_id": "9465e27480574b109383a2aee63fc4c6",
       "version_major": 2,
       "version_minor": 0
      },
      "text/plain": [
       "Inference:   0%|          | 0/1 [00:00<?, ?it/s]"
      ]
     },
     "metadata": {},
     "output_type": "display_data"
    },
    {
     "name": "stdout",
     "output_type": "stream",
     "text": [
      "The number of pairs is: 21\n",
      "\n"
     ]
    },
    {
     "name": "stderr",
     "output_type": "stream",
     "text": [
      "07/02/2024 17:24:36 - INFO - \t Tokenize 1 inputs...\n"
     ]
    },
    {
     "data": {
      "application/vnd.jupyter.widget-view+json": {
       "model_id": "f2e3819e31194fe3b67b2c313f59fce9",
       "version_major": 2,
       "version_minor": 0
      },
      "text/plain": [
       "Map:   0%|          | 0/1 [00:00<?, ? examples/s]"
      ]
     },
     "metadata": {},
     "output_type": "display_data"
    },
    {
     "name": "stderr",
     "output_type": "stream",
     "text": [
      "07/02/2024 17:24:36 - INFO - \t ***** Running Inference on 1 texts *****\n"
     ]
    },
    {
     "data": {
      "application/vnd.jupyter.widget-view+json": {
       "model_id": "6fbe05242f8a4efb824db31264dc5983",
       "version_major": 2,
       "version_minor": 0
      },
      "text/plain": [
       "Inference:   0%|          | 0/1 [00:00<?, ?it/s]"
      ]
     },
     "metadata": {},
     "output_type": "display_data"
    },
    {
     "name": "stdout",
     "output_type": "stream",
     "text": [
      "The number of pairs is: 28\n",
      "\n",
      "The ground truth scores are: 0.46851851851851856\n",
      "\n"
     ]
    },
    {
     "name": "stderr",
     "output_type": "stream",
     "text": [
      "07/02/2024 17:24:44 - INFO - \t Tokenize 1 inputs...\n"
     ]
    },
    {
     "data": {
      "application/vnd.jupyter.widget-view+json": {
       "model_id": "176c55fd45ac419eb804525537f61c42",
       "version_major": 2,
       "version_minor": 0
      },
      "text/plain": [
       "Map:   0%|          | 0/1 [00:00<?, ? examples/s]"
      ]
     },
     "metadata": {},
     "output_type": "display_data"
    },
    {
     "name": "stderr",
     "output_type": "stream",
     "text": [
      "07/02/2024 17:24:44 - INFO - \t ***** Running Inference on 1 texts *****\n"
     ]
    },
    {
     "data": {
      "application/vnd.jupyter.widget-view+json": {
       "model_id": "cb18405a34f641fdb55cd994e664f854",
       "version_major": 2,
       "version_minor": 0
      },
      "text/plain": [
       "Inference:   0%|          | 0/1 [00:00<?, ?it/s]"
      ]
     },
     "metadata": {},
     "output_type": "display_data"
    },
    {
     "name": "stdout",
     "output_type": "stream",
     "text": [
      "The number of pairs is: 16\n",
      "\n"
     ]
    },
    {
     "name": "stderr",
     "output_type": "stream",
     "text": [
      "07/02/2024 17:24:57 - INFO - \t Tokenize 1 inputs...\n"
     ]
    },
    {
     "data": {
      "application/vnd.jupyter.widget-view+json": {
       "model_id": "82a2d275c79e405180f1a2557825582d",
       "version_major": 2,
       "version_minor": 0
      },
      "text/plain": [
       "Map:   0%|          | 0/1 [00:00<?, ? examples/s]"
      ]
     },
     "metadata": {},
     "output_type": "display_data"
    },
    {
     "name": "stderr",
     "output_type": "stream",
     "text": [
      "07/02/2024 17:24:58 - INFO - \t ***** Running Inference on 1 texts *****\n"
     ]
    },
    {
     "data": {
      "application/vnd.jupyter.widget-view+json": {
       "model_id": "50856323d50a4523a26b14871b3cd6ab",
       "version_major": 2,
       "version_minor": 0
      },
      "text/plain": [
       "Inference:   0%|          | 0/1 [00:00<?, ?it/s]"
      ]
     },
     "metadata": {},
     "output_type": "display_data"
    },
    {
     "name": "stdout",
     "output_type": "stream",
     "text": [
      "The number of pairs is: 45\n",
      "\n",
      "Query for Blood Divine: The Blood Divine was a British gothic metal band, founded in the summer of 1995 by Paul Allender , after Paul Allender, brothers Paul and Benjamin Ryan left Cradle of Filth during the recording of the \"V Empire (or Dark Faerytales in Phallustein)\" EP and ousted Anathema singer Darren White. didn't work: An unknown error occured: \"Search request is longer than the maximum allowed length. (Actual: 305; allowed: 300)\". Please report it on GitHub!\n",
      "The ground truth scores are: 0.4166666666666667\n",
      "\n"
     ]
    },
    {
     "name": "stderr",
     "output_type": "stream",
     "text": [
      "07/02/2024 17:25:07 - INFO - \t Tokenize 1 inputs...\n"
     ]
    },
    {
     "data": {
      "application/vnd.jupyter.widget-view+json": {
       "model_id": "829364a2434b44568b5f5272fe52272b",
       "version_major": 2,
       "version_minor": 0
      },
      "text/plain": [
       "Map:   0%|          | 0/1 [00:00<?, ? examples/s]"
      ]
     },
     "metadata": {},
     "output_type": "display_data"
    },
    {
     "name": "stderr",
     "output_type": "stream",
     "text": [
      "07/02/2024 17:25:07 - INFO - \t ***** Running Inference on 1 texts *****\n"
     ]
    },
    {
     "data": {
      "application/vnd.jupyter.widget-view+json": {
       "model_id": "ba2cd8353a7c4e84ab5fa6f1f7687ae9",
       "version_major": 2,
       "version_minor": 0
      },
      "text/plain": [
       "Inference:   0%|          | 0/1 [00:00<?, ?it/s]"
      ]
     },
     "metadata": {},
     "output_type": "display_data"
    },
    {
     "name": "stdout",
     "output_type": "stream",
     "text": [
      "The number of pairs is: 37\n",
      "\n"
     ]
    },
    {
     "name": "stderr",
     "output_type": "stream",
     "text": [
      "07/02/2024 17:25:12 - INFO - \t Tokenize 1 inputs...\n"
     ]
    },
    {
     "data": {
      "application/vnd.jupyter.widget-view+json": {
       "model_id": "672e1bb82f1247e4bb2c0f58704dced1",
       "version_major": 2,
       "version_minor": 0
      },
      "text/plain": [
       "Map:   0%|          | 0/1 [00:00<?, ? examples/s]"
      ]
     },
     "metadata": {},
     "output_type": "display_data"
    },
    {
     "name": "stderr",
     "output_type": "stream",
     "text": [
      "07/02/2024 17:25:12 - INFO - \t ***** Running Inference on 1 texts *****\n"
     ]
    },
    {
     "data": {
      "application/vnd.jupyter.widget-view+json": {
       "model_id": "ad125cc35d3247d48df5bc3220e2fff5",
       "version_major": 2,
       "version_minor": 0
      },
      "text/plain": [
       "Inference:   0%|          | 0/1 [00:00<?, ?it/s]"
      ]
     },
     "metadata": {},
     "output_type": "display_data"
    },
    {
     "name": "stdout",
     "output_type": "stream",
     "text": [
      "The number of pairs is: 75\n",
      "\n",
      "Query for minister: When a particularly senior minister challenged King Zhuang of Chu (died 591 BC) through a riddle, King Zhuang of Chu (died 591 BC) responded that King Zhuang of Chu (died 591 BC) had been waiting for three years for someone from King Zhuang of Chu (died 591 BC) court to show some nationalistic pride. didn't work: An unknown error occured: \"Search request is longer than the maximum allowed length. (Actual: 311; allowed: 300)\". Please report it on GitHub!\n",
      "The ground truth scores are: 0.724867724867725\n",
      "\n"
     ]
    },
    {
     "name": "stderr",
     "output_type": "stream",
     "text": [
      "07/02/2024 17:25:22 - INFO - \t Tokenize 1 inputs...\n"
     ]
    },
    {
     "data": {
      "application/vnd.jupyter.widget-view+json": {
       "model_id": "4aa65f03eb564065aba9286691b84ddb",
       "version_major": 2,
       "version_minor": 0
      },
      "text/plain": [
       "Map:   0%|          | 0/1 [00:00<?, ? examples/s]"
      ]
     },
     "metadata": {},
     "output_type": "display_data"
    },
    {
     "name": "stderr",
     "output_type": "stream",
     "text": [
      "07/02/2024 17:25:22 - INFO - \t ***** Running Inference on 1 texts *****\n"
     ]
    },
    {
     "data": {
      "application/vnd.jupyter.widget-view+json": {
       "model_id": "461ef1182b074aeba2716da894b08cfe",
       "version_major": 2,
       "version_minor": 0
      },
      "text/plain": [
       "Inference:   0%|          | 0/1 [00:00<?, ?it/s]"
      ]
     },
     "metadata": {},
     "output_type": "display_data"
    },
    {
     "name": "stdout",
     "output_type": "stream",
     "text": [
      "The number of pairs is: 9\n",
      "\n"
     ]
    },
    {
     "name": "stderr",
     "output_type": "stream",
     "text": [
      "07/02/2024 17:25:36 - INFO - \t Tokenize 1 inputs...\n"
     ]
    },
    {
     "data": {
      "application/vnd.jupyter.widget-view+json": {
       "model_id": "b8c5c5d1ba684e69ab99d65e2e108e0a",
       "version_major": 2,
       "version_minor": 0
      },
      "text/plain": [
       "Map:   0%|          | 0/1 [00:00<?, ? examples/s]"
      ]
     },
     "metadata": {},
     "output_type": "display_data"
    },
    {
     "name": "stderr",
     "output_type": "stream",
     "text": [
      "07/02/2024 17:25:36 - INFO - \t ***** Running Inference on 1 texts *****\n"
     ]
    },
    {
     "data": {
      "application/vnd.jupyter.widget-view+json": {
       "model_id": "17072dd285634b27ad6d9d0334ef3350",
       "version_major": 2,
       "version_minor": 0
      },
      "text/plain": [
       "Inference:   0%|          | 0/1 [00:00<?, ?it/s]"
      ]
     },
     "metadata": {},
     "output_type": "display_data"
    },
    {
     "name": "stdout",
     "output_type": "stream",
     "text": [
      "The number of pairs is: 21\n",
      "\n",
      "The ground truth scores are: 0.6666666666666666\n",
      "\n"
     ]
    },
    {
     "name": "stderr",
     "output_type": "stream",
     "text": [
      "07/02/2024 17:25:59 - INFO - \t Tokenize 1 inputs...\n"
     ]
    },
    {
     "data": {
      "application/vnd.jupyter.widget-view+json": {
       "model_id": "e69775a9e930475ab839cec5bad7a3bf",
       "version_major": 2,
       "version_minor": 0
      },
      "text/plain": [
       "Map:   0%|          | 0/1 [00:00<?, ? examples/s]"
      ]
     },
     "metadata": {},
     "output_type": "display_data"
    },
    {
     "name": "stderr",
     "output_type": "stream",
     "text": [
      "07/02/2024 17:25:59 - INFO - \t ***** Running Inference on 1 texts *****\n"
     ]
    },
    {
     "data": {
      "application/vnd.jupyter.widget-view+json": {
       "model_id": "01cd6b2f3937472f902f22cf2bcd55ff",
       "version_major": 2,
       "version_minor": 0
      },
      "text/plain": [
       "Inference:   0%|          | 0/1 [00:00<?, ?it/s]"
      ]
     },
     "metadata": {},
     "output_type": "display_data"
    },
    {
     "name": "stdout",
     "output_type": "stream",
     "text": [
      "The number of pairs is: 13\n",
      "\n"
     ]
    },
    {
     "name": "stderr",
     "output_type": "stream",
     "text": [
      "07/02/2024 17:26:04 - INFO - \t Tokenize 1 inputs...\n"
     ]
    },
    {
     "data": {
      "application/vnd.jupyter.widget-view+json": {
       "model_id": "87bfda329a7d428cb5e0e2b2af64f053",
       "version_major": 2,
       "version_minor": 0
      },
      "text/plain": [
       "Map:   0%|          | 0/1 [00:00<?, ? examples/s]"
      ]
     },
     "metadata": {},
     "output_type": "display_data"
    },
    {
     "name": "stderr",
     "output_type": "stream",
     "text": [
      "07/02/2024 17:26:04 - INFO - \t ***** Running Inference on 1 texts *****\n"
     ]
    },
    {
     "data": {
      "application/vnd.jupyter.widget-view+json": {
       "model_id": "5f8f992aeca04acda92a7868fd95bbaa",
       "version_major": 2,
       "version_minor": 0
      },
      "text/plain": [
       "Inference:   0%|          | 0/1 [00:00<?, ?it/s]"
      ]
     },
     "metadata": {},
     "output_type": "display_data"
    },
    {
     "name": "stdout",
     "output_type": "stream",
     "text": [
      "The number of pairs is: 41\n",
      "\n",
      "Query for identity: Despite the existence of Hendrik van Rheede's over the last three centuries, the correct taxonomic identity of many plants listed in Hortus Malabaricus , many plants listed in Hortus Malabaricus medicinal properties, methods of use, etc., as described and codified by renowned traditional medical authorities of 17th century India remained inaccessible to English language-based scholars, until Professor Kattungal Subramaniam Manilal commenced publication of research papers and books on the Latin botanical treatise Hortus Malabaricus . didn't work: An unknown error occured: \"Search request is longer than the maximum allowed length. (Actual: 548; allowed: 300)\". Please report it on GitHub!\n",
      "Query for scope: Whilst the scope of Professor Kattungal Subramaniam Manilal contributions to botany extend far beyond the research and publications around the Latin botanical treatise Hortus Malabaricus , Professor Kattungal Subramaniam Manilal research work on the Latin botanical treatise Hortus Malabaricus alone are of botanical and socio-historic significance, and can be broadly classified under two heads botanical and medicinal aspects of the Latin botanical treatise Hortus Malabaricus and historical, political, social, and linguistic aspects of the Latin botanical treatise Hortus Malabaricus . didn't work: An unknown error occured: \"Search request is longer than the maximum allowed length. (Actual: 596; allowed: 300)\". Please report it on GitHub!\n",
      "Query for Professor Kattungal Subramaniam Manilal: Professor Kattungal Subramaniam Manilal (born 17 September 1938) is an Emeritus of the University of Calicut, a botany scholar and taxonomist, who devoted over 35 years of Professor Kattungal Subramaniam Manilal life to research, translation, and annotation work of the Latin botanical treatise Hortus Malabaricus the Latin botanical treatise Hortus Malabaricus . didn't work: An unknown error occured: \"Search request is longer than the maximum allowed length. (Actual: 404; allowed: 300)\". Please report it on GitHub!\n",
      "Query for research: research, translation, and annotation work of the Latin botanical treatise Hortus Malabaricus brought to light the main contents of the Latin botanical treatise Hortus Malabaricus , a wealth of botanical information on Malabar that had largely remained inaccessible to English-speaking scholars, because the Latin botanical treatise Hortus Malabaricus was in the Latin language. didn't work: An unknown error occured: \"Search request is longer than the maximum allowed length. (Actual: 388; allowed: 300)\". Please report it on GitHub!\n",
      "The ground truth scores are: 1.0\n",
      "\n"
     ]
    },
    {
     "name": "stderr",
     "output_type": "stream",
     "text": [
      "07/02/2024 17:26:14 - INFO - \t Tokenize 1 inputs...\n"
     ]
    },
    {
     "data": {
      "application/vnd.jupyter.widget-view+json": {
       "model_id": "c6a8acbdedcf44e8b62a04d5f9197183",
       "version_major": 2,
       "version_minor": 0
      },
      "text/plain": [
       "Map:   0%|          | 0/1 [00:00<?, ? examples/s]"
      ]
     },
     "metadata": {},
     "output_type": "display_data"
    },
    {
     "name": "stderr",
     "output_type": "stream",
     "text": [
      "07/02/2024 17:26:14 - INFO - \t ***** Running Inference on 1 texts *****\n"
     ]
    },
    {
     "data": {
      "application/vnd.jupyter.widget-view+json": {
       "model_id": "95d20411d0ea41e1b56374952751ae30",
       "version_major": 2,
       "version_minor": 0
      },
      "text/plain": [
       "Inference:   0%|          | 0/1 [00:00<?, ?it/s]"
      ]
     },
     "metadata": {},
     "output_type": "display_data"
    },
    {
     "name": "stdout",
     "output_type": "stream",
     "text": [
      "The number of pairs is: 19\n",
      "\n"
     ]
    },
    {
     "name": "stderr",
     "output_type": "stream",
     "text": [
      "07/02/2024 17:26:28 - INFO - \t Tokenize 1 inputs...\n"
     ]
    },
    {
     "data": {
      "application/vnd.jupyter.widget-view+json": {
       "model_id": "106bb6f2fe5d47a590e6b46dff36ca32",
       "version_major": 2,
       "version_minor": 0
      },
      "text/plain": [
       "Map:   0%|          | 0/1 [00:00<?, ? examples/s]"
      ]
     },
     "metadata": {},
     "output_type": "display_data"
    },
    {
     "name": "stderr",
     "output_type": "stream",
     "text": [
      "07/02/2024 17:26:28 - INFO - \t ***** Running Inference on 1 texts *****\n"
     ]
    },
    {
     "data": {
      "application/vnd.jupyter.widget-view+json": {
       "model_id": "cf06a0aca1524b42bb23dedd4e45ba0a",
       "version_major": 2,
       "version_minor": 0
      },
      "text/plain": [
       "Inference:   0%|          | 0/1 [00:00<?, ?it/s]"
      ]
     },
     "metadata": {},
     "output_type": "display_data"
    },
    {
     "name": "stdout",
     "output_type": "stream",
     "text": [
      "The number of pairs is: 40\n",
      "\n"
     ]
    },
    {
     "name": "stderr",
     "output_type": "stream",
     "text": [
      "07/02/2024 17:26:33 - INFO - \t Tokenize 1 inputs...\n"
     ]
    },
    {
     "data": {
      "application/vnd.jupyter.widget-view+json": {
       "model_id": "584d0c2aa68f4b4ba7fb12004ba96ea3",
       "version_major": 2,
       "version_minor": 0
      },
      "text/plain": [
       "Map:   0%|          | 0/1 [00:00<?, ? examples/s]"
      ]
     },
     "metadata": {},
     "output_type": "display_data"
    },
    {
     "name": "stderr",
     "output_type": "stream",
     "text": [
      "07/02/2024 17:26:33 - INFO - \t ***** Running Inference on 1 texts *****\n"
     ]
    },
    {
     "data": {
      "application/vnd.jupyter.widget-view+json": {
       "model_id": "810273c008c646be9ce4b58398922e78",
       "version_major": 2,
       "version_minor": 0
      },
      "text/plain": [
       "Inference:   0%|          | 0/1 [00:00<?, ?it/s]"
      ]
     },
     "metadata": {},
     "output_type": "display_data"
    },
    {
     "name": "stdout",
     "output_type": "stream",
     "text": [
      "The number of pairs is: 13\n",
      "\n"
     ]
    },
    {
     "name": "stderr",
     "output_type": "stream",
     "text": [
      "07/02/2024 17:26:40 - INFO - \t Tokenize 1 inputs...\n"
     ]
    },
    {
     "data": {
      "application/vnd.jupyter.widget-view+json": {
       "model_id": "538f10238cef423ca4c6c2312be5809a",
       "version_major": 2,
       "version_minor": 0
      },
      "text/plain": [
       "Map:   0%|          | 0/1 [00:00<?, ? examples/s]"
      ]
     },
     "metadata": {},
     "output_type": "display_data"
    },
    {
     "name": "stderr",
     "output_type": "stream",
     "text": [
      "07/02/2024 17:26:40 - INFO - \t ***** Running Inference on 1 texts *****\n"
     ]
    },
    {
     "data": {
      "application/vnd.jupyter.widget-view+json": {
       "model_id": "26eb1878a5c74741adcc35ad66034997",
       "version_major": 2,
       "version_minor": 0
      },
      "text/plain": [
       "Inference:   0%|          | 0/1 [00:00<?, ?it/s]"
      ]
     },
     "metadata": {},
     "output_type": "display_data"
    },
    {
     "name": "stdout",
     "output_type": "stream",
     "text": [
      "The number of pairs is: 19\n",
      "\n",
      "The ground truth scores are: 0.5499999999999999\n",
      "\n"
     ]
    },
    {
     "name": "stderr",
     "output_type": "stream",
     "text": [
      "07/02/2024 17:26:47 - INFO - \t Tokenize 1 inputs...\n"
     ]
    },
    {
     "data": {
      "application/vnd.jupyter.widget-view+json": {
       "model_id": "06c97d79a8ba4af59ce2a11aae26c342",
       "version_major": 2,
       "version_minor": 0
      },
      "text/plain": [
       "Map:   0%|          | 0/1 [00:00<?, ? examples/s]"
      ]
     },
     "metadata": {},
     "output_type": "display_data"
    },
    {
     "name": "stderr",
     "output_type": "stream",
     "text": [
      "07/02/2024 17:26:47 - INFO - \t ***** Running Inference on 1 texts *****\n"
     ]
    },
    {
     "data": {
      "application/vnd.jupyter.widget-view+json": {
       "model_id": "4d8bf8197bc1450390554f9acb4ab5a8",
       "version_major": 2,
       "version_minor": 0
      },
      "text/plain": [
       "Inference:   0%|          | 0/1 [00:00<?, ?it/s]"
      ]
     },
     "metadata": {},
     "output_type": "display_data"
    },
    {
     "name": "stdout",
     "output_type": "stream",
     "text": [
      "The number of pairs is: 17\n",
      "\n"
     ]
    },
    {
     "ename": "KeyboardInterrupt",
     "evalue": "",
     "output_type": "error",
     "traceback": [
      "\u001b[0;31m---------------------------------------------------------------------------\u001b[0m",
      "\u001b[0;31mKeyboardInterrupt\u001b[0m                         Traceback (most recent call last)",
      "Cell \u001b[0;32mIn[79], line 32\u001b[0m\n\u001b[1;32m     28\u001b[0m \u001b[38;5;66;03m# print(ground_truth)\u001b[39;00m\n\u001b[1;32m     30\u001b[0m annotation \u001b[38;5;241m=\u001b[39m dataset[\u001b[38;5;124m\"\u001b[39m\u001b[38;5;124mevaluation\u001b[39m\u001b[38;5;124m\"\u001b[39m][i][\u001b[38;5;124m\"\u001b[39m\u001b[38;5;124mannotation\u001b[39m\u001b[38;5;124m\"\u001b[39m]\n\u001b[0;32m---> 32\u001b[0m sentences_scores, sentence_pairs_and_values , sentence_coref_sents\u001b[38;5;241m=\u001b[39m \u001b[43mscoring_parallel_version_wiki\u001b[49m\u001b[43m(\u001b[49m\u001b[43msentences\u001b[49m\u001b[43m)\u001b[49m\n\u001b[1;32m     33\u001b[0m ground_truth_scores, ground_pairs_and_values, ground_coref_sents \u001b[38;5;241m=\u001b[39m scoring_parallel_version_wiki(ground_truth)\n\u001b[1;32m     35\u001b[0m filename \u001b[38;5;241m=\u001b[39m os\u001b[38;5;241m.\u001b[39mpath\u001b[38;5;241m.\u001b[39mjoin(folder_name, \u001b[38;5;124mf\u001b[39m\u001b[38;5;124m\"\u001b[39m\u001b[38;5;124mentry_\u001b[39m\u001b[38;5;132;01m{\u001b[39;00mi\u001b[38;5;241m+\u001b[39m\u001b[38;5;241m1\u001b[39m\u001b[38;5;132;01m}\u001b[39;00m\u001b[38;5;124m.txt\u001b[39m\u001b[38;5;124m\"\u001b[39m)\n",
      "Cell \u001b[0;32mIn[75], line 30\u001b[0m, in \u001b[0;36mscoring_parallel_version_wiki\u001b[0;34m(text)\u001b[0m\n\u001b[1;32m     27\u001b[0m \u001b[38;5;28;01mdef\u001b[39;00m \u001b[38;5;21mscoring_parallel_version_wiki\u001b[39m(text):\n\u001b[1;32m     28\u001b[0m     \u001b[38;5;66;03m# print(text)\u001b[39;00m\n\u001b[1;32m     29\u001b[0m     pairs, final_sents, subject_set, subjects_with_context \u001b[38;5;241m=\u001b[39m get_sentence_based_links_wiki(text)\n\u001b[0;32m---> 30\u001b[0m     subject_dict, subject_word_dict \u001b[38;5;241m=\u001b[39m \u001b[43msubjects_direct_links_wiki_fast\u001b[49m\u001b[43m(\u001b[49m\u001b[43msubjects_with_context\u001b[49m\u001b[43m)\u001b[49m\n\u001b[1;32m     32\u001b[0m     \u001b[38;5;66;03m# print(subject_set)\u001b[39;00m\n\u001b[1;32m     34\u001b[0m     \u001b[38;5;28;01mif\u001b[39;00m \u001b[38;5;129;01mnot\u001b[39;00m pairs:\n",
      "Cell \u001b[0;32mIn[63], line 31\u001b[0m, in \u001b[0;36msubjects_direct_links_wiki_fast\u001b[0;34m(subject_with_context)\u001b[0m\n\u001b[1;32m     29\u001b[0m \u001b[38;5;28;01mwith\u001b[39;00m ThreadPoolExecutor() \u001b[38;5;28;01mas\u001b[39;00m executor:\n\u001b[1;32m     30\u001b[0m     futures \u001b[38;5;241m=\u001b[39m [executor\u001b[38;5;241m.\u001b[39msubmit(process_subject, pair) \u001b[38;5;28;01mfor\u001b[39;00m pair \u001b[38;5;129;01min\u001b[39;00m subject_with_context]\n\u001b[0;32m---> 31\u001b[0m     \u001b[38;5;28;01mfor\u001b[39;00m future \u001b[38;5;129;01min\u001b[39;00m as_completed(futures):\n\u001b[1;32m     32\u001b[0m         subject, encoded_data, links \u001b[38;5;241m=\u001b[39m future\u001b[38;5;241m.\u001b[39mresult()\n\u001b[1;32m     33\u001b[0m         \u001b[38;5;28;01mif\u001b[39;00m encoded_data \u001b[38;5;129;01mis\u001b[39;00m \u001b[38;5;129;01mnot\u001b[39;00m \u001b[38;5;28;01mNone\u001b[39;00m:\n",
      "File \u001b[0;32m/opt/miniconda3/envs/myenv/lib/python3.9/concurrent/futures/_base.py:245\u001b[0m, in \u001b[0;36mas_completed\u001b[0;34m(fs, timeout)\u001b[0m\n\u001b[1;32m    240\u001b[0m     \u001b[38;5;28;01mif\u001b[39;00m wait_timeout \u001b[38;5;241m<\u001b[39m \u001b[38;5;241m0\u001b[39m:\n\u001b[1;32m    241\u001b[0m         \u001b[38;5;28;01mraise\u001b[39;00m \u001b[38;5;167;01mTimeoutError\u001b[39;00m(\n\u001b[1;32m    242\u001b[0m                 \u001b[38;5;124m'\u001b[39m\u001b[38;5;132;01m%d\u001b[39;00m\u001b[38;5;124m (of \u001b[39m\u001b[38;5;132;01m%d\u001b[39;00m\u001b[38;5;124m) futures unfinished\u001b[39m\u001b[38;5;124m'\u001b[39m \u001b[38;5;241m%\u001b[39m (\n\u001b[1;32m    243\u001b[0m                 \u001b[38;5;28mlen\u001b[39m(pending), total_futures))\n\u001b[0;32m--> 245\u001b[0m \u001b[43mwaiter\u001b[49m\u001b[38;5;241;43m.\u001b[39;49m\u001b[43mevent\u001b[49m\u001b[38;5;241;43m.\u001b[39;49m\u001b[43mwait\u001b[49m\u001b[43m(\u001b[49m\u001b[43mwait_timeout\u001b[49m\u001b[43m)\u001b[49m\n\u001b[1;32m    247\u001b[0m \u001b[38;5;28;01mwith\u001b[39;00m waiter\u001b[38;5;241m.\u001b[39mlock:\n\u001b[1;32m    248\u001b[0m     finished \u001b[38;5;241m=\u001b[39m waiter\u001b[38;5;241m.\u001b[39mfinished_futures\n",
      "File \u001b[0;32m/opt/miniconda3/envs/myenv/lib/python3.9/threading.py:581\u001b[0m, in \u001b[0;36mEvent.wait\u001b[0;34m(self, timeout)\u001b[0m\n\u001b[1;32m    579\u001b[0m signaled \u001b[38;5;241m=\u001b[39m \u001b[38;5;28mself\u001b[39m\u001b[38;5;241m.\u001b[39m_flag\n\u001b[1;32m    580\u001b[0m \u001b[38;5;28;01mif\u001b[39;00m \u001b[38;5;129;01mnot\u001b[39;00m signaled:\n\u001b[0;32m--> 581\u001b[0m     signaled \u001b[38;5;241m=\u001b[39m \u001b[38;5;28;43mself\u001b[39;49m\u001b[38;5;241;43m.\u001b[39;49m\u001b[43m_cond\u001b[49m\u001b[38;5;241;43m.\u001b[39;49m\u001b[43mwait\u001b[49m\u001b[43m(\u001b[49m\u001b[43mtimeout\u001b[49m\u001b[43m)\u001b[49m\n\u001b[1;32m    582\u001b[0m \u001b[38;5;28;01mreturn\u001b[39;00m signaled\n",
      "File \u001b[0;32m/opt/miniconda3/envs/myenv/lib/python3.9/threading.py:312\u001b[0m, in \u001b[0;36mCondition.wait\u001b[0;34m(self, timeout)\u001b[0m\n\u001b[1;32m    310\u001b[0m \u001b[38;5;28;01mtry\u001b[39;00m:    \u001b[38;5;66;03m# restore state no matter what (e.g., KeyboardInterrupt)\u001b[39;00m\n\u001b[1;32m    311\u001b[0m     \u001b[38;5;28;01mif\u001b[39;00m timeout \u001b[38;5;129;01mis\u001b[39;00m \u001b[38;5;28;01mNone\u001b[39;00m:\n\u001b[0;32m--> 312\u001b[0m         \u001b[43mwaiter\u001b[49m\u001b[38;5;241;43m.\u001b[39;49m\u001b[43macquire\u001b[49m\u001b[43m(\u001b[49m\u001b[43m)\u001b[49m\n\u001b[1;32m    313\u001b[0m         gotit \u001b[38;5;241m=\u001b[39m \u001b[38;5;28;01mTrue\u001b[39;00m\n\u001b[1;32m    314\u001b[0m     \u001b[38;5;28;01melse\u001b[39;00m:\n",
      "\u001b[0;31mKeyboardInterrupt\u001b[0m: "
     ]
    }
   ],
   "source": [
    "folder_name = \"Output\"\n",
    "\n",
    "if not os.path.exists(folder_name):\n",
    "        os.makedirs(folder_name)\n",
    "\n",
    "for i in tqdm(range(0,100), desc=\"Processing entries\", unit=\"entry\"):\n",
    "    list_of_sentences = (dataset[\"evaluation\"][i][\"gpt3_sentences\"])\n",
    "    sentences = ''''''\n",
    "    for s in list_of_sentences:\n",
    "        tmp = preprocess_text(s)\n",
    "        if tmp[-1]!='.':\n",
    "            tmp+='.'\n",
    "        sentences = sentences + tmp + \"\\n\" \n",
    "        \n",
    "    # sentences = sentences.strip()\n",
    "    # raw = dataset[\"evaluation\"][i][\"wiki_bio_text\"]\n",
    "    \n",
    "    ground_truth_doc = preprocessing(dataset[\"evaluation\"][i][\"wiki_bio_text\"])\n",
    "    ground_truth = ''''''\n",
    "    for sent in ground_truth_doc.sents:\n",
    "        temp = preprocess_text(sent.text.strip())  \n",
    "        if temp:\n",
    "            if temp[-1] not in '.!?': \n",
    "                temp += '.'\n",
    "            ground_truth += temp + \"\\n\"\n",
    "\n",
    "    ground_truth = ground_truth.strip()\n",
    "    # print(ground_truth)\n",
    "    \n",
    "    annotation = dataset[\"evaluation\"][i][\"annotation\"]\n",
    "    \n",
    "    sentences_scores, sentence_pairs_and_values , sentence_coref_sents= scoring_parallel_version_wiki(sentences)\n",
    "    ground_truth_scores, ground_pairs_and_values, ground_coref_sents = scoring_parallel_version_wiki(ground_truth)\n",
    "        \n",
    "    filename = os.path.join(folder_name, f\"entry_{i+1}.txt\")\n",
    "    with open(filename, 'w') as file:\n",
    "        file.write(\"#############SENTENCE_PAIRS############\\n\\n\")\n",
    "        for x in range(len(sentence_pairs_and_values)):\n",
    "            file.write(f\"{sentence_pairs_and_values[x][0]} and {sentence_pairs_and_values[x][1]} and the value is : {sentence_pairs_and_values[x][2]}\\n\")\n",
    "        file.write(\"\\n\")\n",
    "        file.write(\"#############GROUND_PAIRS############\\n\\n\")\n",
    "        for x in range(len(ground_pairs_and_values)):\n",
    "            file.write(f\"{ground_pairs_and_values[x][0]} and {ground_pairs_and_values[x][1]} and the value is : {ground_pairs_and_values[x][2]}\\n\")\n",
    "        file.write(\"\\n\\n\")\n",
    "        file.write(\"%%%%%%%%%%%%%%%%%%%%SENTENCES%%%%%%%%%%%%%%%%%\\n\")\n",
    "        file.write(f\"Sentences : \\n\\n{sentences}\\n\\n\")\n",
    "        file.write(f\"Coref Resolved: \\n\\n\")\n",
    "        for y,x in enumerate(sentence_coref_sents):\n",
    "            file.write(f\"{y}. {x}\\n\")\n",
    "        file.write(\"\\n\")\n",
    "        file.write(\"\\n\")\n",
    "        file.write(\"%%%%%%%%%%%%%%%%%%%%GROUND_TRUTH%%%%%%%%%%%%%%%\\n\")\n",
    "        file.write(f\"Ground Truth : \\n\\n{ground_truth} \\n\\n\")\n",
    "        file.write(f\"Coref Resolved: \\n\\n\")\n",
    "        for y,x in enumerate(ground_coref_sents):\n",
    "            file.write(f\"{y}. {x}\\n\")\n",
    "        file.write(\"\\n\")\n",
    "        file.write(\"%%%%%%%%%%%%%%%%%%%%FRACTIONS%%%%%%%%%%%%%%%%%%\\n\")\n",
    "        file.write(f\"Value for sentences is : \\n\")\n",
    "        for x in sentences_scores:\n",
    "            file.write(f\"{x} \")\n",
    "        file.write(\"\\n\")\n",
    "        file.write(\"\\n\")\n",
    "        file.write(f\"Value for ground truth is : \\n\")\n",
    "        for x in ground_truth_scores:\n",
    "            file.write(f\"{x} \")\n",
    "        file.write(\"\\n\\n\")\n",
    "        file.write(\"%%%%%%%%%%%%%%%%%%%%ANNOTATIONS%%%%%%%%%%%%%%%%\\n\")\n",
    "        for x in annotation:\n",
    "            file.write(f\"{x} \")\n",
    "        file.write(\"\\n\\n\")\n",
    "        \n",
    "    \n",
    "    if len(ground_truth)>0:\n",
    "        print(f\"The ground truth scores are: {suma/leng}\\n\")\n",
    "\n",
    "    if (len(ground_truth))>0 and (sum(ground_truth)/len(ground_truth))>0.1:\n",
    "        if len(sentences_scores)!=len(annotation):\n",
    "            continue\n",
    "        for scores in ground_truth_scores:\n",
    "            if scores==-1:\n",
    "                continue\n",
    "            else:\n",
    "                accurate.append(scores)\n",
    "        for t,score in enumerate(sentences_scores):\n",
    "            if score==-1:\n",
    "                continue\n",
    "            if annotation[t-1]==\"accurate\":\n",
    "                accurate.append(score) \n",
    "            elif annotation[t-1]==\"minor_inaccurate\":\n",
    "                minor_inaccurate.append(score)\n",
    "            elif annotation[t-1]==\"major_inaccurate\":\n",
    "                major_inaccurate.append(score)"
   ]
  },
  {
   "cell_type": "code",
   "execution_count": null,
   "metadata": {},
   "outputs": [],
   "source": [
    "text = \"\"\"Empowering Rural Youth through Skill Development:\n",
    "\n",
    "The partnership between CSC Academy and Oil India aims to empower rural youth through skill development by providing online training for government exams, promoting digital literacy, and enhancing job-oriented education. This initiative is designed to equip rural youth with the necessary skills to thrive in the evolving job market and improve their overall quality of life.\n",
    "\n",
    "Empowering Rural Youth through Skill Development: Partnership Between CSC Academy and Oil India In the contemporary era of globalization and rapid changes, the imperative for \"Kaushal Bharat - Kushal Bharat\" has become paramount. Recognizing the need for job-oriented education in villages, CSC Academy has taken a significant step by forging a partnership with Oil India Ltd. This collaboration aims to provide online training for Central and State-level government exams through the Sarkari Pariksha platform. A total of 4,500 candidates from rural areas will be enrolled and trained. The initiative is poised to empower rural youth, aligning their skills with the demands of the job market and thereby enhancing their overall quality of life, as well as access to education and skill development. Ranjan Goswami, CGM of Oil India Ltd., expressed enthusiasm about digitally empowering individuals in the remotest parts of the country, aligning with the company's mission. The partnership with CSC Academy is viewed as a significant step towards reaching more people and providing them with valuable skills, job-oriented education, and knowledge on how to promote computer literacy. Naveen Sharma, Chief Operating Officer of CSC Academy, highlighted the importance of skilled individuals as a foundation for national and societal growth within the digital economy. The collaboration with Oil India aims to promote digital literacy and skill development across India, focusing on enabling every youth in even the remotest areas to become self-reliant. Skills are envisioned to become an integral part of the lives of individuals in rural India. This partnership between CSC Academy and Oil India marks a significant step towards transforming rural communities by providing them with the tools to promote digital literacy in the classroom and resources to thrive in the evolving job market.\n",
    "\n",
    "How to register for it?\"\"\""
   ]
  },
  {
   "cell_type": "code",
   "execution_count": null,
   "metadata": {},
   "outputs": [],
   "source": [
    "coreference_resolution(text)"
   ]
  },
  {
   "cell_type": "code",
   "execution_count": 84,
   "metadata": {},
   "outputs": [
    {
     "data": {
      "text/plain": [
       "0.6171428571428571"
      ]
     },
     "execution_count": 84,
     "metadata": {},
     "output_type": "execute_result"
    }
   ],
   "source": [
    "sum(accurate)/len(accurate)"
   ]
  },
  {
   "cell_type": "code",
   "execution_count": 85,
   "metadata": {},
   "outputs": [
    {
     "data": {
      "text/plain": [
       "235"
      ]
     },
     "execution_count": 85,
     "metadata": {},
     "output_type": "execute_result"
    }
   ],
   "source": [
    "len(accurate)"
   ]
  },
  {
   "cell_type": "code",
   "execution_count": 86,
   "metadata": {},
   "outputs": [
    {
     "data": {
      "text/plain": [
       "0.5171580671580671"
      ]
     },
     "execution_count": 86,
     "metadata": {},
     "output_type": "execute_result"
    }
   ],
   "source": [
    "sum(minor_inaccurate)/len(minor_inaccurate)"
   ]
  },
  {
   "cell_type": "code",
   "execution_count": 87,
   "metadata": {},
   "outputs": [
    {
     "data": {
      "text/plain": [
       "37"
      ]
     },
     "execution_count": 87,
     "metadata": {},
     "output_type": "execute_result"
    }
   ],
   "source": [
    "len(minor_inaccurate)"
   ]
  },
  {
   "cell_type": "code",
   "execution_count": 88,
   "metadata": {},
   "outputs": [
    {
     "data": {
      "text/plain": [
       "0.5326666666666666"
      ]
     },
     "execution_count": 88,
     "metadata": {},
     "output_type": "execute_result"
    }
   ],
   "source": [
    "sum(major_inaccurate)/len(major_inaccurate)"
   ]
  },
  {
   "cell_type": "code",
   "execution_count": 89,
   "metadata": {},
   "outputs": [
    {
     "data": {
      "text/plain": [
       "50"
      ]
     },
     "execution_count": 89,
     "metadata": {},
     "output_type": "execute_result"
    }
   ],
   "source": [
    "len(major_inaccurate)"
   ]
  }
 ],
 "metadata": {
  "kernelspec": {
   "display_name": "Python 3",
   "language": "python",
   "name": "python3"
  },
  "language_info": {
   "codemirror_mode": {
    "name": "ipython",
    "version": 3
   },
   "file_extension": ".py",
   "mimetype": "text/x-python",
   "name": "python",
   "nbconvert_exporter": "python",
   "pygments_lexer": "ipython3",
   "version": "3.9.15"
  }
 },
 "nbformat": 4,
 "nbformat_minor": 2
}
